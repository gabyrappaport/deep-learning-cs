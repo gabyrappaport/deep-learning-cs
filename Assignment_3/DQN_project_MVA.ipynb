{
  "nbformat": 4,
  "nbformat_minor": 0,
  "metadata": {
    "colab": {
      "name": "DQN_project_MVA.ipynb",
      "version": "0.3.2",
      "provenance": []
    },
    "kernelspec": {
      "display_name": "Python 3",
      "language": "python",
      "name": "python3"
    }
  },
  "cells": [
    {
      "metadata": {
        "id": "gkZm_xO8e8PG",
        "colab_type": "text"
      },
      "cell_type": "markdown",
      "source": [
        "**You may need to install [OpenCV](https://pypi.python.org/pypi/opencv-python) and [scikit-video](http://www.scikit-video.org/stable/).**"
      ]
    },
    {
      "metadata": {
        "id": "IpkYijTxe8PI",
        "colab_type": "code",
        "colab": {
          "base_uri": "https://localhost:8080/",
          "height": 207
        },
        "outputId": "f205d338-a31a-4f92-9665-ccc23b08448d"
      },
      "cell_type": "code",
      "source": [
        "import keras\n",
        "import numpy as np\n",
        "import io\n",
        "import base64\n",
        "from IPython.display import HTML\n",
        "\n",
        "### IMPORT SKVIDEO FOR GOOGLE COLAB\n",
        "!pip3 install scikit-video\n",
        "!apt-get install ffmpeg\n",
        "# check installation path with \n",
        "# ```which ffmpeg```\n",
        "# ```which ffprobe```\n",
        "\n",
        "import skvideo\n",
        "skvideo.setFFmpegPath(\"/usr/bin\")\n",
        "import skvideo.io\n",
        "\n",
        "# ```pip3 install opencv-python```\n",
        "import cv2\n",
        "import json\n",
        "\n",
        "from keras.models import Sequential,model_from_json\n",
        "from keras.layers.core import Dense\n",
        "from keras.optimizers import sgd\n",
        "from keras.layers import Conv2D, MaxPooling2D, Activation, AveragePooling2D,Reshape,BatchNormalization"
      ],
      "execution_count": 2,
      "outputs": [
        {
          "output_type": "stream",
          "text": [
            "Requirement already satisfied: scikit-video in /usr/local/lib/python3.6/dist-packages (1.1.11)\n",
            "Requirement already satisfied: scipy in /usr/local/lib/python3.6/dist-packages (from scikit-video) (1.1.0)\n",
            "Requirement already satisfied: pillow in /usr/local/lib/python3.6/dist-packages (from scikit-video) (4.0.0)\n",
            "Requirement already satisfied: numpy in /usr/local/lib/python3.6/dist-packages (from scikit-video) (1.14.6)\n",
            "Requirement already satisfied: olefile in /usr/local/lib/python3.6/dist-packages (from pillow->scikit-video) (0.46)\n",
            "Reading package lists... Done\n",
            "Building dependency tree       \n",
            "Reading state information... Done\n",
            "ffmpeg is already the newest version (7:3.4.4-0ubuntu0.18.04.1).\n",
            "0 upgraded, 0 newly installed, 0 to remove and 8 not upgraded.\n"
          ],
          "name": "stdout"
        }
      ]
    },
    {
      "metadata": {
        "id": "IcFJdpaPe8PO",
        "colab_type": "text"
      },
      "cell_type": "markdown",
      "source": [
        "# MiniProject #3: Deep Reinforcement Learning"
      ]
    },
    {
      "metadata": {
        "id": "W146PxAze8PP",
        "colab_type": "text"
      },
      "cell_type": "markdown",
      "source": [
        "__Notations__: $E_p$ is the expectation under probability $p$. Please justify each of your answer and widely comment your code."
      ]
    },
    {
      "metadata": {
        "id": "01DHN4_-e8PR",
        "colab_type": "text"
      },
      "cell_type": "markdown",
      "source": [
        "# Context"
      ]
    },
    {
      "metadata": {
        "id": "34wlXXrOe8PS",
        "colab_type": "text"
      },
      "cell_type": "markdown",
      "source": [
        "In a reinforcement learning algorithm, we modelize each step $t$ as an action $a_t$ obtained from a state $s_t$, i.e. $\\{(a_{t},s_{t})_{t\\leq T}\\}$ having the Markov property. We consider a discount factor $\\gamma \\in [0,1]$ that ensures convergence. The goal is to find among all the policies $\\pi$, one that maximizes the expected reward:\n",
        "\n",
        "\\begin{equation*}\n",
        "R(\\pi)=\\sum_{t\\leq T}E_{p^{\\pi}}[\\gamma^t r(s_{t},a_{t})] \\> ,\n",
        "\\end{equation*}\n",
        "\n",
        "where: \n",
        "\\begin{equation*}p^{\\pi}(a_{0},a_{1},s_{1},...,a_{T},s_{T})=p(a_{0})\\prod_{t=1}^{T}\\pi(a_{t}|s_{t})p(s_{t+1}|s_{t},a_{t}) \\> .\n",
        "\\end{equation*}\n",
        "\n",
        "We note the $Q$-function:\n",
        "\n",
        "\\begin{equation*}Q^\\pi(s,a)=E_{p^{\\pi}}[\\sum_{t\\leq T}\\gamma^{t}r(s_{t},a_{t})|s_{0}=s,a_{0}=a] \\> .\n",
        "\\end{equation*}\n",
        "\n",
        "Thus, the optimal Q function is:\n",
        "\\begin{equation*}\n",
        "Q^*(s,a)=\\max_{\\pi}Q^\\pi(s,a) \\> .\n",
        "\\end{equation*}\n",
        "\n",
        "In this project, we will apply the deep reinforcement learning techniques to a simple game: an agent will have to learn from scratch a policy that will permit it maximizing a reward."
      ]
    },
    {
      "metadata": {
        "id": "TkjhXJoje8PU",
        "colab_type": "text"
      },
      "cell_type": "markdown",
      "source": [
        "## The environment, the agent and the game"
      ]
    },
    {
      "metadata": {
        "id": "9OFr8vdre8PV",
        "colab_type": "text"
      },
      "cell_type": "markdown",
      "source": [
        "### The environment"
      ]
    },
    {
      "metadata": {
        "id": "vhBW7lB9e8PW",
        "colab_type": "text"
      },
      "cell_type": "markdown",
      "source": [
        "```Environment``` is an abstract class that represents the states, rewards, and actions to obtain the new state."
      ]
    },
    {
      "metadata": {
        "id": "ka3EfOcRe8PX",
        "colab_type": "code",
        "colab": {}
      },
      "cell_type": "code",
      "source": [
        "class Environment(object):\n",
        "    def __init__(self):\n",
        "        pass\n",
        "\n",
        "    def act(self, act):\n",
        "        \"\"\"\n",
        "        One can act on the environment and obtain its reaction:\n",
        "        - the new state\n",
        "        - the reward of the new state\n",
        "        - should we continue the game?\n",
        "\n",
        "        :return: state, reward, game_over\n",
        "        \"\"\"\n",
        "        pass\n",
        "\n",
        "\n",
        "    def reset(self):\n",
        "        \"\"\"\n",
        "        Reinitialize the environment to a random state and returns\n",
        "        the original state\n",
        "\n",
        "        :return: state\n",
        "        \"\"\"\n",
        "        pass\n",
        "    \n",
        "    def draw(self):\n",
        "        \"\"\"\n",
        "        Visualize in the console or graphically the current state\n",
        "        \"\"\"\n",
        "        pass"
      ],
      "execution_count": 0,
      "outputs": []
    },
    {
      "metadata": {
        "id": "l2H9fJiDe8Pa",
        "colab_type": "text"
      },
      "cell_type": "markdown",
      "source": [
        "The method ```act``` allows to act on the environment at a given state $s_t$ (stored internally), via action $a_t$. The method will return the new state $s_{t+1}$, the reward $r(s_{t},a_{t})$ and determines if $t\\leq T$ (*game_over*).\n",
        "\n",
        "The method ```reset``` simply reinitializes the environment to a random state $s_0$.\n",
        "\n",
        "The method ```draw``` displays the current state $s_t$ (this is useful to check the behavior of the Agent).\n",
        "\n",
        "We modelize $s_t$ as a tensor, while $a_t$ is an integer."
      ]
    },
    {
      "metadata": {
        "id": "TYDJ2AUze8Pb",
        "colab_type": "text"
      },
      "cell_type": "markdown",
      "source": [
        "### The Agent"
      ]
    },
    {
      "metadata": {
        "id": "bhEqpBsde8Pc",
        "colab_type": "text"
      },
      "cell_type": "markdown",
      "source": [
        "The goal of the ```Agent``` is to interact with the ```Environment``` by proposing actions $a_t$ obtained from a given state $s_t$ to attempt to maximize its __reward__ $r(s_t,a_t)$. We propose the following abstract class:"
      ]
    },
    {
      "metadata": {
        "id": "MePlYwpee8Pd",
        "colab_type": "code",
        "colab": {}
      },
      "cell_type": "code",
      "source": [
        "class Agent(object):\n",
        "    def __init__(self, epsilon=0.1, n_action=4):\n",
        "        self.epsilon = epsilon\n",
        "        self.n_action = n_action\n",
        "    \n",
        "    def set_epsilon(self,e):\n",
        "        self.epsilon = e\n",
        "\n",
        "    def act(self,s,train=True):\n",
        "        \"\"\" This function should return the next action to do:\n",
        "        an integer between 0 and 4 (not included) with a random exploration of epsilon\"\"\"\n",
        "        if train:\n",
        "            if np.random.rand() <= self.epsilon:\n",
        "                a = np.random.randint(0, self.n_action, size=1)[0]\n",
        "            else:\n",
        "                a = self.learned_act(s)\n",
        "        else: # in some cases, this can improve the performance.. remove it if poor performances\n",
        "            a = self.learned_act(s)\n",
        "\n",
        "        return a\n",
        "\n",
        "    def learned_act(self,s):\n",
        "        \"\"\" Act via the policy of the agent, from a given state s\n",
        "        it proposes an action a\"\"\"\n",
        "        pass\n",
        "\n",
        "    def reinforce(self, s, n_s, a, r, game_over_):\n",
        "        \"\"\" This function is the core of the learning algorithm. \n",
        "        It takes as an input the current state s_, the next state n_s_\n",
        "        the action a_ used to move from s_ to n_s_ and the reward r_.\n",
        "        \n",
        "        Its goal is to learn a policy.\n",
        "        \"\"\"\n",
        "        pass\n",
        "\n",
        "    def save(self):\n",
        "        \"\"\" This function returns basic stats if applicable: the\n",
        "        loss and/or the model\"\"\"\n",
        "        pass\n",
        "\n",
        "    def load(self):\n",
        "        \"\"\" This function allows to restore a model\"\"\"\n",
        "        pass"
      ],
      "execution_count": 0,
      "outputs": []
    },
    {
      "metadata": {
        "id": "yBvzjGoSe8Pg",
        "colab_type": "text"
      },
      "cell_type": "markdown",
      "source": [
        "***\n",
        "__Question 1__:\n",
        "Explain the function act. Why is ```epsilon``` essential?"
      ]
    },
    {
      "metadata": {
        "id": "VGlaTpnoe8Ph",
        "colab_type": "text"
      },
      "cell_type": "markdown",
      "source": [
        "The `act` function aims is to make a decision on which state explore next. For this we are using what is called a epsilon-greedy algorithm. \n",
        "\n",
        "At each step, the algorithm have two options. For a random float $r_f$ taken between 0 and 1, we can either choose a random action if $r_f \\leq$ `epsilon`, or we can choose an action from previously learned acts.\n",
        "\n",
        "This exploration variable set the ability of the algorithm to explore new posibilities or to use its knowledge from the past. If too high, we will not be able to explore new behaviours and learn new actions, if too low, we will not learn anything and will just explore in an *amnesic random way*."
      ]
    },
    {
      "metadata": {
        "id": "ZBz6zH-ve8Pi",
        "colab_type": "text"
      },
      "cell_type": "markdown",
      "source": [
        "***\n",
        "### The Game"
      ]
    },
    {
      "metadata": {
        "id": "mWX52Gx5e8Pj",
        "colab_type": "text"
      },
      "cell_type": "markdown",
      "source": [
        "The ```Agent``` and the ```Environment``` work in an interlaced way as in the following (take some time to understand this code as it is the core of the project)\n",
        "\n",
        "```python\n",
        "\n",
        "epoch = 300\n",
        "env = Environment()\n",
        "agent = Agent()\n",
        "\n",
        "\n",
        "# Number of won games\n",
        "score = 0\n",
        "loss = 0\n",
        "\n",
        "\n",
        "for e in range(epoch):\n",
        "    # At each epoch, we restart to a fresh game and get the initial state\n",
        "    state = env.reset()\n",
        "    # This assumes that the games will end\n",
        "    game_over = False\n",
        "\n",
        "    win = 0\n",
        "    lose = 0\n",
        "    \n",
        "    while not game_over:\n",
        "        # The agent performs an action\n",
        "        action = agent.act(state)\n",
        "\n",
        "        # Apply an action to the environment, get the next state, the reward\n",
        "        # and if the games end\n",
        "        prev_state = state\n",
        "        state, reward, game_over = env.act(action)\n",
        "\n",
        "        # Update the counters\n",
        "        if reward > 0:\n",
        "            win = win + reward\n",
        "        if reward < 0:\n",
        "            lose = lose -reward\n",
        "\n",
        "        # Apply the reinforcement strategy\n",
        "        loss = agent.reinforce(prev_state, state,  action, reward, game_over)\n",
        "\n",
        "    # Save as a mp4\n",
        "    if e % 10 == 0:\n",
        "        env.draw(e)\n",
        "\n",
        "    # Update stats\n",
        "    score += win-lose\n",
        "\n",
        "    print(\"Epoch {:03d}/{:03d} | Loss {:.4f} | Win/lose count {}/{} ({})\"\n",
        "          .format(e, epoch, loss, win, lose, win-lose))\n",
        "    agent.save()\n",
        "```"
      ]
    },
    {
      "metadata": {
        "id": "Mf6mszNUe8Pl",
        "colab_type": "text"
      },
      "cell_type": "markdown",
      "source": [
        "# The game, *eat cheese*"
      ]
    },
    {
      "metadata": {
        "id": "1LnSKJOye8Pn",
        "colab_type": "text"
      },
      "cell_type": "markdown",
      "source": [
        "A rat runs on an island and tries to eat as much as possible. The island is subdivided into $N\\times N$ cells, in which there are cheese (+0.5) and poisonous cells (-1). The rat has a visibility of 2 cells (thus it can see $5^2$ cells). The rat is given a time $T$ to accumulate as much food as possible. It can perform 4 actions: going up, down, left, right. \n",
        "\n",
        "The goal is to code an agent to solve this task that will learn by trial and error. We propose the following environment:"
      ]
    },
    {
      "metadata": {
        "id": "78D8rdbTe8Pp",
        "colab_type": "code",
        "colab": {}
      },
      "cell_type": "code",
      "source": [
        "class Environment(object):\n",
        "    def __init__(self, grid_size=10, max_time=500, temperature=0.1):\n",
        "        grid_size = grid_size+4\n",
        "        self.grid_size = grid_size\n",
        "        self.max_time = max_time\n",
        "        self.temperature = temperature\n",
        "\n",
        "        #board on which one plays\n",
        "        self.board = np.zeros((grid_size,grid_size))\n",
        "        self.position = np.zeros((grid_size,grid_size))\n",
        "\n",
        "        # coordinate of the cat\n",
        "        self.x = 0\n",
        "        self.y = 1\n",
        "\n",
        "        # self time\n",
        "        self.t = 0\n",
        "\n",
        "        self.scale=16\n",
        "\n",
        "        self.to_draw = np.zeros((max_time+2, grid_size*self.scale, grid_size*self.scale, 3))\n",
        "\n",
        "\n",
        "    def draw(self,e):\n",
        "        skvideo.io.vwrite(str(e) + '.mp4', self.to_draw)\n",
        "\n",
        "    def get_frame(self,t):\n",
        "        b = np.zeros((self.grid_size,self.grid_size,3))+128\n",
        "        b[self.board>0,0] = 256\n",
        "        b[self.board < 0, 2] = 256\n",
        "        b[self.x,self.y,:]=256\n",
        "        b[-2:,:,:]=0\n",
        "        b[:,-2:,:]=0\n",
        "        b[:2,:,:]=0\n",
        "        b[:,:2,:]=0\n",
        "        \n",
        "        b =  cv2.resize(b, None, fx=self.scale, fy=self.scale, interpolation=cv2.INTER_NEAREST)\n",
        "\n",
        "        self.to_draw[t,:,:,:]=b\n",
        "\n",
        "\n",
        "    def act(self, action):\n",
        "        \"\"\"This function returns the new state, reward and decides if the\n",
        "        game ends.\"\"\"\n",
        "\n",
        "        self.get_frame(int(self.t))\n",
        "\n",
        "        self.position = np.zeros((self.grid_size, self.grid_size))\n",
        "\n",
        "        self.position[0:2,:]= -1\n",
        "        self.position[:,0:2] = -1\n",
        "        self.position[-2:, :] = -1\n",
        "        self.position[-2:, :] = -1\n",
        "\n",
        "        self.position[self.x, self.y] = 1\n",
        "        if action == 0:\n",
        "            if self.x == self.grid_size-3:\n",
        "                self.x = self.x-1\n",
        "            else:\n",
        "                self.x = self.x + 1\n",
        "        elif action == 1:\n",
        "            if self.x == 2:\n",
        "                self.x = self.x+1\n",
        "            else:\n",
        "                self.x = self.x-1\n",
        "        elif action == 2:\n",
        "            if self.y == self.grid_size - 3:\n",
        "                self.y = self.y - 1\n",
        "            else:\n",
        "                self.y = self.y + 1\n",
        "        elif action == 3:\n",
        "            if self.y == 2:\n",
        "                self.y = self.y + 1\n",
        "            else:\n",
        "                self.y = self.y - 1\n",
        "        else:\n",
        "            RuntimeError('Error: action not recognized')\n",
        "\n",
        "        self.t = self.t + 1\n",
        "        reward = self.board[self.x, self.y]\n",
        "        self.board[self.x, self.y] = 0\n",
        "        game_over = self.t > self.max_time\n",
        "        state = np.concatenate((self.board.reshape(self.grid_size, self.grid_size,1),\n",
        "                        self.position.reshape(self.grid_size, self.grid_size,1)),axis=2)\n",
        "        state = state[self.x-2:self.x+3,self.y-2:self.y+3,:]\n",
        "\n",
        "        return state, reward, game_over\n",
        "\n",
        "    def reset(self):\n",
        "        \"\"\"This function resets the game and returns the initial state\"\"\"\n",
        "\n",
        "        self.x = np.random.randint(3, self.grid_size-3, size=1)[0]\n",
        "        self.y = np.random.randint(3, self.grid_size-3, size=1)[0]\n",
        "\n",
        "\n",
        "        bonus = 0.5*np.random.binomial(1,self.temperature,size=self.grid_size**2)\n",
        "        bonus = bonus.reshape(self.grid_size,self.grid_size)\n",
        "\n",
        "        malus = -1.0*np.random.binomial(1,self.temperature,size=self.grid_size**2)\n",
        "        malus = malus.reshape(self.grid_size, self.grid_size)\n",
        "\n",
        "        self.to_draw = np.zeros((self.max_time+2, self.grid_size*self.scale, self.grid_size*self.scale, 3))\n",
        "\n",
        "\n",
        "        malus[bonus>0]=0\n",
        "\n",
        "        self.board = bonus + malus\n",
        "\n",
        "        self.position = np.zeros((self.grid_size, self.grid_size))\n",
        "        self.position[0:2,:]= -1\n",
        "        self.position[:,0:2] = -1\n",
        "        self.position[-2:, :] = -1\n",
        "        self.position[-2:, :] = -1\n",
        "        self.board[self.x,self.y] = 0\n",
        "        self.t = 0\n",
        "\n",
        "        state = np.concatenate((\n",
        "                               self.board.reshape(self.grid_size, self.grid_size,1),\n",
        "                        self.position.reshape(self.grid_size, self.grid_size,1)),axis=2)\n",
        "\n",
        "        state = state[self.x - 2:self.x + 3, self.y - 2:self.y + 3, :]\n",
        "        return state"
      ],
      "execution_count": 0,
      "outputs": []
    },
    {
      "metadata": {
        "id": "e9IrB2_1e8Pt",
        "colab_type": "text"
      },
      "cell_type": "markdown",
      "source": [
        "The following elements are important because they correspond to the hyper parameters for this project:"
      ]
    },
    {
      "metadata": {
        "id": "mlBH6Yqce8Pw",
        "colab_type": "code",
        "colab": {}
      },
      "cell_type": "code",
      "source": [
        "# parameters\n",
        "size = 13\n",
        "T=200\n",
        "temperature=0.3\n",
        "epochs_train=64 # set small when debugging\n",
        "epochs_test=64 # set small when debugging\n",
        "\n",
        "# display videos\n",
        "def display_videos(name):\n",
        "    video = io.open(name, 'r+b').read()\n",
        "    encoded = base64.b64encode(video)\n",
        "    return '''<video alt=\"test\" controls>\n",
        "                <source src=\"data:video/mp4;base64,{0}\" type=\"video/mp4\" />\n",
        "             </video>'''.format(encoded.decode('ascii'))"
      ],
      "execution_count": 0,
      "outputs": []
    },
    {
      "metadata": {
        "id": "o9kAND0oe8P0",
        "colab_type": "text"
      },
      "cell_type": "markdown",
      "source": [
        "__Question 2__ Explain the use of the arrays ```position``` and ```board```."
      ]
    },
    {
      "metadata": {
        "id": "6-G85zoBe8P1",
        "colab_type": "text"
      },
      "cell_type": "markdown",
      "source": [
        "*Position*  \n",
        "This matrix is used to define the rat position and allowed moves. \n",
        "- It is filled with `0` by default.\n",
        "- There is a two `-1` cells thickness on the borders, reprenting where the rat can't go. That's why we added +4 to the grid size, allowing some place for these borders.\n",
        "- One only cell is set to `1`, representing the actual rat positon.\n",
        "\n",
        "*Board*  \n",
        "This matrix is used to define the environment.\n",
        "- It is also initialized with a size increased by 4, to fit with the previous positon matrix.\n",
        "- It contains rewards for the rat. `-1` for poison, `0.5` for cheese.\n",
        "- When the rat already have explored a cell, we set the cell to `0`\n"
      ]
    },
    {
      "metadata": {
        "id": "-ZEZ4n2ue8P3",
        "colab_type": "text"
      },
      "cell_type": "markdown",
      "source": [
        "## Random Agent"
      ]
    },
    {
      "metadata": {
        "id": "n6bj3Pu4e8P4",
        "colab_type": "text"
      },
      "cell_type": "markdown",
      "source": [
        "***\n",
        "__Question 3__ Implement a random Agent (only ```learned_act``` needs to be implemented):"
      ]
    },
    {
      "metadata": {
        "id": "1JLh_hvke8P5",
        "colab_type": "code",
        "colab": {}
      },
      "cell_type": "code",
      "source": [
        "class RandomAgent(Agent):\n",
        "    def __init__(self):\n",
        "        super(RandomAgent, self).__init__()\n",
        "        pass\n",
        "\n",
        "    def learned_act(self, s=0):\n",
        "        return np.random.randint(4)\n",
        "\n",
        "# We develop a random agent.\n",
        "# Thus it doesn't care about the current rat state.\n",
        "# We put s=0 by default, we will not us it.\n",
        "# We randomly return a number between 0 and 3 included.\n",
        "\n",
        "# Testing\n",
        "def test_random_agent():\n",
        "    random_agent = RandomAgent()\n",
        "    for i in range(10):\n",
        "        print(random_agent.learned_act())\n",
        "# test_random_agent()"
      ],
      "execution_count": 0,
      "outputs": []
    },
    {
      "metadata": {
        "id": "4oZOl2t2e8P9",
        "colab_type": "text"
      },
      "cell_type": "markdown",
      "source": [
        "***\n",
        "***\n",
        "__Question 4__ Visualize the game moves. You need to fill in the following function for the evaluation:"
      ]
    },
    {
      "metadata": {
        "id": "65uteLr3e8P-",
        "colab_type": "code",
        "colab": {}
      },
      "cell_type": "code",
      "source": [
        "def test(agent,env,epochs,prefix=''):\n",
        "    # Number of won games\n",
        "    score = 0\n",
        "        \n",
        "    for e in range(epochs):\n",
        "        # Init variables\n",
        "        win = 0\n",
        "        lose = 0\n",
        "        game_over = False\n",
        "        # Start game\n",
        "        state = env.reset()\n",
        "        \n",
        "        # Running the game\n",
        "        while not game_over:\n",
        "            action = agent.learned_act(state) # The state will be useless\n",
        "            state, reward, game_over = env.act(action)\n",
        "            \n",
        "            if reward >= 0:\n",
        "                win+=reward\n",
        "            else:\n",
        "                lose+=abs(reward)\n",
        "        \n",
        "        # Save as a mp4\n",
        "        env.draw(prefix+str(e))\n",
        "\n",
        "        # Update stats\n",
        "        score = score + win-lose\n",
        "\n",
        "        print(\"Win/lose count {}/{}. Average score ({})\"\n",
        "              .format(win, lose, score/(1+e)))\n",
        "    print('Final score: '+str(score/epochs))"
      ],
      "execution_count": 0,
      "outputs": []
    },
    {
      "metadata": {
        "id": "Iba54I9Ue8QB",
        "colab_type": "code",
        "colab": {
          "base_uri": "https://localhost:8080/",
          "height": 395
        },
        "outputId": "b6622d3d-240e-4565-feb5-8e57e5d6b23f"
      },
      "cell_type": "code",
      "source": [
        "epochs_test=5 # set small when debugging\n",
        "\n",
        "# Initialize the game\n",
        "env = Environment(grid_size=size, max_time=T,temperature=temperature)\n",
        "\n",
        "# Initialize the agent!\n",
        "agent = RandomAgent()\n",
        "\n",
        "test(agent,env,epochs_test,prefix='random')\n",
        "HTML(display_videos('random0.mp4'))"
      ],
      "execution_count": 9,
      "outputs": [
        {
          "output_type": "stream",
          "text": [
            "Win/lose count 13.0/11.0. Average score (2.0)\n",
            "Win/lose count 13.0/18.0. Average score (-1.5)\n",
            "Win/lose count 9.5/15.0. Average score (-2.8333333333333335)\n",
            "Win/lose count 9.0/18.0. Average score (-4.375)\n",
            "Win/lose count 8.5/11.0. Average score (-4.0)\n",
            "Final score: -4.0\n"
          ],
          "name": "stdout"
        },
        {
          "output_type": "execute_result",
          "data": {
            "text/html": [
              "<video alt=\"test\" controls>\n",
              "                <source src=\"data:video/mp4;base64,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\" type=\"video/mp4\" />\n",
              "             </video>"
            ],
            "text/plain": [
              "<IPython.core.display.HTML object>"
            ]
          },
          "metadata": {
            "tags": []
          },
          "execution_count": 9
        }
      ]
    },
    {
      "metadata": {
        "id": "D_eFHXsJe8QE",
        "colab_type": "text"
      },
      "cell_type": "markdown",
      "source": [
        "***\n",
        "## DQN"
      ]
    },
    {
      "metadata": {
        "id": "NnfwB5xJe8QG",
        "colab_type": "text"
      },
      "cell_type": "markdown",
      "source": [
        "Let us assume here that $T=\\infty$.\n",
        "\n",
        "***\n",
        "__Question 5__ Let $\\pi$ be a policy, show that:\n",
        "\n",
        "\\begin{equation*}\n",
        "Q^{\\pi}(s,a)=E_{(s',a')\\sim p(.|s,a)}[r(s,a)+\\gamma Q^{\\pi}(s',a')]\n",
        "\\end{equation*}\n",
        "\n",
        "Then, show that for the optimal policy $\\pi^*$ (we assume its existence), the following holds: \n",
        "\n",
        "\\begin{equation*}\n",
        "Q^{*}(s,a)=E_{s'\\sim \\pi^*(.|s,a)}[r(s,a)+\\gamma\\max_{a'}Q^{*}(s',a')].\n",
        "\\end{equation*}\n",
        "Finally, deduce that a plausible objective is:\n",
        "\n",
        "\\begin{equation*}\n",
        "\\mathcal{L}(\\theta)=E_{s' \\sim \\pi^*(.|s,a)}\\Vert r+\\gamma\\max\\max_{a'}Q(s',a',\\theta)-Q(s,a,\\theta)\\Vert^{2}.\n",
        "\\end{equation*}\n",
        "\n",
        "\n"
      ]
    },
    {
      "metadata": {
        "id": "NhAceGGqe8QH",
        "colab_type": "text"
      },
      "cell_type": "markdown",
      "source": [
        "By definition of the action-value of a policy $\\pi$, we have :  \n",
        "$Q^\\pi(s,a) = E_\\pi \\Big[ \\overset{\\infty}{\\underset{k=0}{\\sum}} \\gamma^k r_{t+k+1} \\Big| s_t = s, a_t = a \\Big]$\n",
        "\n",
        "$~~~~~~~~~~~~~= E\\Big[r(s,a) + \\overset{\\infty}{\\underset{k=1}{\\sum}} \\gamma^k r_{t+k+1} \\Big| s_t = s, a_t = a\\Big]$  \n",
        "\n",
        "...."
      ]
    },
    {
      "metadata": {
        "id": "84o3AG09e8QJ",
        "colab_type": "text"
      },
      "cell_type": "markdown",
      "source": [
        "***\n",
        "The DQN-learning algorithm relies on these derivations to train the parameters $\\theta$ of a Deep Neural Network:\n",
        "\n",
        "1. At the state $s_t$, select the action $a_t$ with best reward using $Q_t$ and store the results;\n",
        "\n",
        "2. Obtain the new state $s_{t+1}$ from the environment $p$;\n",
        "\n",
        "3. Store $(s_t,a_t,s_{t+1})$;\n",
        "\n",
        "4. Obtain $Q_{t+1}$ by minimizing  $\\mathcal{L}$ from a recovered batch from the previously stored results.\n",
        "\n",
        "***\n",
        "__Question 6__ Implement the class ```Memory``` that stores moves (in a replay buffer) via ```remember``` and provides a ```random_access``` to these. Specify a maximum memory size to avoid side effects. You can for example use a ```list()``` and set by default ```max_memory=100```."
      ]
    },
    {
      "metadata": {
        "id": "mosmSRh6e8QL",
        "colab_type": "code",
        "colab": {}
      },
      "cell_type": "code",
      "source": [
        "class Memory(object):\n",
        "    def __init__(self, max_memory=100):\n",
        "        self.max_memory = max_memory\n",
        "        self.memory = list()\n",
        "\n",
        "    def remember(self, m):\n",
        "        self.memory.append(m)\n",
        "        if len(self.memory) > self.max_memory:\n",
        "            self.memory.pop(0)\n",
        "\n",
        "    def random_access(self):\n",
        "        id_random = np.random.randint(len(self.memory))\n",
        "        return self.memory[id_random]"
      ],
      "execution_count": 0,
      "outputs": []
    },
    {
      "metadata": {
        "id": "HT0IrODde8QR",
        "colab_type": "text"
      },
      "cell_type": "markdown",
      "source": [
        "***\n",
        "The pipeline we will use for training is given below:"
      ]
    },
    {
      "metadata": {
        "id": "hCarcHK4e8QT",
        "colab_type": "code",
        "colab": {}
      },
      "cell_type": "code",
      "source": [
        "def train(agent,env,epoch,prefix=''):\n",
        "    # Number of won games\n",
        "    score = 0\n",
        "    loss = 0\n",
        "\n",
        "    for e in range(epoch):\n",
        "        # At each epoch, we restart to a fresh game and get the initial state\n",
        "        state = env.reset()\n",
        "        # This assumes that the games will terminate\n",
        "        game_over = False\n",
        "\n",
        "        win = 0\n",
        "        lose = 0\n",
        "\n",
        "        while not game_over:\n",
        "            # The agent performs an action\n",
        "            action = agent.act(state)\n",
        "\n",
        "            # Apply an action to the environment, get the next state, the reward\n",
        "            # and if the games end\n",
        "            prev_state = state\n",
        "            state, reward, game_over = env.act(action)\n",
        "\n",
        "            # Update the counters\n",
        "            if reward > 0:\n",
        "                win = win + reward\n",
        "            if reward < 0:\n",
        "                lose = lose -reward\n",
        "\n",
        "            # Apply the reinforcement strategy\n",
        "            loss = agent.reinforce(prev_state, state,  action, reward, game_over)\n",
        "\n",
        "        # Save as a mp4\n",
        "        if e % 10 == 0:\n",
        "            env.draw(prefix+str(e))\n",
        "\n",
        "        # Update stats\n",
        "        score += win-lose\n",
        "\n",
        "        print(\"Epoch {:03d}/{:03d} | Loss {:.4f} | Win/lose count {}/{} ({})\"\n",
        "              .format(e+1, epoch, loss, win, lose, win-lose))\n",
        "        agent.save(name_weights=prefix+'model.h5',name_model=prefix+'model.json')"
      ],
      "execution_count": 0,
      "outputs": []
    },
    {
      "metadata": {
        "id": "QIJTlijne8QY",
        "colab_type": "text"
      },
      "cell_type": "markdown",
      "source": [
        "***\n",
        "__Question 7__ Implement the DQN training algorithm using a cascade of fully connected layers. You can use different learning rate, batch size or memory size parameters. In particular, the loss might oscillate while the player will start to win the games. You have to find a good criterium."
      ]
    },
    {
      "metadata": {
        "id": "iI6rBOEge8Qb",
        "colab_type": "code",
        "colab": {}
      },
      "cell_type": "code",
      "source": [
        "from keras.layers.core import Flatten\n",
        "\n",
        "class DQN(Agent):\n",
        "    def __init__(self, grid_size,  epsilon = 0.1, memory_size=100, batch_size = 16,n_state=2):\n",
        "        super(DQN, self).__init__(epsilon = epsilon)\n",
        "\n",
        "        # Discount for Q learning\n",
        "        self.discount = 0.99\n",
        "        \n",
        "        self.grid_size = grid_size\n",
        "        \n",
        "        # number of state\n",
        "        self.n_state = n_state\n",
        "\n",
        "        # Memory\n",
        "        self.memory = Memory(memory_size)\n",
        "        \n",
        "        # Batch size when learning\n",
        "        self.batch_size = batch_size\n",
        "\n",
        "    def learned_act(self, s):\n",
        "        actions = self.model.predict(np.expand_dims(s, 0))\n",
        "        id_max = np.argmax(actions)\n",
        "        return id_max\n",
        "\n",
        "    def reinforce(self, s_, n_s_, a_, r_, game_over_):\n",
        "        # Two steps: first memorize the states, second learn from the pool\n",
        "\n",
        "        self.memory.remember([s_, n_s_, a_, r_, game_over_])\n",
        "        \n",
        "        input_states = np.zeros((self.batch_size, 5,5,self.n_state))\n",
        "        target_q = np.zeros((self.batch_size, 4))\n",
        "        \n",
        "        for i in range(self.batch_size):\n",
        "            s_, n_s_, a_, r_, game_over_  = self.memory.random_access()\n",
        "            \n",
        "            actions = self.model.predict(np.expand_dims(s_, 0))\n",
        "            value_max_action = np.max(actions)\n",
        "            \n",
        "            target_q[i] = actions\n",
        "            \n",
        "            if game_over_:\n",
        "                input_states[i] = s_\n",
        "                target_q[i,a_] = r_\n",
        "            else:\n",
        "                input_states[i] = s_\n",
        "                target_q[i,a_] = r_  + self.discount * value_max_action\n",
        "        \n",
        "        # HINT: Clip the target to avoid exploiding gradients.. -- clipping is a bit tighter\n",
        "        target_q = np.clip(target_q, -3, 3)\n",
        "        l = self.model.train_on_batch(input_states, target_q)\n",
        "        return l\n",
        "\n",
        "    def save(self,name_weights='model.h5',name_model='model.json'):\n",
        "        self.model.save_weights(name_weights, overwrite=True)\n",
        "        with open(name_model, \"w\") as outfile:\n",
        "            json.dump(self.model.to_json(), outfile)\n",
        "            \n",
        "    def load(self,name_weights='model.h5',name_model='model.json'):\n",
        "        with open(name_model, \"r\") as jfile:\n",
        "            model = model_from_json(json.load(jfile))\n",
        "        model.load_weights(name_weights)\n",
        "        model.compile(\"sgd\", \"mse\")\n",
        "        self.model = model\n",
        "\n",
        "            \n",
        "class DQN_FC(DQN):\n",
        "    def __init__(self, *args, lr=0.1,**kwargs):\n",
        "        super(DQN_FC, self).__init__( *args,**kwargs)\n",
        "        \n",
        "        # NN Model\n",
        "        model = Sequential()\n",
        "        model.add(Dense(32, activation='relu'))\n",
        "        model.add(Flatten())\n",
        "        model.add(Dense(16, activation='relu'))\n",
        "        model.add(Dense(4, activation='softmax'))\n",
        "        model.compile(sgd(lr=lr, decay=1e-4, momentum=0.3), \"mse\")\n",
        "        self.model = model\n",
        "        "
      ],
      "execution_count": 0,
      "outputs": []
    },
    {
      "metadata": {
        "id": "zMTTBllTe8Qk",
        "colab_type": "code",
        "colab": {
          "base_uri": "https://localhost:8080/",
          "height": 2381
        },
        "outputId": "3b60fc8d-605b-4480-c1bf-842866451d78"
      },
      "cell_type": "code",
      "source": [
        "import glob\n",
        "epochs_train = 64\n",
        "# epochs_test = 64\n",
        "\n",
        "env = Environment(grid_size=size, max_time=T, temperature=0.3)\n",
        "agent = DQN_FC(size, lr=.01, epsilon = 0.5, memory_size=2000, batch_size = 32)\n",
        "\n",
        "train(agent, env, epochs_train, prefix='fc_train')\n",
        "# test(agent,env,epochs_test,prefix='fc_train')\n",
        "\n",
        "video_paths = glob.glob(\"fc_train*.mp4\")\n",
        "video_paths.sort()\n",
        "best_video_path = video_paths.pop()\n",
        "print(\"Displaying \", best_video_path)\n",
        "HTML(display_videos(best_video_path))"
      ],
      "execution_count": 18,
      "outputs": [
        {
          "output_type": "stream",
          "text": [
            "Epoch 001/064 | Loss 0.0241 | Win/lose count 9.5/10.0 (-0.5)\n",
            "Epoch 002/064 | Loss 0.0173 | Win/lose count 5.0/12.0 (-7.0)\n",
            "Epoch 003/064 | Loss 0.0153 | Win/lose count 3.5/6.0 (-2.5)\n",
            "Epoch 004/064 | Loss 0.0334 | Win/lose count 5.5/2.0 (3.5)\n",
            "Epoch 005/064 | Loss 0.0000 | Win/lose count 3.0/5.0 (-2.0)\n",
            "Epoch 006/064 | Loss 0.0100 | Win/lose count 4.0/2.0 (2.0)\n",
            "Epoch 007/064 | Loss 0.0041 | Win/lose count 2.5/3.0 (-0.5)\n",
            "Epoch 008/064 | Loss 0.0060 | Win/lose count 5.5/6.0 (-0.5)\n",
            "Epoch 009/064 | Loss 0.0099 | Win/lose count 7.0/3.0 (4.0)\n",
            "Epoch 010/064 | Loss 0.0094 | Win/lose count 5.0/8.0 (-3.0)\n",
            "Epoch 011/064 | Loss 0.0196 | Win/lose count 4.5/5.0 (-0.5)\n",
            "Epoch 012/064 | Loss 0.0001 | Win/lose count 3.0/1.0 (2.0)\n",
            "Epoch 013/064 | Loss 0.0000 | Win/lose count 3.0/9.0 (-6.0)\n",
            "Epoch 014/064 | Loss 0.0020 | Win/lose count 0/2.0 (-2.0)\n",
            "Epoch 015/064 | Loss 0.0001 | Win/lose count 6.0/8.0 (-2.0)\n",
            "Epoch 016/064 | Loss 0.0019 | Win/lose count 2.5/4.0 (-1.5)\n",
            "Epoch 017/064 | Loss 0.0099 | Win/lose count 7.5/4.0 (3.5)\n",
            "Epoch 018/064 | Loss 0.0139 | Win/lose count 3.5/8.0 (-4.5)\n",
            "Epoch 019/064 | Loss 0.0001 | Win/lose count 2.5/8.0 (-5.5)\n",
            "Epoch 020/064 | Loss 0.0101 | Win/lose count 2.5/5.0 (-2.5)\n",
            "Epoch 021/064 | Loss 0.0176 | Win/lose count 4.0/8.0 (-4.0)\n",
            "Epoch 022/064 | Loss 0.0192 | Win/lose count 3.5/3.0 (0.5)\n",
            "Epoch 023/064 | Loss 0.0104 | Win/lose count 3.5/4.0 (-0.5)\n",
            "Epoch 024/064 | Loss 0.0001 | Win/lose count 9.0/12.0 (-3.0)\n",
            "Epoch 025/064 | Loss 0.0002 | Win/lose count 2.5/4.0 (-1.5)\n",
            "Epoch 026/064 | Loss 0.0098 | Win/lose count 1.5/3.0 (-1.5)\n",
            "Epoch 027/064 | Loss 0.0279 | Win/lose count 2.5/3.0 (-0.5)\n",
            "Epoch 028/064 | Loss 0.0166 | Win/lose count 4.5/0 (4.5)\n",
            "Epoch 029/064 | Loss 0.0117 | Win/lose count 5.5/7.0 (-1.5)\n",
            "Epoch 030/064 | Loss 0.0142 | Win/lose count 2.0/3.0 (-1.0)\n",
            "Epoch 031/064 | Loss 0.0232 | Win/lose count 5.5/3.0 (2.5)\n",
            "Epoch 032/064 | Loss 0.0021 | Win/lose count 2.5/6.0 (-3.5)\n",
            "Epoch 033/064 | Loss 0.0194 | Win/lose count 3.5/1.0 (2.5)\n",
            "Epoch 034/064 | Loss 0.0091 | Win/lose count 4.0/9.0 (-5.0)\n",
            "Epoch 035/064 | Loss 0.0027 | Win/lose count 2.0/1.0 (1.0)\n",
            "Epoch 036/064 | Loss 0.0167 | Win/lose count 2.5/2.0 (0.5)\n",
            "Epoch 037/064 | Loss 0.0105 | Win/lose count 5.5/8.0 (-2.5)\n",
            "Epoch 038/064 | Loss 0.0265 | Win/lose count 4.5/9.0 (-4.5)\n",
            "Epoch 039/064 | Loss 0.0079 | Win/lose count 5.5/9.0 (-3.5)\n",
            "Epoch 040/064 | Loss 0.0085 | Win/lose count 3.5/10.0 (-6.5)\n",
            "Epoch 041/064 | Loss 0.0000 | Win/lose count 1.0/9.0 (-8.0)\n",
            "Epoch 042/064 | Loss 0.0113 | Win/lose count 5.5/9.0 (-3.5)\n",
            "Epoch 043/064 | Loss 0.0144 | Win/lose count 3.0/1.0 (2.0)\n",
            "Epoch 044/064 | Loss 0.0043 | Win/lose count 5.0/2.0 (3.0)\n",
            "Epoch 045/064 | Loss 0.0109 | Win/lose count 4.0/2.0 (2.0)\n",
            "Epoch 046/064 | Loss 0.0145 | Win/lose count 1.0/2.0 (-1.0)\n",
            "Epoch 047/064 | Loss 0.0021 | Win/lose count 2.0/4.0 (-2.0)\n",
            "Epoch 048/064 | Loss 0.0098 | Win/lose count 2.0/2.0 (0.0)\n",
            "Epoch 049/064 | Loss 0.0091 | Win/lose count 1.5/5.0 (-3.5)\n",
            "Epoch 050/064 | Loss 0.0039 | Win/lose count 4.5/7.0 (-2.5)\n",
            "Epoch 051/064 | Loss 0.0026 | Win/lose count 6.0/5.0 (1.0)\n",
            "Epoch 052/064 | Loss 0.0006 | Win/lose count 3.0/4.0 (-1.0)\n",
            "Epoch 053/064 | Loss 0.0079 | Win/lose count 3.0/1.0 (2.0)\n",
            "Epoch 054/064 | Loss 0.0020 | Win/lose count 3.5/5.0 (-1.5)\n",
            "Epoch 055/064 | Loss 0.0117 | Win/lose count 4.5/0 (4.5)\n",
            "Epoch 056/064 | Loss 0.0001 | Win/lose count 1.5/3.0 (-1.5)\n",
            "Epoch 057/064 | Loss 0.0099 | Win/lose count 4.5/4.0 (0.5)\n",
            "Epoch 058/064 | Loss 0.0086 | Win/lose count 1.0/1.0 (0.0)\n",
            "Epoch 059/064 | Loss 0.0020 | Win/lose count 7.0/4.0 (3.0)\n",
            "Epoch 060/064 | Loss 0.0007 | Win/lose count 6.0/4.0 (2.0)\n",
            "Epoch 061/064 | Loss 0.0042 | Win/lose count 4.0/4.0 (0.0)\n",
            "Epoch 062/064 | Loss 0.0204 | Win/lose count 4.5/2.0 (2.5)\n",
            "Epoch 063/064 | Loss 0.0070 | Win/lose count 5.5/5.0 (0.5)\n",
            "Epoch 064/064 | Loss 0.0001 | Win/lose count 4.5/7.0 (-2.5)\n",
            "Win/lose count 3.0/3.0. Average score (0.0)\n",
            "Win/lose count 3.5/4.0. Average score (-0.25)\n",
            "Win/lose count 3.5/2.0. Average score (0.3333333333333333)\n",
            "Win/lose count 2.0/1.0. Average score (0.5)\n",
            "Win/lose count 2.5/1.0. Average score (0.7)\n",
            "Win/lose count 4.0/3.0. Average score (0.75)\n",
            "Win/lose count 1.0/1.0. Average score (0.6428571428571429)\n",
            "Win/lose count 2.5/0. Average score (0.875)\n",
            "Win/lose count 4.0/0. Average score (1.2222222222222223)\n",
            "Win/lose count 2.0/1.0. Average score (1.2)\n",
            "Win/lose count 1.0/0. Average score (1.1818181818181819)\n",
            "Win/lose count 2.0/0. Average score (1.25)\n",
            "Win/lose count 1.0/1.0. Average score (1.1538461538461537)\n",
            "Win/lose count 2.0/1.0. Average score (1.1428571428571428)\n",
            "Win/lose count 2.0/1.0. Average score (1.1333333333333333)\n",
            "Win/lose count 6.5/1.0. Average score (1.40625)\n",
            "Win/lose count 0.0/0. Average score (1.3235294117647058)\n",
            "Win/lose count 3.0/1.0. Average score (1.3611111111111112)\n",
            "Win/lose count 4.0/3.0. Average score (1.3421052631578947)\n",
            "Win/lose count 1.0/2.0. Average score (1.225)\n",
            "Win/lose count 1.5/0. Average score (1.2380952380952381)\n",
            "Win/lose count 1.5/1.0. Average score (1.2045454545454546)\n",
            "Win/lose count 1.0/0. Average score (1.1956521739130435)\n",
            "Win/lose count 2.5/0. Average score (1.25)\n",
            "Win/lose count 0.0/0. Average score (1.2)\n",
            "Win/lose count 1.5/2.0. Average score (1.1346153846153846)\n",
            "Win/lose count 0.5/0. Average score (1.1111111111111112)\n",
            "Win/lose count 1.0/2.0. Average score (1.0357142857142858)\n",
            "Win/lose count 1.5/2.0. Average score (0.9827586206896551)\n",
            "Win/lose count 1.0/1.0. Average score (0.95)\n",
            "Win/lose count 4.0/5.0. Average score (0.8870967741935484)\n",
            "Win/lose count 4.5/1.0. Average score (0.96875)\n",
            "Win/lose count 0.5/0. Average score (0.9545454545454546)\n",
            "Win/lose count 3.5/1.0. Average score (1.0)\n",
            "Win/lose count 2.5/2.0. Average score (0.9857142857142858)\n",
            "Win/lose count 2.5/1.0. Average score (1.0)\n",
            "Win/lose count 2.5/3.0. Average score (0.9594594594594594)\n",
            "Win/lose count 1.0/0. Average score (0.9605263157894737)\n",
            "Win/lose count 3.5/3.0. Average score (0.9487179487179487)\n",
            "Win/lose count 1.5/0. Average score (0.9625)\n",
            "Win/lose count 3.0/0. Average score (1.0121951219512195)\n",
            "Win/lose count 1.5/1.0. Average score (1.0)\n",
            "Win/lose count 3.0/1.0. Average score (1.0232558139534884)\n",
            "Win/lose count 3.0/1.0. Average score (1.0454545454545454)\n",
            "Win/lose count 1.0/0. Average score (1.0444444444444445)\n",
            "Win/lose count 1.0/0. Average score (1.0434782608695652)\n",
            "Win/lose count 3.5/2.0. Average score (1.053191489361702)\n",
            "Win/lose count 1.5/0. Average score (1.0625)\n",
            "Win/lose count 0.5/0. Average score (1.0510204081632653)\n",
            "Win/lose count 2.0/4.0. Average score (0.99)\n",
            "Win/lose count 4.5/1.0. Average score (1.0392156862745099)\n",
            "Win/lose count 6.0/2.0. Average score (1.0961538461538463)\n",
            "Win/lose count 2.0/1.0. Average score (1.0943396226415094)\n",
            "Win/lose count 3.0/0. Average score (1.1296296296296295)\n",
            "Win/lose count 1.5/5.0. Average score (1.0454545454545454)\n",
            "Win/lose count 2.5/5.0. Average score (0.9821428571428571)\n",
            "Win/lose count 1.0/1.0. Average score (0.9649122807017544)\n",
            "Win/lose count 4.5/2.0. Average score (0.9913793103448276)\n",
            "Win/lose count 1.5/0. Average score (1.0)\n",
            "Win/lose count 1.0/0. Average score (1.0)\n",
            "Win/lose count 4.0/3.0. Average score (1.0)\n",
            "Win/lose count 0.5/1.0. Average score (0.9758064516129032)\n",
            "Win/lose count 1.5/0. Average score (0.9841269841269841)\n",
            "Win/lose count 3.5/1.0. Average score (1.0078125)\n",
            "Final score: 1.0078125\n",
            "Displaying  fc_train90.mp4\n"
          ],
          "name": "stdout"
        },
        {
          "output_type": "execute_result",
          "data": {
            "text/html": [
              "<video alt=\"test\" controls>\n",
              "                <source src=\"data:video/mp4;base64,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\" type=\"video/mp4\" />\n",
              "             </video>"
            ],
            "text/plain": [
              "<IPython.core.display.HTML object>"
            ]
          },
          "metadata": {
            "tags": []
          },
          "execution_count": 18
        }
      ]
    },
    {
      "metadata": {
        "id": "wgeO6YOie8Qm",
        "colab_type": "text"
      },
      "cell_type": "markdown",
      "source": [
        "***\n",
        "***\n",
        "__Question 8__ Implement the DQN training algorithm using a CNN (for example, 2 convolutional layers and one final fully connected layer)."
      ]
    },
    {
      "metadata": {
        "id": "UW8ysoEZe8Qn",
        "colab_type": "code",
        "colab": {}
      },
      "cell_type": "code",
      "source": [
        "class DQN_CNN(DQN):\n",
        "    def __init__(self, *args,lr=0.1,**kwargs):\n",
        "        super(DQN_CNN, self).__init__(*args,**kwargs)\n",
        "        \n",
        "        model = Sequential()\n",
        "        model.add(Conv2D(32, 2, activation='relu'))\n",
        "        model.add(Conv2D(16, 2, activation='relu'))\n",
        "        model.add(Flatten())\n",
        "        model.add(Dense(16, activation='relu'))\n",
        "        model.add(Dense(4, activation='softmax'))\n",
        "        \n",
        "        model.compile(sgd(lr=lr, decay=1e-4, momentum=0.1), \"mse\")\n",
        "        self.model = model"
      ],
      "execution_count": 0,
      "outputs": []
    },
    {
      "metadata": {
        "id": "dEQv-Guie8Qq",
        "colab_type": "code",
        "colab": {
          "base_uri": "https://localhost:8080/",
          "height": 4557
        },
        "outputId": "292f241c-440a-46c6-f20d-910f4fef66f4"
      },
      "cell_type": "code",
      "source": [
        "epochs_train = 128\n",
        "# epochs_test = 128\n",
        "\n",
        "env = Environment(grid_size=size, max_time=T, temperature=0.3)\n",
        "agent = DQN_CNN(size, lr=.1, epsilon = 0.5, memory_size=2000, batch_size = 32)\n",
        "\n",
        "train(agent,env,epochs_train,prefix='cnn_train')\n",
        "# test(agent,env,epochs_test,prefix='cnn_train')\n",
        "\n",
        "\n",
        "video_paths = glob.glob(\"cnn_train*.mp4\")\n",
        "video_paths.sort()\n",
        "best_video_path = video_paths.pop()\n",
        "print(\"Displaying \", best_video_path)\n",
        "HTML(display_videos(best_video_path))"
      ],
      "execution_count": 20,
      "outputs": [
        {
          "output_type": "stream",
          "text": [
            "Epoch 001/128 | Loss 0.0000 | Win/lose count 0/0 (0)\n",
            "Epoch 002/128 | Loss 0.0000 | Win/lose count 0/2.0 (-2.0)\n",
            "Epoch 003/128 | Loss 0.0000 | Win/lose count 0/2.0 (-2.0)\n",
            "Epoch 004/128 | Loss 0.0074 | Win/lose count 1.0/1.0 (0.0)\n",
            "Epoch 005/128 | Loss 0.0000 | Win/lose count 1.5/3.0 (-1.5)\n",
            "Epoch 006/128 | Loss 0.0000 | Win/lose count 1.5/2.0 (-0.5)\n",
            "Epoch 007/128 | Loss 0.0079 | Win/lose count 2.0/5.0 (-3.0)\n",
            "Epoch 008/128 | Loss 0.0019 | Win/lose count 1.5/1.0 (0.5)\n",
            "Epoch 009/128 | Loss 0.0039 | Win/lose count 1.5/6.0 (-4.5)\n",
            "Epoch 010/128 | Loss 0.0155 | Win/lose count 3.5/4.0 (-0.5)\n",
            "Epoch 011/128 | Loss 0.0005 | Win/lose count 2.5/1.0 (1.5)\n",
            "Epoch 012/128 | Loss 0.0000 | Win/lose count 1.0/2.0 (-1.0)\n",
            "Epoch 013/128 | Loss 0.0156 | Win/lose count 0.5/0 (0.5)\n",
            "Epoch 014/128 | Loss 0.0000 | Win/lose count 2.5/5.0 (-2.5)\n",
            "Epoch 015/128 | Loss 0.0258 | Win/lose count 1.0/1.0 (0.0)\n",
            "Epoch 016/128 | Loss 0.0000 | Win/lose count 3.0/0 (3.0)\n",
            "Epoch 017/128 | Loss 0.0023 | Win/lose count 2.0/0 (2.0)\n",
            "Epoch 018/128 | Loss 0.0019 | Win/lose count 1.0/3.0 (-2.0)\n",
            "Epoch 019/128 | Loss 0.0000 | Win/lose count 1.0/0 (1.0)\n",
            "Epoch 020/128 | Loss 0.0019 | Win/lose count 0.5/0 (0.5)\n",
            "Epoch 021/128 | Loss 0.0000 | Win/lose count 2.5/0 (2.5)\n",
            "Epoch 022/128 | Loss 0.0000 | Win/lose count 1.5/0 (1.5)\n",
            "Epoch 023/128 | Loss 0.0019 | Win/lose count 2.0/1.0 (1.0)\n",
            "Epoch 024/128 | Loss 0.0000 | Win/lose count 0.5/0 (0.5)\n",
            "Epoch 025/128 | Loss 0.0029 | Win/lose count 1.0/1.0 (0.0)\n",
            "Epoch 026/128 | Loss 0.0000 | Win/lose count 0.5/1.0 (-0.5)\n",
            "Epoch 027/128 | Loss 0.0000 | Win/lose count 1.0/0 (1.0)\n",
            "Epoch 028/128 | Loss 0.0000 | Win/lose count 1.0/3.0 (-2.0)\n",
            "Epoch 029/128 | Loss 0.0034 | Win/lose count 0/5.0 (-5.0)\n",
            "Epoch 030/128 | Loss 0.0000 | Win/lose count 4.0/2.0 (2.0)\n",
            "Epoch 031/128 | Loss 0.0058 | Win/lose count 5.0/1.0 (4.0)\n",
            "Epoch 032/128 | Loss 0.0077 | Win/lose count 3.5/1.0 (2.5)\n",
            "Epoch 033/128 | Loss 0.0019 | Win/lose count 4.0/1.0 (3.0)\n",
            "Epoch 034/128 | Loss 0.0076 | Win/lose count 1.5/2.0 (-0.5)\n",
            "Epoch 035/128 | Loss 0.0096 | Win/lose count 1.0/1.0 (0.0)\n",
            "Epoch 036/128 | Loss 0.0098 | Win/lose count 0.5/0 (0.5)\n",
            "Epoch 037/128 | Loss 0.0044 | Win/lose count 2.0/1.0 (1.0)\n",
            "Epoch 038/128 | Loss 0.0110 | Win/lose count 2.0/1.0 (1.0)\n",
            "Epoch 039/128 | Loss 0.0019 | Win/lose count 2.0/1.0 (1.0)\n",
            "Epoch 040/128 | Loss 0.0008 | Win/lose count 2.0/1.0 (1.0)\n",
            "Epoch 041/128 | Loss 0.0090 | Win/lose count 0.5/1.0 (-0.5)\n",
            "Epoch 042/128 | Loss 0.0019 | Win/lose count 3.0/2.0 (1.0)\n",
            "Epoch 043/128 | Loss 0.0000 | Win/lose count 1.5/1.0 (0.5)\n",
            "Epoch 044/128 | Loss 0.0000 | Win/lose count 2.0/1.0 (1.0)\n",
            "Epoch 045/128 | Loss 0.0000 | Win/lose count 1.0/2.0 (-1.0)\n",
            "Epoch 046/128 | Loss 0.0000 | Win/lose count 1.0/1.0 (0.0)\n",
            "Epoch 047/128 | Loss 0.0079 | Win/lose count 1.0/1.0 (0.0)\n",
            "Epoch 048/128 | Loss 0.0000 | Win/lose count 0/0 (0)\n",
            "Epoch 049/128 | Loss 0.0083 | Win/lose count 0.5/3.0 (-2.5)\n",
            "Epoch 050/128 | Loss 0.0000 | Win/lose count 1.5/1.0 (0.5)\n",
            "Epoch 051/128 | Loss 0.0000 | Win/lose count 0/0 (0)\n",
            "Epoch 052/128 | Loss 0.0007 | Win/lose count 4.0/1.0 (3.0)\n",
            "Epoch 053/128 | Loss 0.0020 | Win/lose count 1.5/2.0 (-0.5)\n",
            "Epoch 054/128 | Loss 0.0000 | Win/lose count 1.0/2.0 (-1.0)\n",
            "Epoch 055/128 | Loss 0.0000 | Win/lose count 3.0/2.0 (1.0)\n",
            "Epoch 056/128 | Loss 0.0000 | Win/lose count 0/0 (0)\n",
            "Epoch 057/128 | Loss 0.0000 | Win/lose count 4.0/1.0 (3.0)\n",
            "Epoch 058/128 | Loss 0.0079 | Win/lose count 4.5/2.0 (2.5)\n",
            "Epoch 059/128 | Loss 0.0028 | Win/lose count 2.0/1.0 (1.0)\n",
            "Epoch 060/128 | Loss 0.0111 | Win/lose count 2.5/2.0 (0.5)\n",
            "Epoch 061/128 | Loss 0.0001 | Win/lose count 0/0 (0)\n",
            "Epoch 062/128 | Loss 0.0000 | Win/lose count 0.5/1.0 (-0.5)\n",
            "Epoch 063/128 | Loss 0.0010 | Win/lose count 0.5/1.0 (-0.5)\n",
            "Epoch 064/128 | Loss 0.0044 | Win/lose count 0.5/0 (0.5)\n",
            "Epoch 065/128 | Loss 0.0000 | Win/lose count 3.0/0 (3.0)\n",
            "Epoch 066/128 | Loss 0.0000 | Win/lose count 0/0 (0)\n",
            "Epoch 067/128 | Loss 0.0027 | Win/lose count 2.5/0 (2.5)\n",
            "Epoch 068/128 | Loss 0.0000 | Win/lose count 1.0/0 (1.0)\n",
            "Epoch 069/128 | Loss 0.0019 | Win/lose count 3.5/2.0 (1.5)\n",
            "Epoch 070/128 | Loss 0.0026 | Win/lose count 0/0 (0)\n",
            "Epoch 071/128 | Loss 0.0000 | Win/lose count 0/0 (0)\n",
            "Epoch 072/128 | Loss 0.0000 | Win/lose count 0/0 (0)\n",
            "Epoch 073/128 | Loss 0.0000 | Win/lose count 1.0/0 (1.0)\n",
            "Epoch 074/128 | Loss 0.0020 | Win/lose count 2.0/1.0 (1.0)\n",
            "Epoch 075/128 | Loss 0.0000 | Win/lose count 2.5/1.0 (1.5)\n",
            "Epoch 076/128 | Loss 0.0044 | Win/lose count 1.0/3.0 (-2.0)\n",
            "Epoch 077/128 | Loss 0.0000 | Win/lose count 2.0/0 (2.0)\n",
            "Epoch 078/128 | Loss 0.0019 | Win/lose count 1.5/2.0 (-0.5)\n",
            "Epoch 079/128 | Loss 0.0019 | Win/lose count 0.5/0 (0.5)\n",
            "Epoch 080/128 | Loss 0.0000 | Win/lose count 0.5/1.0 (-0.5)\n",
            "Epoch 081/128 | Loss 0.0000 | Win/lose count 1.5/0 (1.5)\n",
            "Epoch 082/128 | Loss 0.0007 | Win/lose count 0.5/0 (0.5)\n",
            "Epoch 083/128 | Loss 0.0000 | Win/lose count 1.5/0 (1.5)\n",
            "Epoch 084/128 | Loss 0.0000 | Win/lose count 6.5/4.0 (2.5)\n",
            "Epoch 085/128 | Loss 0.0000 | Win/lose count 3.5/0 (3.5)\n",
            "Epoch 086/128 | Loss 0.0019 | Win/lose count 3.0/0 (3.0)\n",
            "Epoch 087/128 | Loss 0.0000 | Win/lose count 0.5/0 (0.5)\n",
            "Epoch 088/128 | Loss 0.0025 | Win/lose count 3.5/1.0 (2.5)\n",
            "Epoch 089/128 | Loss 0.0000 | Win/lose count 2.0/1.0 (1.0)\n",
            "Epoch 090/128 | Loss 0.0000 | Win/lose count 1.0/0 (1.0)\n",
            "Epoch 091/128 | Loss 0.0038 | Win/lose count 1.0/1.0 (0.0)\n",
            "Epoch 092/128 | Loss 0.0000 | Win/lose count 0/0 (0)\n",
            "Epoch 093/128 | Loss 0.0064 | Win/lose count 3.0/2.0 (1.0)\n",
            "Epoch 094/128 | Loss 0.0064 | Win/lose count 1.0/3.0 (-2.0)\n",
            "Epoch 095/128 | Loss 0.0038 | Win/lose count 1.5/1.0 (0.5)\n",
            "Epoch 096/128 | Loss 0.0019 | Win/lose count 0.5/1.0 (-0.5)\n",
            "Epoch 097/128 | Loss 0.0061 | Win/lose count 3.0/3.0 (0.0)\n",
            "Epoch 098/128 | Loss 0.0089 | Win/lose count 0/1.0 (-1.0)\n",
            "Epoch 099/128 | Loss 0.0000 | Win/lose count 2.0/2.0 (0.0)\n",
            "Epoch 100/128 | Loss 0.0000 | Win/lose count 1.0/0 (1.0)\n",
            "Epoch 101/128 | Loss 0.0000 | Win/lose count 0/0 (0)\n",
            "Epoch 102/128 | Loss 0.0117 | Win/lose count 1.0/0 (1.0)\n",
            "Epoch 103/128 | Loss 0.0000 | Win/lose count 1.0/0 (1.0)\n",
            "Epoch 104/128 | Loss 0.0019 | Win/lose count 2.0/0 (2.0)\n",
            "Epoch 105/128 | Loss 0.0019 | Win/lose count 0.5/1.0 (-0.5)\n",
            "Epoch 106/128 | Loss 0.0052 | Win/lose count 2.0/4.0 (-2.0)\n",
            "Epoch 107/128 | Loss 0.0000 | Win/lose count 2.0/2.0 (0.0)\n",
            "Epoch 108/128 | Loss 0.0019 | Win/lose count 2.5/1.0 (1.5)\n",
            "Epoch 109/128 | Loss 0.0000 | Win/lose count 1.0/0 (1.0)\n",
            "Epoch 110/128 | Loss 0.0080 | Win/lose count 1.5/1.0 (0.5)\n",
            "Epoch 111/128 | Loss 0.0000 | Win/lose count 0.5/1.0 (-0.5)\n",
            "Epoch 112/128 | Loss 0.0089 | Win/lose count 4.0/2.0 (2.0)\n",
            "Epoch 113/128 | Loss 0.0000 | Win/lose count 0/1.0 (-1.0)\n",
            "Epoch 114/128 | Loss 0.0098 | Win/lose count 1.0/0 (1.0)\n",
            "Epoch 115/128 | Loss 0.0019 | Win/lose count 1.5/3.0 (-1.5)\n",
            "Epoch 116/128 | Loss 0.0066 | Win/lose count 2.0/1.0 (1.0)\n",
            "Epoch 117/128 | Loss 0.0000 | Win/lose count 0.5/0 (0.5)\n",
            "Epoch 118/128 | Loss 0.0140 | Win/lose count 1.0/0 (1.0)\n",
            "Epoch 119/128 | Loss 0.0013 | Win/lose count 1.5/0 (1.5)\n",
            "Epoch 120/128 | Loss 0.0066 | Win/lose count 1.5/0 (1.5)\n",
            "Epoch 121/128 | Loss 0.0000 | Win/lose count 0/1.0 (-1.0)\n",
            "Epoch 122/128 | Loss 0.0017 | Win/lose count 1.0/0 (1.0)\n",
            "Epoch 123/128 | Loss 0.0007 | Win/lose count 4.5/1.0 (3.5)\n",
            "Epoch 124/128 | Loss 0.0019 | Win/lose count 1.5/0 (1.5)\n",
            "Epoch 125/128 | Loss 0.0000 | Win/lose count 2.0/1.0 (1.0)\n",
            "Epoch 126/128 | Loss 0.0017 | Win/lose count 3.0/2.0 (1.0)\n",
            "Epoch 127/128 | Loss 0.0000 | Win/lose count 4.5/0 (4.5)\n",
            "Epoch 128/128 | Loss 0.0076 | Win/lose count 0/1.0 (-1.0)\n",
            "Win/lose count 0.5/0. Average score (0.5)\n",
            "Win/lose count 1.0/0. Average score (0.75)\n",
            "Win/lose count 0.0/1.0. Average score (0.16666666666666666)\n",
            "Win/lose count 0.5/0. Average score (0.25)\n",
            "Win/lose count 0.5/0. Average score (0.3)\n",
            "Win/lose count 0.0/0. Average score (0.25)\n",
            "Win/lose count 1.0/0. Average score (0.35714285714285715)\n",
            "Win/lose count 0.5/0. Average score (0.375)\n",
            "Win/lose count 2.0/0. Average score (0.5555555555555556)\n",
            "Win/lose count 1.0/0. Average score (0.6)\n",
            "Win/lose count 1.0/0. Average score (0.6363636363636364)\n",
            "Win/lose count 2.0/0. Average score (0.75)\n",
            "Win/lose count 1.0/0. Average score (0.7692307692307693)\n",
            "Win/lose count 0.0/0. Average score (0.7142857142857143)\n",
            "Win/lose count 1.0/0. Average score (0.7333333333333333)\n",
            "Win/lose count 1.5/0. Average score (0.78125)\n",
            "Win/lose count 1.5/0. Average score (0.8235294117647058)\n",
            "Win/lose count 1.0/0. Average score (0.8333333333333334)\n",
            "Win/lose count 0.5/0. Average score (0.8157894736842105)\n",
            "Win/lose count 1.0/0. Average score (0.825)\n",
            "Win/lose count 0.5/1.0. Average score (0.7619047619047619)\n",
            "Win/lose count 1.0/0. Average score (0.7727272727272727)\n",
            "Win/lose count 1.0/0. Average score (0.782608695652174)\n",
            "Win/lose count 2.5/1.0. Average score (0.8125)\n",
            "Win/lose count 1.5/0. Average score (0.84)\n",
            "Win/lose count 1.0/0. Average score (0.8461538461538461)\n",
            "Win/lose count 2.0/0. Average score (0.8888888888888888)\n",
            "Win/lose count 1.5/0. Average score (0.9107142857142857)\n",
            "Win/lose count 1.0/0. Average score (0.9137931034482759)\n",
            "Win/lose count 1.0/0. Average score (0.9166666666666666)\n",
            "Win/lose count 0.5/0. Average score (0.9032258064516129)\n",
            "Win/lose count 1.0/0. Average score (0.90625)\n",
            "Win/lose count 1.0/0. Average score (0.9090909090909091)\n",
            "Win/lose count 0.5/0. Average score (0.8970588235294118)\n",
            "Win/lose count 1.5/0. Average score (0.9142857142857143)\n",
            "Win/lose count 0.5/0. Average score (0.9027777777777778)\n",
            "Win/lose count 0.5/1.0. Average score (0.8648648648648649)\n",
            "Win/lose count 0.5/0. Average score (0.8552631578947368)\n",
            "Win/lose count 1.0/0. Average score (0.8589743589743589)\n",
            "Win/lose count 1.5/0. Average score (0.875)\n",
            "Win/lose count 0.5/0. Average score (0.8658536585365854)\n",
            "Win/lose count 0.5/0. Average score (0.8571428571428571)\n",
            "Win/lose count 0.0/0. Average score (0.8372093023255814)\n",
            "Win/lose count 1.5/0. Average score (0.8522727272727273)\n",
            "Win/lose count 1.0/0. Average score (0.8555555555555555)\n",
            "Win/lose count 1.5/0. Average score (0.8695652173913043)\n",
            "Win/lose count 0.5/0. Average score (0.8617021276595744)\n",
            "Win/lose count 0.5/0. Average score (0.8541666666666666)\n",
            "Win/lose count 1.5/0. Average score (0.8673469387755102)\n",
            "Win/lose count 0.5/2.0. Average score (0.82)\n",
            "Win/lose count 0.0/0. Average score (0.803921568627451)\n",
            "Win/lose count 1.0/0. Average score (0.8076923076923077)\n",
            "Win/lose count 1.5/1.0. Average score (0.8018867924528302)\n",
            "Win/lose count 1.5/0. Average score (0.8148148148148148)\n",
            "Win/lose count 1.0/0. Average score (0.8181818181818182)\n",
            "Win/lose count 2.0/1.0. Average score (0.8214285714285714)\n",
            "Win/lose count 0.0/0. Average score (0.8070175438596491)\n",
            "Win/lose count 0.5/0. Average score (0.8017241379310345)\n",
            "Win/lose count 2.0/0. Average score (0.8220338983050848)\n",
            "Win/lose count 1.0/0. Average score (0.825)\n",
            "Win/lose count 1.0/0. Average score (0.8278688524590164)\n",
            "Win/lose count 1.0/0. Average score (0.8306451612903226)\n",
            "Win/lose count 0.0/0. Average score (0.8174603174603174)\n",
            "Win/lose count 1.5/0. Average score (0.828125)\n",
            "Win/lose count 0.5/0. Average score (0.823076923076923)\n",
            "Win/lose count 1.0/1.0. Average score (0.8106060606060606)\n",
            "Win/lose count 2.0/0. Average score (0.8283582089552238)\n",
            "Win/lose count 0.0/1.0. Average score (0.8014705882352942)\n",
            "Win/lose count 1.5/1.0. Average score (0.7971014492753623)\n",
            "Win/lose count 0.5/0. Average score (0.7928571428571428)\n",
            "Win/lose count 1.0/1.0. Average score (0.7816901408450704)\n",
            "Win/lose count 0.0/0. Average score (0.7708333333333334)\n",
            "Win/lose count 0.5/0. Average score (0.7671232876712328)\n",
            "Win/lose count 0.0/0. Average score (0.7567567567567568)\n",
            "Win/lose count 1.5/0. Average score (0.7666666666666667)\n",
            "Win/lose count 0.0/0. Average score (0.756578947368421)\n",
            "Win/lose count 0.0/0. Average score (0.7467532467532467)\n",
            "Win/lose count 1.0/0. Average score (0.75)\n",
            "Win/lose count 2.5/0. Average score (0.7721518987341772)\n",
            "Win/lose count 0.5/0. Average score (0.76875)\n",
            "Win/lose count 1.0/0. Average score (0.7716049382716049)\n",
            "Win/lose count 1.0/1.0. Average score (0.7621951219512195)\n",
            "Win/lose count 2.5/0. Average score (0.7831325301204819)\n",
            "Win/lose count 1.5/0. Average score (0.7916666666666666)\n",
            "Win/lose count 2.0/1.0. Average score (0.7941176470588235)\n",
            "Win/lose count 1.0/0. Average score (0.7965116279069767)\n",
            "Win/lose count 0.5/0. Average score (0.7931034482758621)\n",
            "Win/lose count 0.5/1.0. Average score (0.7784090909090909)\n",
            "Win/lose count 1.5/0. Average score (0.7865168539325843)\n",
            "Win/lose count 0.0/1.0. Average score (0.7666666666666667)\n",
            "Win/lose count 0.5/0. Average score (0.7637362637362637)\n",
            "Win/lose count 1.0/0. Average score (0.7663043478260869)\n",
            "Win/lose count 1.5/0. Average score (0.7741935483870968)\n",
            "Win/lose count 1.5/0. Average score (0.7819148936170213)\n",
            "Win/lose count 0.0/1.0. Average score (0.7631578947368421)\n",
            "Win/lose count 3.5/0. Average score (0.7916666666666666)\n",
            "Win/lose count 0.5/1.0. Average score (0.7783505154639175)\n",
            "Win/lose count 1.5/0. Average score (0.7857142857142857)\n",
            "Win/lose count 1.0/0. Average score (0.7878787878787878)\n",
            "Win/lose count 1.5/0. Average score (0.795)\n",
            "Win/lose count 1.0/1.0. Average score (0.7871287128712872)\n",
            "Win/lose count 1.0/0. Average score (0.7892156862745098)\n",
            "Win/lose count 1.0/0. Average score (0.7912621359223301)\n",
            "Win/lose count 0.5/0. Average score (0.7884615384615384)\n",
            "Win/lose count 0.5/0. Average score (0.7857142857142857)\n",
            "Win/lose count 0.5/1.0. Average score (0.7735849056603774)\n",
            "Win/lose count 1.0/0. Average score (0.7757009345794392)\n",
            "Win/lose count 0.5/0. Average score (0.7731481481481481)\n",
            "Win/lose count 1.5/0. Average score (0.7798165137614679)\n",
            "Win/lose count 0.5/0. Average score (0.7772727272727272)\n",
            "Win/lose count 3.0/0. Average score (0.7972972972972973)\n",
            "Win/lose count 2.0/0. Average score (0.8080357142857143)\n",
            "Win/lose count 0.5/0. Average score (0.8053097345132744)\n",
            "Win/lose count 0.5/0. Average score (0.8026315789473685)\n",
            "Win/lose count 1.0/0. Average score (0.8043478260869565)\n",
            "Win/lose count 2.0/0. Average score (0.8146551724137931)\n",
            "Win/lose count 0.0/0. Average score (0.8076923076923077)\n",
            "Win/lose count 0.5/0. Average score (0.8050847457627118)\n",
            "Win/lose count 1.5/0. Average score (0.8109243697478992)\n",
            "Win/lose count 2.0/0. Average score (0.8208333333333333)\n",
            "Win/lose count 0.5/0. Average score (0.8181818181818182)\n",
            "Win/lose count 1.0/0. Average score (0.819672131147541)\n",
            "Win/lose count 0.5/0. Average score (0.8170731707317073)\n",
            "Win/lose count 1.5/0. Average score (0.8225806451612904)\n",
            "Win/lose count 0.0/0. Average score (0.816)\n",
            "Win/lose count 1.0/0. Average score (0.8174603174603174)\n",
            "Win/lose count 0.5/0. Average score (0.8149606299212598)\n",
            "Win/lose count 1.5/0. Average score (0.8203125)\n",
            "Final score: 0.8203125\n",
            "Displaying  cnn_train99.mp4\n"
          ],
          "name": "stdout"
        },
        {
          "output_type": "execute_result",
          "data": {
            "text/html": [
              "<video alt=\"test\" controls>\n",
              "                <source src=\"data:video/mp4;base64,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\" type=\"video/mp4\" />\n",
              "             </video>"
            ],
            "text/plain": [
              "<IPython.core.display.HTML object>"
            ]
          },
          "metadata": {
            "tags": []
          },
          "execution_count": 20
        }
      ]
    },
    {
      "metadata": {
        "id": "ZEa5R3rHe8Qt",
        "colab_type": "text"
      },
      "cell_type": "markdown",
      "source": [
        "***\n",
        "***\n",
        "__Question 9__ Test both algorithms and compare their performances. Which issue(s) do you observe? Observe also different behaviors by changing the temperature."
      ]
    },
    {
      "metadata": {
        "id": "dGOlGh_ve8Qu",
        "colab_type": "code",
        "colab": {}
      },
      "cell_type": "code",
      "source": [
        "epochs_train = 128\n",
        "epochs_test = 128\n",
        "\n",
        "env = Environment(grid_size=size, max_time=T,temperature=0.3)\n",
        "agent_cnn = DQN_CNN(size, lr=.1, epsilon = 0.1, memory_size=2000, batch_size = 32)\n",
        "agent_cnn.load(name_weights='cnn_trainmodel.h5',name_model='cnn_trainmodel.json')\n",
        "\n",
        "agent_fc = DQN_FC(size, lr=.1, epsilon = 0.1, memory_size=2000, batch_size = 32)\n",
        "agent_cnn.load(name_weights='fc_trainmodel.h5',name_model='fc_trainmodel.json')\n",
        "print('Test of the CNN')\n",
        "test(agent_cnn,env,epochs_test,prefix='cnn_test')\n",
        "print('Test of the FC')\n",
        "test(agent_fc,env,epochs_test,prefix='fc_test')"
      ],
      "execution_count": 0,
      "outputs": []
    },
    {
      "metadata": {
        "id": "mdZ2s9c1e8Qw",
        "colab_type": "code",
        "colab": {}
      },
      "cell_type": "code",
      "source": [
        "video_paths = glob.glob(\"cnn_test*.mp4\")\n",
        "video_paths.sort()\n",
        "best_video_path = video_paths.pop()\n",
        "print(\"Displaying \", best_video_path)\n",
        "HTML(display_videos(best_video_path))"
      ],
      "execution_count": 0,
      "outputs": []
    },
    {
      "metadata": {
        "id": "89gsdVYge8Qz",
        "colab_type": "code",
        "colab": {}
      },
      "cell_type": "code",
      "source": [
        "video_paths = glob.glob(\"fc_test*.mp4\")\n",
        "video_paths.sort()\n",
        "best_video_path = video_paths.pop()\n",
        "print(\"Displaying \", best_video_path)\n",
        "HTML(display_videos(best_video_path))"
      ],
      "execution_count": 0,
      "outputs": []
    },
    {
      "metadata": {
        "id": "T3iII5ETe8Q1",
        "colab_type": "text"
      },
      "cell_type": "markdown",
      "source": [
        ""
      ]
    },
    {
      "metadata": {
        "id": "Z1cbxNjFe8Q2",
        "colab_type": "text"
      },
      "cell_type": "markdown",
      "source": [
        "***\n",
        "\n",
        "The algorithm tends to not explore the map which can be an issue. We propose two ideas in order to encourage exploration:\n",
        "1. Incorporating a decreasing $\\epsilon$-greedy exploration. You can use the method ```set_epsilon```\n",
        "2. Append via the environment a new state that describes if a cell has been visited or not\n",
        "\n",
        "***\n",
        "__Question 10__ Design a new ```train_explore``` function and environment class ```EnvironmentExploring``` to tackle the issue of exploration.\n",
        "\n"
      ]
    },
    {
      "metadata": {
        "id": "IaHnXmPwe8Q3",
        "colab_type": "code",
        "colab": {}
      },
      "cell_type": "code",
      "source": [
        "#def train_explore(agent,env,epoch,prefix=''):\n",
        "#    pass\n",
        "\n",
        "#class EnvironmentExploring(object):\n",
        "#    def __init__(self, grid_size=10, max_time=500, temperature=0.1):\n",
        "#        pass\n",
        "\n",
        "EPSILON_EVOLUTION = 0.8\n",
        "def train_explore(agent,env,epoch,prefix=''):\n",
        "    # Number of won games\n",
        "    score = 0\n",
        "    loss = 0\n",
        "\n",
        "    for e in range(epoch):\n",
        "        # At each epoch, we restart to a fresh game and get the initial state\n",
        "        state = env.reset()\n",
        "        # This assumes that the games will terminate\n",
        "        game_over = False\n",
        "\n",
        "        win = 0\n",
        "        lose = 0\n",
        "        agent.set_epsilon(agent.epsilon*EPSILON_EVOLUTION)\n",
        "        \n",
        "        while not game_over:\n",
        "            # The agent performs an action\n",
        "            action = agent.act(state, train=True)\n",
        "\n",
        "            # Apply an action to the environment, get the next state, the reward\n",
        "            # and if the games end\n",
        "            prev_state = state\n",
        "            state, reward, game_over = env.act(action, train=True)\n",
        "\n",
        "            # Update the counters\n",
        "            if reward > 0:\n",
        "                win = win + reward\n",
        "            if reward < 0:\n",
        "                lose = lose - reward\n",
        "\n",
        "            # Apply the reinforcement strategy\n",
        "            loss = agent.reinforce(prev_state, state,  action, reward, game_over)\n",
        "\n",
        "        # Save as a mp4\n",
        "        if e % 10 == 0:\n",
        "            env.draw(prefix+str(e))\n",
        "\n",
        "        # Update stats\n",
        "        score += win-lose\n",
        "\n",
        "        print(\"Epoch {:03d}/{:03d} | Loss {:.4f} | Win/lose count {}/{} ({})\"\n",
        "              .format(e+1, epoch, loss, win, lose, win-lose))\n",
        "        agent.save(name_weights=prefix+'model.h5',name_model=prefix+'model.json')\n",
        "\n",
        "\n",
        "class EnvironmentExploring(object):\n",
        "    def __init__(self, grid_size=10, max_time=500, temperature=0.1):\n",
        "        grid_size = grid_size+4\n",
        "        self.grid_size = grid_size\n",
        "        self.max_time = max_time\n",
        "        self.temperature = temperature\n",
        "\n",
        "        #board on which one plays\n",
        "        self.board = np.zeros((grid_size,grid_size))\n",
        "        self.position = np.zeros((grid_size,grid_size))\n",
        "        self.malus_visited = np.zeros((grid_size,grid_size))\n",
        "\n",
        "        # coordinate of the cat\n",
        "        self.x = 0\n",
        "        self.y = 1\n",
        "\n",
        "        # self time\n",
        "        self.t = 0\n",
        "\n",
        "        self.scale=16\n",
        "\n",
        "        self.to_draw = np.zeros((max_time+2, grid_size*self.scale, grid_size*self.scale, 3))\n",
        "\n",
        "\n",
        "    def draw(self,e):\n",
        "        skvideo.io.vwrite(str(e) + '.mp4', self.to_draw)\n",
        "\n",
        "    def get_frame(self,t):\n",
        "        b = np.zeros((self.grid_size,self.grid_size,3))+128\n",
        "        b[self.board>0,0] = 256\n",
        "        b[self.board < 0, 2] = 256\n",
        "        b[self.x,self.y,:]=256\n",
        "        b[-2:,:,:]=0\n",
        "        b[:,-2:,:]=0\n",
        "        b[:2,:,:]=0\n",
        "        b[:,:2,:]=0\n",
        "        \n",
        "        b =  cv2.resize(b, None, fx=self.scale, fy=self.scale, interpolation=cv2.INTER_NEAREST)\n",
        "\n",
        "        self.to_draw[t,:,:,:]=b\n",
        "\n",
        "\n",
        "    def act(self, action, train=True):\n",
        "        \"\"\"This function returns the new state, reward and decides if the\n",
        "        game ends.\"\"\"\n",
        "\n",
        "        self.get_frame(int(self.t))\n",
        "\n",
        "        self.position = np.zeros((self.grid_size, self.grid_size))\n",
        "\n",
        "        self.position[0:2,:]= -1\n",
        "        self.position[:,0:2] = -1\n",
        "        self.position[-2:, :] = -1\n",
        "        self.position[-2:, :] = -1\n",
        "\n",
        "        self.position[self.x, self.y] = 1\n",
        "        if action == 0:\n",
        "            if self.x == self.grid_size-3:\n",
        "                self.x = self.x-1\n",
        "            else:\n",
        "                self.x = self.x + 1\n",
        "        elif action == 1:\n",
        "            if self.x == 2:\n",
        "                self.x = self.x+1\n",
        "            else:\n",
        "                self.x = self.x-1\n",
        "        elif action == 2:\n",
        "            if self.y == self.grid_size - 3:\n",
        "                self.y = self.y - 1\n",
        "            else:\n",
        "                self.y = self.y + 1\n",
        "        elif action == 3:\n",
        "            if self.y == 2:\n",
        "                self.y = self.y + 1\n",
        "            else:\n",
        "                self.y = self.y - 1\n",
        "        else:\n",
        "            RuntimeError('Error: action not recognized')\n",
        "            \n",
        "        self.t = self.t + 1\n",
        "        reward = self.board[self.x, self.y]\n",
        "        self.board[self.x, self.y] = 0\n",
        "        \n",
        "        # Including malus on already visited position\n",
        "        if train:\n",
        "            reward += self.malus_visited[self.x, self.y]\n",
        "            self.malus_visited[self.x, self.y] = -0.75\n",
        "        \n",
        "        game_over = self.t > self.max_time\n",
        "        # We add the matrix malus_visited to the state for the Deep Learning to take it into account.\n",
        "        state = np.concatenate((self.malus_visited.reshape(self.grid_size, self.grid_size,1),\n",
        "                                self.board.reshape(self.grid_size, self.grid_size,1),\n",
        "                                self.position.reshape(self.grid_size, self.grid_size,1)),\n",
        "                                axis=2)\n",
        "        state = state[self.x-2:self.x+3,self.y-2:self.y+3,:]\n",
        "\n",
        "        return state, reward, game_over\n",
        "\n",
        "    def reset(self):\n",
        "        \"\"\"This function resets the game and returns the initial state\"\"\"\n",
        "\n",
        "        self.x = np.random.randint(3, self.grid_size-3, size=1)[0]\n",
        "        self.y = np.random.randint(3, self.grid_size-3, size=1)[0]\n",
        "\n",
        "\n",
        "        bonus = 0.5*np.random.binomial(1,self.temperature,size=self.grid_size**2)\n",
        "        bonus = bonus.reshape(self.grid_size,self.grid_size)\n",
        "\n",
        "        malus = -1.0*np.random.binomial(1,self.temperature,size=self.grid_size**2)\n",
        "        malus = malus.reshape(self.grid_size, self.grid_size)\n",
        "\n",
        "        self.to_draw = np.zeros((self.max_time+2, self.grid_size*self.scale, self.grid_size*self.scale, 3))\n",
        "\n",
        "\n",
        "        malus[bonus>0]=0\n",
        "\n",
        "        self.board = bonus + malus\n",
        "        \n",
        "        self.malus_visited = np.zeros((grid_size,grid_size))\n",
        "        \n",
        "        self.position = np.zeros((self.grid_size, self.grid_size))\n",
        "        self.position[0:2,:]= -1\n",
        "        self.position[:,0:2] = -1\n",
        "        self.position[-2:, :] = -1\n",
        "        self.position[-2:, :] = -1\n",
        "        self.board[self.x,self.y] = 0\n",
        "        self.t = 0\n",
        "\n",
        "        state = np.concatenate((\n",
        "            self.malus_visited.reshape(self.grid_size, self.grid_size,1),\n",
        "            self.board.reshape(self.grid_size, self.grid_size,1),\n",
        "            self.position.reshape(self.grid_size, self.grid_size,1)),\n",
        "            axis=2)\n",
        "\n",
        "        state = state[self.x - 2:self.x + 3, self.y - 2:self.y + 3, :]\n",
        "        return state\n",
        "    \n",
        "    \n",
        "## use those samples of code:\n",
        "#In train explore:\n",
        "#state, reward, game_over = env.act(action, train=True)\n",
        "\n",
        "## In Environment exploring:\n",
        "# You will have to change n_state to 3 because you will use one more layer!\n",
        "#reward = 0\n",
        "#if train:\n",
        "#    reward = -self.malus_position[self.x, self.y]\n",
        "#self.malus_position[self.x, self.y] = 0.1\n",
        "\n",
        "#reward = reward + self.board[self.x, self.y]\n",
        "# 3 \"feature\" states instead of 2\n",
        "#state = np.concatenate((self.malus_position.reshape(self.grid_size, self.grid_size,1),\n",
        "#                                self.board.reshape(self.grid_size, self.grid_size,1),\n",
        "#                        self.position.reshape(self.grid_size, self.grid_size,1)),axis=2)"
      ],
      "execution_count": 0,
      "outputs": []
    },
    {
      "metadata": {
        "id": "rrkRD2y6e8Q6",
        "colab_type": "code",
        "colab": {}
      },
      "cell_type": "code",
      "source": [
        "# Training\n",
        "env = EnvironmentExploring(grid_size=size, max_time=T, temperature=0.3)\n",
        "agent = DQN_CNN(size, lr=.1, epsilon = 0.1, memory_size=2000, batch_size = 32,n_state=3)\n",
        "train_explore(agent, env, epochs_train, prefix='cnn_train_explore')\n",
        "\n",
        "video_paths = glob.glob(\"cnn_train_explore*.mp4\")\n",
        "video_paths.sort()\n",
        "best_video_path = video_paths.pop()\n",
        "print(\"Displaying \", best_video_path)\n",
        "HTML(display_videos(best_video_path))"
      ],
      "execution_count": 0,
      "outputs": []
    },
    {
      "metadata": {
        "id": "u9pByfjDe8Q_",
        "colab_type": "code",
        "colab": {}
      },
      "cell_type": "code",
      "source": [
        "# Evaluation\n",
        "test(agent,env,epochs_test,prefix='cnn_test_explore')\n",
        "video_paths = glob.glob(\"cnn_test_explore*.mp4\")\n",
        "video_paths.sort()\n",
        "best_video_path = video_paths.pop()\n",
        "print(\"Displaying \", best_video_path)\n",
        "HTML(display_videos(best_video_path))"
      ],
      "execution_count": 0,
      "outputs": []
    },
    {
      "metadata": {
        "id": "sfHr7ItXe8RC",
        "colab_type": "text"
      },
      "cell_type": "markdown",
      "source": [
        "***\n",
        "***\n",
        "__BONUS question__ Use the expert DQN from the previous question to generate some winning games. Train a model that mimicks its behavior. Compare the performances."
      ]
    },
    {
      "metadata": {
        "id": "3s4DYUnPe8RD",
        "colab_type": "text"
      },
      "cell_type": "markdown",
      "source": [
        ""
      ]
    },
    {
      "metadata": {
        "id": "GPQeP-o3e8RE",
        "colab_type": "text"
      },
      "cell_type": "markdown",
      "source": [
        "***"
      ]
    }
  ]
}