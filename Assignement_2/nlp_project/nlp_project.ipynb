{
 "cells": [
  {
   "cell_type": "markdown",
   "metadata": {},
   "source": [
    "# Deep Learning for NLP - Project - Paul Asquin"
   ]
  },
  {
   "cell_type": "markdown",
   "metadata": {},
   "source": [
    "RULES:\n",
    "\n",
    "* Do not create any additional cell\n",
    "\n",
    "* Fill in the blanks\n",
    "\n",
    "* All cells should be runnable (modulo trivial compatibility bugs that we'd fix)\n",
    "\n",
    "* 4 / 20 points will be allocated to the clarity of your code\n",
    "\n",
    "* Efficient code will have a bonus\n",
    "\n",
    "DELIVERABLE:\n",
    "\n",
    "* this notebook\n",
    "* the predictions of the SST test set\n",
    "\n",
    "DO NOT INCLUDE THE DATASETS IN THE DELIVERABLE.."
   ]
  },
  {
   "cell_type": "code",
   "execution_count": 1,
   "metadata": {},
   "outputs": [],
   "source": [
    "import io\n",
    "import os\n",
    "import numpy as np\n",
    "import scipy"
   ]
  },
  {
   "cell_type": "code",
   "execution_count": 2,
   "metadata": {},
   "outputs": [],
   "source": [
    "PATH_TO_DATA = \"data/\""
   ]
  },
  {
   "cell_type": "markdown",
   "metadata": {},
   "source": [
    "# 1) Monolingual (English) word embeddings "
   ]
  },
  {
   "cell_type": "code",
   "execution_count": 3,
   "metadata": {},
   "outputs": [],
   "source": [
    "class Word2vec():\n",
    "    def __init__(self, fname, nmax=100000):\n",
    "        self.load_wordvec(fname, nmax)\n",
    "        self.word2id = dict.fromkeys(self.word2vec.keys())\n",
    "        self.id2word = {v: k for k, v in self.word2id.items()}\n",
    "        self.embeddings = np.array(self.word2vec.values())\n",
    "    \n",
    "    def load_wordvec(self, fname, nmax):\n",
    "        self.word2vec = {}\n",
    "        with io.open(fname, encoding='utf-8') as f:\n",
    "            next(f)\n",
    "            for i, line in enumerate(f):\n",
    "                word, vec = line.split(' ', 1)\n",
    "                self.word2vec[word] = np.fromstring(vec, sep=' ')\n",
    "                if i == (nmax - 1):\n",
    "                    break\n",
    "        print('Loaded %s pretrained word vectors' % (len(self.word2vec)))\n",
    "\n",
    "    def most_similar(self, w, K=5):\n",
    "        # K most similar words: self.score  -  np.argsort \n",
    "        \n",
    "        # Patching id2word\n",
    "        for i, key in enumerate(self.word2vec.keys()):\n",
    "            self.word2id[key]=i    \n",
    "        self.id2word = {v: k for k, v in self.word2id.items()}\n",
    "        \n",
    "        # Computing scores\n",
    "        scores = []\n",
    "        for dic_word in self.word2vec:\n",
    "            scores.append(self.score(w, dic_word))\n",
    "            \n",
    "        # Extracting the K best ids (K last with sorted list)\n",
    "        id_K_most_similar = np.argsort(scores)[::-1][0:K]\n",
    "    \n",
    "        # Getting their names\n",
    "        word_K_most_similar = []\n",
    "        for id_word in id_K_most_similar:\n",
    "            word_K_most_similar.append(self.id2word[id_word])\n",
    "\n",
    "        return word_K_most_similar\n",
    "        \n",
    "    def score(self, w1, w2):\n",
    "        # cosine similarity: np.dot  -  np.linalg.norm\n",
    "        if w1 in self.word2vec.keys() and w2 in self.word2vec.keys():\n",
    "            w1_emb = self.word2vec[w1]\n",
    "            w2_emb = self.word2vec[w2]\n",
    "            return np.dot(w1_emb, w2_emb) / (np.linalg.norm(w1_emb) * np.linalg.norm(w2_emb))\n",
    "        else:\n",
    "            return 0"
   ]
  },
  {
   "cell_type": "code",
   "execution_count": 4,
   "metadata": {},
   "outputs": [
    {
     "name": "stdout",
     "output_type": "stream",
     "text": [
      "Loaded 30000 pretrained word vectors\n",
      "cat dog 0.671683666279249\n",
      "dog pet 0.6842064029669219\n",
      "dogs cats 0.7074389328052404\n",
      "paris france 0.7775108541288563\n",
      "germany berlin 0\n",
      "['cat', 'cats', 'kitty', 'kitten', 'feline']\n",
      "['dog', 'dogs', 'puppy', 'Dog', 'canine']\n",
      "['dogs', 'dog', 'Dogs', 'puppies', 'cats']\n",
      "['paris', 'france', 'Paris', 'london', 'europe']\n",
      "['germany', 'europe', 'german', 'france', 'Germany']\n"
     ]
    }
   ],
   "source": [
    "w2v = Word2vec(os.path.join(PATH_TO_DATA, 'crawl-300d-200k.vec'), nmax=30000)\n",
    "\n",
    "# You will be evaluated on the output of the following:\n",
    "for w1, w2 in zip(('cat', 'dog', 'dogs', 'paris', 'germany'), ('dog', 'pet', 'cats', 'france', 'berlin')):\n",
    "    print(w1, w2, w2v.score(w1, w2))\n",
    "for w1 in ['cat', 'dog', 'dogs', 'paris', 'germany']:\n",
    "    print(w2v.most_similar(w1))\n",
    "    \n",
    "# NOTE : On teacher's adive, used nmax = 30000 to obtain coherent results for paris, france, germany and berlin"
   ]
  },
  {
   "cell_type": "code",
   "execution_count": 7,
   "metadata": {},
   "outputs": [],
   "source": [
    "class BoV():\n",
    "    def __init__(self, w2v):\n",
    "        self.w2v = w2v\n",
    "    \n",
    "    def encode(self, sentences, idf=False):\n",
    "        # takes a list of sentences, outputs a numpy array of sentence embeddings\n",
    "        # see TP1 for help\n",
    "        sentemb = []\n",
    "        for sent in sentences:\n",
    "            if idf is False:\n",
    "                # mean of word vectors \n",
    "                embeddings = []\n",
    "                for word in sent:\n",
    "                    if word in self.w2v.word2vec:\n",
    "                        embeddings.append(self.w2v.word2vec[word])\n",
    "                if len(embeddings) == 0:\n",
    "                    sentemb.append(np.zeros(list(self.w2v.word2vec.values())[0].shape))\n",
    "                else:\n",
    "                    sentemb.append(np.mean(embeddings, axis=0))\n",
    "            else:\n",
    "                # idf-weighted mean of word vectors\n",
    "                embeddings = []\n",
    "                for word in sent:\n",
    "                    if word in self.w2v.word2vec:\n",
    "                        embeddings.append(idf[word] * self.w2v.word2vec[word])\n",
    "                if len(embeddings) == 0:\n",
    "                    sentemb.append(np.zeros(list(self.w2v.word2vec.values())[0].shape))\n",
    "                else:\n",
    "                    sentemb.append(np.mean(embeddings, axis=0))\n",
    "        return np.vstack(sentemb)\n",
    "\n",
    "    def most_similar(self, s, sentences, idf=False, K=5):\n",
    "        # get most similar sentences and **print** them\n",
    "        keys = self.encode(sentences, idf)\n",
    "        query = self.encode([s], idf)\n",
    "        \n",
    "        scores = []\n",
    "        similar_sentences = []\n",
    "        # Computing scores\n",
    "        for id_sentence in sentences:\n",
    "            scores.append(self.score(s, id_sentence, idf))\n",
    "        \n",
    "        # Extracting the K best ids (K last with sorted list)\n",
    "        id_K_most_similar = (np.argsort(scores)[::-1][0:K])\n",
    "    \n",
    "        # Getting the sentences\n",
    "        for id_similar_sentence in id_K_most_similar:\n",
    "            similar_sentences.append(sentences[id_similar_sentence])\n",
    "        print(\"\\nSimilar sentences to \", \" \".join(s), \" :\") \n",
    "        print(\"\\n\".join([\" \".join(sentence) for sentence in similar_sentences]))\n",
    "        return similar_sentences\n",
    "\n",
    "    def score(self, s1, s2, idf=False):\n",
    "        # cosine similarity: use   np.dot  and  np.linalg.norm\n",
    "        s1_emb = self.encode([s1], idf)\n",
    "        s2_emb = self.encode([s2], idf)\n",
    "        if np.linalg.norm(s1_emb) != 0 and np.linalg.norm(s2_emb)!=0:\n",
    "            return np.dot(s1_emb, s2_emb.T) / (np.linalg.norm(s1_emb) * np.linalg.norm(s2_emb))\n",
    "        else:\n",
    "            return 0\n",
    "    \n",
    "    def build_idf(self, sentences):\n",
    "        # build the idf dictionary: associate each word to its idf value\n",
    "        idf = {}\n",
    "        for sent in sentences:\n",
    "            for w in set(sent):\n",
    "                idf[w] = idf.get(w, 0) + 1\n",
    "        for word in idf:\n",
    "            idf[word] = max(1, np.log10(len(sentences) / (idf[word])))\n",
    "        return idf\n"
   ]
  },
  {
   "cell_type": "code",
   "execution_count": 8,
   "metadata": {},
   "outputs": [
    {
     "name": "stdout",
     "output_type": "stream",
     "text": [
      "Loaded 5000 pretrained word vectors\n",
      "\n",
      "Similar sentences to  1 smiling african american boy .  :\n",
      "1 smiling african american boy .\n",
      "blond boy waterskiing .\n",
      "a boy jumps .\n",
      "a boy jumps .\n",
      "a boy smiles underwater .\n",
      "\n",
      "Similar sentences to  1 smiling african american boy .  :\n",
      "1 smiling african american boy .\n",
      "5 women and 1 man are smiling for the camera .\n",
      "a man rides a 4 wheeler in the desert .\n",
      "3 males and 1 woman enjoying a sporting event\n",
      "a man in black is juggling 3 flamed bottles .\n"
     ]
    },
    {
     "data": {
      "text/plain": [
       "array([[0.59633357]])"
      ]
     },
     "execution_count": 8,
     "metadata": {},
     "output_type": "execute_result"
    }
   ],
   "source": [
    "w2v = Word2vec(os.path.join(PATH_TO_DATA, 'crawl-300d-200k.vec'), nmax=5000)\n",
    "s2v = BoV(w2v)\n",
    "\n",
    "# Load sentences in \"PATH_TO_DATA/sentences.txt\"\n",
    "sentences = []\n",
    "with open(os.path.join(PATH_TO_DATA,'sentences.txt')) as file_sentences:\n",
    "    for line in file_sentences:\n",
    "        sentences.append(line.replace(\" \\n\", \"\").replace(\"\\n\", \"\").split(\" \"))\n",
    "\n",
    "# Build idf scores for each word\n",
    "#idf = {} if True else s2v.build_idf(sentences)\n",
    "idf = s2v.build_idf(sentences)\n",
    "\n",
    "# You will be evaluated on the output of the following:\n",
    "s2v.most_similar('' if not sentences else sentences[10], sentences)  # BoV-mean\n",
    "s2v.score('' if not sentences else sentences[7], '' if not sentences else sentences[13])\n",
    "\n",
    "\n",
    "# idf = {}  \n",
    "s2v.most_similar('' if not sentences else sentences[10], sentences, idf)  # BoV-idf\n",
    "s2v.score('' if not sentences else sentences[7], '' if not sentences else sentences[13], idf)"
   ]
  },
  {
   "cell_type": "markdown",
   "metadata": {},
   "source": [
    "# 2) Multilingual (English-French) word embeddings"
   ]
  },
  {
   "cell_type": "markdown",
   "metadata": {},
   "source": [
    "Let's consider a bilingual dictionary of size V_a (e.g French-English).\n",
    "\n",
    "Let's define **X** and **Y** the **French** and **English** matrices.\n",
    "\n",
    "They contain the embeddings associated to the words in the bilingual dictionary.\n",
    "\n",
    "We want to find a **mapping W** that will project the source word space (e.g French) to the target word space (e.g English).\n",
    "\n",
    "Procrustes : **W\\* = argmin || W.X - Y ||  s.t  W^T.W = Id**\n",
    "has a closed form solution:\n",
    "**W = U.V^T  where  U.Sig.V^T = SVD(Y.X^T)**\n",
    "\n",
    "In what follows, you are asked to: "
   ]
  },
  {
   "cell_type": "code",
   "execution_count": 9,
   "metadata": {},
   "outputs": [
    {
     "name": "stdout",
     "output_type": "stream",
     "text": [
      "Loading English\n",
      "Loaded 50000 pretrained word vectors\n",
      "Loading French\n",
      "Loaded 50000 pretrained word vectors\n"
     ]
    }
   ],
   "source": [
    "# 1 - Download and load 50k first vectors of\n",
    "#     https://s3-us-west-1.amazonaws.com/fasttext-vectors/wiki.en.vec\n",
    "#     https://s3-us-west-1.amazonaws.com/fasttext-vectors/wiki.fr.vec\n",
    "\n",
    "print(\"Loading English\")\n",
    "word2vec_en = Word2vec(os.path.join(PATH_TO_DATA, 'wiki.en.vec'), nmax=50000)\n",
    "print(\"Loading French\")\n",
    "word2vec_fr = Word2vec(os.path.join(PATH_TO_DATA, 'wiki.fr.vec'), nmax=50000)\n",
    "\n",
    "# Patching id2word\n",
    "for i, key in enumerate(word2vec_fr.word2vec.keys()):\n",
    "    word2vec_fr.word2id[key]=i    \n",
    "word2vec_fr.id2word = {v: k for k, v in word2vec_fr.word2id.items()}\n",
    "\n",
    "for i, key in enumerate(word2vec_en.word2vec.keys()):\n",
    "    word2vec_en.word2id[key]=i    \n",
    "word2vec_en.id2word = {v: k for k, v in word2vec_en.word2id.items()}\n"
   ]
  },
  {
   "cell_type": "code",
   "execution_count": 10,
   "metadata": {},
   "outputs": [
    {
     "name": "stdout",
     "output_type": "stream",
     "text": [
      "# shared words 18970\n",
      "X shape :  (300, 18970)\n",
      "Y shape :  (300, 18970)\n"
     ]
    }
   ],
   "source": [
    "# 2 - Get words that appear in both vocabs (= identical character strings)\n",
    "#     Use it to create the matrix X and Y (of aligned embeddings for these words)\n",
    "\n",
    "shared_words = []\n",
    "for word in word2vec_en.word2vec:\n",
    "    if word in word2vec_fr.word2vec:\n",
    "        shared_words.append(word)\n",
    "\n",
    "print(\"# shared words\", len(shared_words))\n",
    "\n",
    "X = []\n",
    "Y = []\n",
    "for word in shared_words:\n",
    "    X.append(word2vec_en.word2vec[word])\n",
    "    Y.append(word2vec_fr.word2vec[word])\n",
    "  \n",
    "X = np.array(X).T\n",
    "Y = np.array(Y).T\n",
    "\n",
    "print(\"X shape : \", X.shape)\n",
    "print(\"Y shape : \", X.shape)"
   ]
  },
  {
   "cell_type": "code",
   "execution_count": 11,
   "metadata": {},
   "outputs": [
    {
     "name": "stdout",
     "output_type": "stream",
     "text": [
      "U shape (300, 300)\n",
      "W shape (300, 300)\n",
      "word2vec_fr_trans shape (50000, 300)\n"
     ]
    }
   ],
   "source": [
    "# 3 - Solve the Procrustes using the scipy package and: scipy.linalg.svd() and get the optimal W\n",
    "#     Now W*French_vector is in the same space as English_vector\n",
    "\n",
    "from scipy import linalg\n",
    "U, S, V = linalg.svd(np.dot(Y, X.T))\n",
    "W = np.dot(U, V)\n",
    "word2vec_fr_trans = np.dot(list(word2vec_fr.word2vec.values()), W)\n",
    "\n",
    "id2word_fr_trans = dict()\n",
    "id2word_fr_list = list(word2vec_fr.word2vec)\n",
    "\n",
    "for id_word in range(len(word2vec_fr_trans)):\n",
    "    id2word_fr_trans[id2word_fr_list[id_word]] = word2vec_fr_trans[id_word]\n",
    "\n",
    "print(\"U shape\", U.shape)\n",
    "print(\"W shape\", W.shape)\n",
    "print(\"word2vec_fr_trans shape\", word2vec_fr_trans.shape)"
   ]
  },
  {
   "cell_type": "code",
   "execution_count": 12,
   "metadata": {},
   "outputs": [
    {
     "name": "stdout",
     "output_type": "stream",
     "text": [
      "souris : ['mouse', 'mice', 'rats', 'rodents', 'raccoons']\n",
      "chat : ['cat', 'rabbit', 'hamster', 'feline', 'poodle']\n",
      "chien : ['dog', 'poodle', 'terrier', 'dogs', 'spaniel']\n",
      "voiture : ['car', 'cars', 'limousine', 'suv', 'roadster']\n",
      "maison : ['house', 'maison', 'townhouse', 'hôtel', 'mansion']\n",
      " --- \n",
      "elephant : ['éléphant', 'elephant', 'éléphants', 'rhinocéros', 'panthère']\n",
      "bed : ['lit', 'matelas', 'lits', 'baignoire', 'sleeping']\n",
      "kitchen : ['cuisines', 'cuisine', 'room', 'kitchen', 'cuisiner']\n",
      "mountain : ['mountain', 'montagne', 'mountains', 'peak', 'montagneuse']\n",
      "cat : ['cat', 'chat', 'dog', 'chats', 'chien']\n"
     ]
    }
   ],
   "source": [
    "# 4 - After alignment with W, give examples of English nearest neighbors of some French words (and vice versa)\n",
    "#     You will be evaluated on that part and the code above\n",
    "\n",
    "def score(word_vec, word_vec_candidate):\n",
    "    return np.dot(word_vec, word_vec_candidate)/(np.linalg.norm(word_vec)*np.linalg.norm(word_vec_candidate))\n",
    "\n",
    "def trans_fr2en(word_to_trans, K = 5):\n",
    "    if word_to_trans not in id2word_fr_trans:\n",
    "        raise ValueError(\"Word not in dic\")\n",
    "    \n",
    "    # Get scores\n",
    "    scores = {}\n",
    "    for word in word2vec_en.word2vec:\n",
    "        word_vec = id2word_fr_trans[word_to_trans]\n",
    "        word_vec_candidate = word2vec_en.word2vec[word]\n",
    "        scores[word] = score(word_vec, word_vec_candidate)\n",
    "    return sorted(scores, key=scores.get)[::-1][0:K]\n",
    "\n",
    "fr = [\"souris\", \"chat\", \"chien\", \"voiture\", \"maison\"]\n",
    "for word in fr:\n",
    "    print(word, \":\", trans_fr2en(word))\n",
    "\n",
    "        \n",
    "def trans_en2fr(word_to_trans, K = 5):\n",
    "    if word_to_trans not in word2vec_en.word2vec:\n",
    "        raise ValueError(\"Word not in dic\")\n",
    "    \n",
    "    # Get scores\n",
    "    scores = {}\n",
    "    for word in id2word_fr_trans:\n",
    "        word_vec = word2vec_en.word2vec[word_to_trans]\n",
    "        word_vec_candidate = np.array(id2word_fr_trans[word])\n",
    "        scores[word] = score(word_vec, word_vec_candidate)\n",
    "    return sorted(scores, key=scores.get)[::-1][0:K]\n",
    "\n",
    "print(\" --- \")\n",
    "\n",
    "fr = [\"elephant\", \"bed\", \"kitchen\", \"mountain\", \"cat\"]\n",
    "for word in fr:\n",
    "    print(word, \":\", trans_en2fr(word))\n",
    "\n"
   ]
  },
  {
   "cell_type": "markdown",
   "metadata": {},
   "source": [
    "If you want to dive deeper on this subject: https://github.com/facebookresearch/MUSE"
   ]
  },
  {
   "cell_type": "markdown",
   "metadata": {},
   "source": [
    "# 3) Sentence classification with BoV and scikit-learn"
   ]
  },
  {
   "cell_type": "code",
   "execution_count": 13,
   "metadata": {},
   "outputs": [],
   "source": [
    "# 1 - Load train/dev/test of Stanford Sentiment TreeBank (SST)\n",
    "#     (https://nlp.stanford.edu/~socherr/EMNLP2013_RNTN.pdf)\n",
    "path_train = os.path.join(PATH_TO_DATA,'SST','stsa.fine.train')\n",
    "path_dev = os.path.join(PATH_TO_DATA,'SST','stsa.fine.dev')\n",
    "path_test = os.path.join(PATH_TO_DATA,'SST','stsa.fine.test.X')\n",
    "\n",
    "def read_training(file_path):\n",
    "    with open(file_path,'r') as file:\n",
    "        x = []\n",
    "        y = []\n",
    "        for line in file:\n",
    "            x.append(line[2:].split())\n",
    "            y.append(int(line[0])) \n",
    "    return x, y\n",
    "\n",
    "def read_test(file_path):\n",
    "    x = []\n",
    "    with open(file_path,'r') as file:\n",
    "        for line in file:\n",
    "            x.append(line.split())\n",
    "    return x\n",
    "\n",
    "x_train, y_train = read_training(path_train)\n",
    "x_dev, y_dev = read_training(path_dev)\n",
    "x_test = read_test(path_test)"
   ]
  },
  {
   "cell_type": "code",
   "execution_count": 14,
   "metadata": {},
   "outputs": [
    {
     "name": "stdout",
     "output_type": "stream",
     "text": [
      "Loaded 50000 pretrained word vectors\n"
     ]
    }
   ],
   "source": [
    "# 2 - Encode sentences with the BoV model above\n",
    "\n",
    "# Init vocabularies\n",
    "word2vec_en = Word2vec(os.path.join(PATH_TO_DATA, 'wiki.en.vec'), nmax=50000)\n",
    "sentence2vec = BoV(w2v)\n",
    "\n",
    "# Compute idf\n",
    "# idf = sentence2vec.build_idf(x_train + x_dev + x_test)\n",
    "\n",
    "# Encode vectors\n",
    "x_train_enc = sentence2vec.encode(x_train)\n",
    "x_dev_enc = sentence2vec.encode(x_dev)\n",
    "x_test_enc = sentence2vec.encode(x_test)\n",
    "\n",
    "# Encode vectors using idf\n",
    "# x_train_enc_idf = sentence2vec.encode(x_train,idf)\n",
    "# x_dev_enc_idf = sentence2vec.encode(x_dev,idf)"
   ]
  },
  {
   "cell_type": "code",
   "execution_count": 15,
   "metadata": {},
   "outputs": [
    {
     "name": "stdout",
     "output_type": "stream",
     "text": [
      "Train set accuracy  0.4328183520599251\n",
      "Dev   set accuracy  0.3751135331516803\n"
     ]
    }
   ],
   "source": [
    "# 3 - Learn Logistic Regression on top of sentence embeddings using scikit-learn\n",
    "#     (consider tuning the L2 regularization on the dev set)\n",
    "\n",
    "import sklearn.linear_model as linear_model\n",
    "import sklearn.metrics as metrics\n",
    "\n",
    "lr = linear_model.LogisticRegression(C= 0.9, max_iter=5000, tol=1e-9, solver='lbfgs', multi_class='auto')\n",
    "lr.fit(x_train_enc,y_train)\n",
    "pred_dev = lr.predict(x_dev_enc)\n",
    "pred_train = lr.predict(x_train_enc)\n",
    "\n",
    "print(\"Train set accuracy \", metrics.accuracy_score(y_train, pred_train))\n",
    "print(\"Dev   set accuracy \", metrics.accuracy_score(y_dev, pred_dev))"
   ]
  },
  {
   "cell_type": "code",
   "execution_count": 16,
   "metadata": {},
   "outputs": [],
   "source": [
    "# 4 - Produce 2210 predictions for the test set (in the same order). One line = one prediction (=0,1,2,3,4).\n",
    "#     Attach the output file \"logreg_bov_y_test_sst.txt\" to your deliverable.\n",
    "#     You will be evaluated on the results of the test set.\n",
    "\n",
    "# Generating prediction for test vector\n",
    "pred_test = lr.predict(x_test_enc)\n",
    "\n",
    "# Writting the results\n",
    "with open(\"logreg_bov_y_test_sst.txt\",'w') as file:\n",
    "    for line in pred_test:\n",
    "        file.write(str(line) + \"\\n\")"
   ]
  },
  {
   "cell_type": "code",
   "execution_count": 17,
   "metadata": {},
   "outputs": [],
   "source": [
    "# BONUS!\n",
    "# 5 - Try to improve performance with another classifier\n",
    "#     Attach the output file \"XXX_bov_y_test_sst.txt\" to your deliverable (where XXX = the name of the classifier)\n",
    "\n",
    "# TYPE CODE HERE"
   ]
  },
  {
   "cell_type": "markdown",
   "metadata": {},
   "source": [
    "# 4) Sentence classification with LSTMs in Keras"
   ]
  },
  {
   "cell_type": "markdown",
   "metadata": {},
   "source": [
    "## 4.1 - Preprocessing"
   ]
  },
  {
   "cell_type": "code",
   "execution_count": 18,
   "metadata": {},
   "outputs": [
    {
     "name": "stderr",
     "output_type": "stream",
     "text": [
      "Using TensorFlow backend.\n"
     ]
    }
   ],
   "source": [
    "import keras"
   ]
  },
  {
   "cell_type": "code",
   "execution_count": 19,
   "metadata": {},
   "outputs": [],
   "source": [
    "# 1 - Load train/dev/test sets of SST\n",
    "# PATH_TO_DATA = \"../../data/\"\n",
    "\n",
    "path_train2 = os.path.join(PATH_TO_DATA,'SST','stsa.fine.train')\n",
    "path_dev2 = os.path.join(PATH_TO_DATA,'SST','stsa.fine.dev')\n",
    "path_test2 = os.path.join(PATH_TO_DATA,'SST','stsa.fine.test.X')\n",
    "\n",
    "x_train2, y_train2 = read_training(path_train2)\n",
    "x_dev2, y_dev2 = read_training(path_dev2)\n",
    "x_test2 = read_test(path_test2)"
   ]
  },
  {
   "cell_type": "code",
   "execution_count": 20,
   "metadata": {},
   "outputs": [],
   "source": [
    "# 2 - Transform text to integers using keras.preprocessing.text.one_hot function\n",
    "#     https://keras.io/preprocessing/text/\n",
    "\n",
    "import keras.preprocessing as preprocessing\n",
    "import keras.utils as utils\n",
    "\n",
    "words = []\n",
    "for sentence in x_train + x_dev + x_test:\n",
    "    for word in sentence:\n",
    "        if word not in words:\n",
    "            words.append(word)\n",
    "\n",
    "x_train2_one_hot = []\n",
    "x_dev2_one_hot = []\n",
    "x_test2_one_hot = []\n",
    "\n",
    "for x in x_train:\n",
    "    x_train2_one_hot.append(preprocessing.text.one_hot(\" \".join(x), len(words)))\n",
    "\n",
    "for x in x_dev2:\n",
    "    x_dev2_one_hot.append(preprocessing.text.one_hot(\" \".join(x), len(words)))\n",
    "    \n",
    "for x in x_test2:\n",
    "    x_test2_one_hot.append(preprocessing.text.one_hot(\" \".join(x), len(words)))    \n",
    "\n",
    "y_train2 = utils.to_categorical(y_train2)\n",
    "y_dev2 = utils.to_categorical(y_dev2)"
   ]
  },
  {
   "cell_type": "markdown",
   "metadata": {},
   "source": [
    "**Padding input data**\n",
    "\n",
    "Models in Keras (and elsewhere) take batches of sentences of the same length as input. It is because Deep Learning framework have been designed to handle well Tensors, which are particularly suited for fast computation on the GPU.\n",
    "\n",
    "Since sentences have different sizes, we \"pad\" them. That is, we add dummy \"padding\" tokens so that they all have the same length.\n",
    "\n",
    "The input to a Keras model thus has this size : (batchsize, maxseqlen) where maxseqlen is the maximum length of a sentence in the batch."
   ]
  },
  {
   "cell_type": "code",
   "execution_count": 21,
   "metadata": {},
   "outputs": [],
   "source": [
    "# 3 - Pad your sequences using keras.preprocessing.sequence.pad_sequences\n",
    "#     https://keras.io/preprocessing/sequence/\n",
    "\n",
    "import keras.preprocessing.sequence as sequence\n",
    "\n",
    "x_train2_pad = sequence.pad_sequences(x_train2_one_hot)\n",
    "x_dev2_pad = sequence.pad_sequences(x_dev2_one_hot)\n",
    "x_test2_pad = sequence.pad_sequences(x_test2_one_hot)\n"
   ]
  },
  {
   "cell_type": "markdown",
   "metadata": {},
   "source": [
    "## 4.2 - Design and train your model"
   ]
  },
  {
   "cell_type": "code",
   "execution_count": 22,
   "metadata": {},
   "outputs": [
    {
     "name": "stderr",
     "output_type": "stream",
     "text": [
      "/home/paul/.local/lib/python3.6/site-packages/ipykernel_launcher.py:16: UserWarning: Update your `LSTM` call to the Keras 2 API: `LSTM(128, dropout=0.2, recurrent_dropout=0.2)`\n",
      "  app.launch_new_instance()\n"
     ]
    }
   ],
   "source": [
    "# 4 - Design your encoder + classifier using keras.layers\n",
    "#     In Keras, Torch and other deep learning framework, we create a \"container\" which is the Sequential() module.\n",
    "#     Then we add components to this contained : the lookuptable, the LSTM, the classifier etc.\n",
    "#     All of these components are contained in the Sequential() and are trained together.\n",
    "\n",
    "from keras.models import Sequential\n",
    "from keras.layers import Embedding, LSTM, Dense, Activation\n",
    "\n",
    "embed_dim  = 64  # word embedding dimension\n",
    "nhid       = 128  # number of hidden units in the LSTM\n",
    "vocab_size = len(words)  # size of the vocabulary\n",
    "n_classes  = 5\n",
    "\n",
    "model = Sequential()\n",
    "model.add(Embedding(vocab_size, embed_dim))\n",
    "model.add(LSTM(nhid, dropout_W=0.2, dropout_U=0.2))\n",
    "model.add(Dense(n_classes, activation='softmax'))\n"
   ]
  },
  {
   "cell_type": "code",
   "execution_count": 23,
   "metadata": {},
   "outputs": [
    {
     "name": "stdout",
     "output_type": "stream",
     "text": [
      "_________________________________________________________________\n",
      "Layer (type)                 Output Shape              Param #   \n",
      "=================================================================\n",
      "embedding_1 (Embedding)      (None, None, 64)          1250304   \n",
      "_________________________________________________________________\n",
      "lstm_1 (LSTM)                (None, 128)               98816     \n",
      "_________________________________________________________________\n",
      "dense_1 (Dense)              (None, 5)                 645       \n",
      "=================================================================\n",
      "Total params: 1,349,765\n",
      "Trainable params: 1,349,765\n",
      "Non-trainable params: 0\n",
      "_________________________________________________________________\n",
      "None\n"
     ]
    }
   ],
   "source": [
    "# 5 - Define your loss/optimizer/metrics\n",
    "\n",
    "# MODIFY CODE BELOW\n",
    "\n",
    "loss_classif     =  'categorical_crossentropy' # find the right loss for multi-class classification\n",
    "optimizer        =  'sgd' # find the right optimizer\n",
    "metrics_classif  =  ['accuracy']\n",
    "\n",
    "# Observe how easy (but blackboxed) this is in Keras\n",
    "model.compile(loss=loss_classif,\n",
    "              optimizer=optimizer,\n",
    "              metrics=metrics_classif)\n",
    "print(model.summary())"
   ]
  },
  {
   "cell_type": "code",
   "execution_count": 24,
   "metadata": {},
   "outputs": [
    {
     "name": "stderr",
     "output_type": "stream",
     "text": [
      "/home/paul/.local/lib/python3.6/site-packages/ipykernel_launcher.py:12: UserWarning: The `nb_epoch` argument in `fit` has been renamed `epochs`.\n",
      "  if sys.path[0] == '':\n"
     ]
    },
    {
     "name": "stdout",
     "output_type": "stream",
     "text": [
      "Train on 8544 samples, validate on 1101 samples\n",
      "Epoch 1/3\n",
      "8544/8544 [==============================] - 24s 3ms/step - loss: 1.5896 - acc: 0.2670 - val_loss: 1.5797 - val_acc: 0.2534\n",
      "Epoch 2/3\n",
      "8544/8544 [==============================] - 21s 2ms/step - loss: 1.5725 - acc: 0.2711 - val_loss: 1.5742 - val_acc: 0.2534\n",
      "Epoch 3/3\n",
      "8544/8544 [==============================] - 21s 2ms/step - loss: 1.5688 - acc: 0.2722 - val_loss: 1.5732 - val_acc: 0.2534\n"
     ]
    },
    {
     "data": {
      "image/png": "[encoded data removed]",
      "text/plain": [
       "<Figure size 432x288 with 1 Axes>"
      ]
     },
     "metadata": {
      "needs_background": "light"
     },
     "output_type": "display_data"
    },
    {
     "data": {
      "image/png": "[encoded data removed]",
      "text/plain": [
       "<Figure size 432x288 with 1 Axes>"
      ]
     },
     "metadata": {
      "needs_background": "light"
     },
     "output_type": "display_data"
    }
   ],
   "source": [
    "# 6 - Train your model and find the best hyperparameters for your dev set\n",
    "#     you will be evaluated on the quality of your predictions on the test set\n",
    "\n",
    "# ADAPT CODE BELOW\n",
    "import matplotlib.pyplot as plt\n",
    "%matplotlib inline\n",
    "from keras.callbacks import ModelCheckpoint\n",
    "\n",
    "bs = 64\n",
    "n_epochs = 3\n",
    "\n",
    "history = model.fit(x_train2_pad, y_train2, batch_size=bs, nb_epoch=n_epochs, validation_data=(x_dev2_pad, y_dev2))\n",
    "plt.plot(history.history['acc'])\n",
    "plt.plot(history.history['val_acc'])\n",
    "plt.show()\n",
    "\n",
    "plt.plot(history.history['loss'])\n",
    "plt.plot(history.history['val_loss'])\n",
    "plt.show()\n",
    "\n",
    "# NOTE : model training are too stressfull operations for my computer which is smelling like burnt electric cables...\n",
    "# even if I would enjoy to better fit the model and improve my results, I can't afford to break my computer\n",
    "# as it already happened to me before. I hope you will understand my concerns."
   ]
  },
  {
   "cell_type": "code",
   "execution_count": 25,
   "metadata": {},
   "outputs": [],
   "source": [
    "# 7 - Generate your predictions on the test set using model.predict(x_test)\n",
    "#     https://keras.io/models/model/\n",
    "#     Log your predictions in a file (one line = one integer: 0,1,2,3,4)\n",
    "#     Attach the output file \"logreg_lstm_y_test_sst.txt\" to your deliverable.\n",
    "\n",
    "model_pred = model.predict(x_test2_pad, batch_size=bs).argmax(axis=-1)\n",
    "model_pred.tofile('logreg_lstm_y_test_sst.txt', sep=\"\\n\")"
   ]
  },
  {
   "cell_type": "markdown",
   "metadata": {},
   "source": [
    "## 4.3 -- innovate !"
   ]
  },
  {
   "cell_type": "code",
   "execution_count": 26,
   "metadata": {},
   "outputs": [],
   "source": [
    "# 8 - Open question: find a model that is better on your dev set\n",
    "#     (e.g: use a 1D ConvNet, use a better classifier, pretrain your lookup tables ..)\n",
    "#     you will get point if the results on the test set are better: be careful of not overfitting your dev set too much..\n",
    "#     Attach the output file \"XXX_XXX_y_test_sst.txt\" to your deliverable.\n",
    "\n",
    "# TYPE CODE HERE\n"
   ]
  }
 ],
 "metadata": {
  "kernelspec": {
   "display_name": "Python 3",
   "language": "python",
   "name": "python3"
  },
  "language_info": {
   "codemirror_mode": {
    "name": "ipython",
    "version": 3
   },
   "file_extension": ".py",
   "mimetype": "text/x-python",
   "name": "python",
   "nbconvert_exporter": "python",
   "pygments_lexer": "ipython3",
   "version": "3.6.7"
  }
 },
 "nbformat": 4,
 "nbformat_minor": 1
}
