{
 "cells": [
  {
   "cell_type": "markdown",
   "metadata": {},
   "source": [
    "# Image Classification and Refression \n",
    "By Paul Asquin   \n",
    "Deep Learning assignment from [Vincent Lepetit](https://www.labri.fr/perso/vlepetit/deep_learning_mva.php) courses - CentraleSupélec"
   ]
  },
  {
   "cell_type": "markdown",
   "metadata": {},
   "source": [
    "# 3. Simple Classification"
   ]
  },
  {
   "cell_type": "markdown",
   "metadata": {},
   "source": [
    "## a.Project definition"
   ]
  },
  {
   "cell_type": "code",
   "execution_count": 54,
   "metadata": {},
   "outputs": [],
   "source": [
    "from mp1 import *\n",
    "from keras.models import Sequential\n",
    "from keras import metrics\n",
    "from keras.layers import Dense, Activation, Dropout, Conv2D, MaxPooling2D, Flatten\n",
    "from keras.optimizers import SGD, Adam\n",
    "from keras.utils import np_utils\n",
    "import numpy as np\n",
    "\n",
    "IMAGE_WIDTH = 72\n",
    "IMAGE_HEIGHT = IMAGE_WIDTH"
   ]
  },
  {
   "cell_type": "markdown",
   "metadata": {},
   "source": [
    "## b.Load the dataset"
   ]
  },
  {
   "cell_type": "code",
   "execution_count": 55,
   "metadata": {},
   "outputs": [
    {
     "name": "stdout",
     "output_type": "stream",
     "text": [
      "Creating data:\n",
      "0\n",
      "10\n",
      "20\n",
      "30\n",
      "40\n",
      "50\n",
      "60\n",
      "70\n",
      "80\n",
      "90\n",
      "100\n",
      "110\n",
      "120\n",
      "130\n",
      "140\n",
      "150\n",
      "160\n",
      "170\n",
      "180\n",
      "190\n",
      "200\n",
      "210\n",
      "220\n",
      "230\n",
      "240\n",
      "250\n",
      "260\n",
      "270\n",
      "280\n",
      "290\n",
      "Creating data:\n",
      "0\n",
      "10\n",
      "20\n",
      "30\n",
      "40\n",
      "50\n",
      "60\n",
      "70\n",
      "80\n",
      "90\n",
      "100\n",
      "110\n",
      "120\n",
      "130\n",
      "140\n",
      "150\n",
      "160\n",
      "170\n",
      "180\n",
      "190\n",
      "200\n",
      "210\n",
      "220\n",
      "230\n",
      "240\n",
      "250\n",
      "260\n",
      "270\n",
      "280\n",
      "290\n"
     ]
    }
   ],
   "source": [
    "[X_train_raw, Y_train_raw] = generate_dataset_classification(300, 20)\n",
    "labels =  {0:'Rectangle', 1 : 'Disk', 2 : 'Triangle'}\n",
    "\n",
    "[X_test_raw, Y_test_raw] = generate_test_set_classification()\n",
    "# Because of Jupyer Notebook, we create _raw dataset lists \n",
    "# as we don't want to run transformation multiple times with X_train = X_train..."
   ]
  },
  {
   "cell_type": "markdown",
   "metadata": {},
   "source": [
    "## c.Dataset shaping"
   ]
  },
  {
   "cell_type": "code",
   "execution_count": 56,
   "metadata": {},
   "outputs": [
    {
     "name": "stdout",
     "output_type": "stream",
     "text": [
      "X_train shape :  (300, 5184)\n",
      "Y_train shape :  (300, 3)\n",
      "labels :  {0: 'Rectangle', 1: 'Disk', 2: 'Triangle'}\n",
      "X_test shape :  (300, 5184)\n",
      "Y_test shape :  (300, 3)\n",
      "Using input shape :  (5184,)\n"
     ]
    }
   ],
   "source": [
    "def transform_dataset(X_train_raw, Y_train_raw, dataset_reshaping=False):\n",
    "    X_train = None\n",
    "    Y_train = None\n",
    "    \n",
    "    if dataset_reshaping:\n",
    "        print(\"X_train_raw shape : \", X_train_raw.shape)\n",
    "        print(\"Y_train_raw shape : \", Y_train_raw.shape)\n",
    "        print(\"\\nReshaping dataset to '2D images'...\")\n",
    "        X_train = X_train_raw.reshape(-1, IMAGE_WIDTH, IMAGE_HEIGHT, 1)\n",
    "        Y_train = np_utils.to_categorical(Y_train_raw)\n",
    "    \n",
    "    else:\n",
    "        X_train = X_train_raw\n",
    "        Y_train = np_utils.to_categorical(Y_train_raw, 3)\n",
    "    \n",
    "    return [X_train, Y_train]\n",
    "\n",
    "X_train, Y_train = transform_dataset(X_train_raw, Y_train_raw)\n",
    "print(\"X_train shape : \", X_train.shape)\n",
    "print(\"Y_train shape : \", Y_train.shape)\n",
    "print(\"labels : \", labels)\n",
    "\n",
    "X_test, Y_test = X_test_raw, Y_test_raw\n",
    "print(\"X_test shape : \", X_test.shape)\n",
    "print(\"Y_test shape : \", Y_test.shape)\n",
    "\n",
    "\n",
    "# Get input shape\n",
    "input_shape = X_train.shape[1:]\n",
    "print(\"Using input shape : \", input_shape)"
   ]
  },
  {
   "cell_type": "markdown",
   "metadata": {},
   "source": [
    "## d.Model building"
   ]
  },
  {
   "cell_type": "markdown",
   "metadata": {},
   "source": [
    "### Test model function"
   ]
  },
  {
   "cell_type": "code",
   "execution_count": 51,
   "metadata": {},
   "outputs": [],
   "source": [
    "def test_model(_model, little_test = False):\n",
    "    global labels\n",
    "    \n",
    "    les_X_test = {\n",
    "        'Rectangle' : data_generation.generate_a_rectangle(),\n",
    "        'Disk' : data_generation.generate_a_disk(),\n",
    "        'Triangle': data_generation.generate_a_triangle()[0]\n",
    "         }\n",
    "\n",
    "    for test_label, X_test in les_X_test.items():\n",
    "        print(\"\\nTrying to label a\", test_label,\"as test input\")\n",
    "        X_test = X_test.reshape(1, X_test.shape[0])\n",
    "        prediction = _model.predict(X_test)\n",
    "        print(prediction)\n",
    "        print(\"A\", labels[np.argmax(prediction)], \"is guessed\")"
   ]
  },
  {
   "cell_type": "markdown",
   "metadata": {},
   "source": [
    "### i.Model with SGD : Stochatic Gradient Descent"
   ]
  },
  {
   "cell_type": "code",
   "execution_count": 72,
   "metadata": {},
   "outputs": [
    {
     "name": "stdout",
     "output_type": "stream",
     "text": [
      "Epoch 1/100\n",
      "300/300 [==============================] - 0s 2ms/step - loss: 1.1779 - acc: 0.3867\n",
      "Epoch 2/100\n",
      "300/300 [==============================] - 0s 139us/step - loss: 0.7553 - acc: 0.6567\n",
      "Epoch 3/100\n",
      "300/300 [==============================] - 0s 127us/step - loss: 0.5845 - acc: 0.7633\n",
      "Epoch 4/100\n",
      "300/300 [==============================] - 0s 140us/step - loss: 0.3960 - acc: 0.8667\n",
      "Epoch 5/100\n",
      "300/300 [==============================] - 0s 144us/step - loss: 0.3961 - acc: 0.8667\n",
      "Epoch 6/100\n",
      "300/300 [==============================] - 0s 136us/step - loss: 0.3123 - acc: 0.9067\n",
      "Epoch 7/100\n",
      "300/300 [==============================] - 0s 159us/step - loss: 0.2895 - acc: 0.9100\n",
      "Epoch 8/100\n",
      "300/300 [==============================] - 0s 153us/step - loss: 0.3148 - acc: 0.9033\n",
      "Epoch 9/100\n",
      "300/300 [==============================] - 0s 131us/step - loss: 0.2313 - acc: 0.9433\n",
      "Epoch 10/100\n",
      "300/300 [==============================] - 0s 118us/step - loss: 0.2558 - acc: 0.9100\n",
      "Epoch 11/100\n",
      "300/300 [==============================] - 0s 201us/step - loss: 0.2014 - acc: 0.9700\n",
      "Epoch 12/100\n",
      "300/300 [==============================] - 0s 128us/step - loss: 0.1943 - acc: 0.9667\n",
      "Epoch 13/100\n",
      "300/300 [==============================] - 0s 143us/step - loss: 0.1780 - acc: 0.9667\n",
      "Epoch 14/100\n",
      "300/300 [==============================] - 0s 140us/step - loss: 0.1639 - acc: 0.9867\n",
      "Epoch 15/100\n",
      "300/300 [==============================] - 0s 115us/step - loss: 0.1605 - acc: 0.9833\n",
      "Epoch 16/100\n",
      "300/300 [==============================] - 0s 141us/step - loss: 0.1609 - acc: 0.9700\n",
      "Epoch 17/100\n",
      "300/300 [==============================] - 0s 171us/step - loss: 0.1519 - acc: 0.9800\n",
      "Epoch 18/100\n",
      "300/300 [==============================] - 0s 170us/step - loss: 0.1377 - acc: 0.9967\n",
      "Epoch 19/100\n",
      "300/300 [==============================] - 0s 153us/step - loss: 0.1322 - acc: 0.9967\n",
      "Epoch 20/100\n",
      "300/300 [==============================] - 0s 137us/step - loss: 0.1311 - acc: 0.9967\n",
      "Epoch 21/100\n",
      "300/300 [==============================] - 0s 129us/step - loss: 0.1216 - acc: 1.0000\n",
      "Epoch 22/100\n",
      "300/300 [==============================] - 0s 144us/step - loss: 0.1196 - acc: 0.9833\n",
      "Epoch 23/100\n",
      "300/300 [==============================] - 0s 150us/step - loss: 0.1106 - acc: 0.9967\n",
      "Epoch 24/100\n",
      "300/300 [==============================] - 0s 164us/step - loss: 0.1059 - acc: 1.0000\n",
      "Epoch 25/100\n",
      "300/300 [==============================] - 0s 166us/step - loss: 0.1047 - acc: 1.0000\n",
      "Epoch 26/100\n",
      "300/300 [==============================] - 0s 123us/step - loss: 0.0988 - acc: 1.0000\n",
      "Epoch 27/100\n",
      "300/300 [==============================] - 0s 164us/step - loss: 0.1017 - acc: 0.9967\n",
      "Epoch 28/100\n",
      "300/300 [==============================] - 0s 177us/step - loss: 0.1010 - acc: 1.0000\n",
      "Epoch 29/100\n",
      "300/300 [==============================] - 0s 138us/step - loss: 0.0998 - acc: 0.9933\n",
      "Epoch 30/100\n",
      "300/300 [==============================] - 0s 138us/step - loss: 0.0920 - acc: 1.0000\n",
      "Epoch 31/100\n",
      "300/300 [==============================] - 0s 153us/step - loss: 0.0887 - acc: 1.0000\n",
      "Epoch 32/100\n",
      "300/300 [==============================] - 0s 141us/step - loss: 0.0847 - acc: 0.9967\n",
      "Epoch 33/100\n",
      "300/300 [==============================] - 0s 134us/step - loss: 0.0821 - acc: 1.0000\n",
      "Epoch 34/100\n",
      "300/300 [==============================] - 0s 152us/step - loss: 0.0795 - acc: 1.0000\n",
      "Epoch 35/100\n",
      "300/300 [==============================] - 0s 149us/step - loss: 0.0767 - acc: 1.0000\n",
      "Epoch 36/100\n",
      "300/300 [==============================] - 0s 130us/step - loss: 0.0770 - acc: 1.0000\n",
      "Epoch 37/100\n",
      "300/300 [==============================] - 0s 159us/step - loss: 0.0732 - acc: 1.0000\n",
      "Epoch 38/100\n",
      "300/300 [==============================] - 0s 180us/step - loss: 0.0712 - acc: 1.0000\n",
      "Epoch 39/100\n",
      "300/300 [==============================] - 0s 118us/step - loss: 0.0807 - acc: 0.9967\n",
      "Epoch 40/100\n",
      "300/300 [==============================] - 0s 129us/step - loss: 0.0668 - acc: 1.0000\n",
      "Epoch 41/100\n",
      "300/300 [==============================] - 0s 109us/step - loss: 0.0666 - acc: 1.0000\n",
      "Epoch 42/100\n",
      "300/300 [==============================] - 0s 157us/step - loss: 0.0682 - acc: 1.0000\n",
      "Epoch 43/100\n",
      "300/300 [==============================] - 0s 130us/step - loss: 0.0669 - acc: 1.0000\n",
      "Epoch 44/100\n",
      "300/300 [==============================] - 0s 159us/step - loss: 0.0650 - acc: 1.0000\n",
      "Epoch 45/100\n",
      "300/300 [==============================] - 0s 114us/step - loss: 0.0609 - acc: 1.0000\n",
      "Epoch 46/100\n",
      "300/300 [==============================] - 0s 149us/step - loss: 0.0614 - acc: 1.0000\n",
      "Epoch 47/100\n",
      "300/300 [==============================] - 0s 152us/step - loss: 0.0629 - acc: 1.0000\n",
      "Epoch 48/100\n",
      "300/300 [==============================] - 0s 159us/step - loss: 0.0573 - acc: 1.0000\n",
      "Epoch 49/100\n",
      "300/300 [==============================] - 0s 130us/step - loss: 0.0604 - acc: 1.0000\n",
      "Epoch 50/100\n",
      "300/300 [==============================] - 0s 142us/step - loss: 0.0641 - acc: 0.9967\n",
      "Epoch 51/100\n",
      "300/300 [==============================] - 0s 130us/step - loss: 0.0569 - acc: 0.9967\n",
      "Epoch 52/100\n",
      "300/300 [==============================] - 0s 128us/step - loss: 0.0540 - acc: 1.0000\n",
      "Epoch 53/100\n",
      "300/300 [==============================] - 0s 139us/step - loss: 0.0529 - acc: 1.0000\n",
      "Epoch 54/100\n",
      "300/300 [==============================] - 0s 151us/step - loss: 0.0515 - acc: 1.0000\n",
      "Epoch 55/100\n",
      "300/300 [==============================] - 0s 223us/step - loss: 0.0498 - acc: 1.0000\n",
      "Epoch 56/100\n",
      "300/300 [==============================] - 0s 168us/step - loss: 0.0487 - acc: 1.0000\n",
      "Epoch 57/100\n",
      "300/300 [==============================] - 0s 116us/step - loss: 0.0495 - acc: 1.0000\n",
      "Epoch 58/100\n",
      "300/300 [==============================] - 0s 138us/step - loss: 0.0482 - acc: 1.0000\n",
      "Epoch 59/100\n",
      "300/300 [==============================] - 0s 203us/step - loss: 0.0478 - acc: 1.0000\n",
      "Epoch 60/100\n",
      "300/300 [==============================] - 0s 165us/step - loss: 0.0493 - acc: 1.0000\n",
      "Epoch 61/100\n",
      "300/300 [==============================] - 0s 163us/step - loss: 0.0465 - acc: 1.0000\n",
      "Epoch 62/100\n",
      "300/300 [==============================] - 0s 187us/step - loss: 0.0466 - acc: 1.0000\n",
      "Epoch 63/100\n",
      "300/300 [==============================] - 0s 188us/step - loss: 0.0453 - acc: 1.0000\n",
      "Epoch 64/100\n",
      "300/300 [==============================] - 0s 200us/step - loss: 0.0447 - acc: 1.0000\n",
      "Epoch 65/100\n",
      "300/300 [==============================] - 0s 132us/step - loss: 0.0428 - acc: 1.0000\n",
      "Epoch 66/100\n",
      "300/300 [==============================] - 0s 168us/step - loss: 0.0430 - acc: 1.0000\n",
      "Epoch 67/100\n",
      "300/300 [==============================] - 0s 161us/step - loss: 0.0428 - acc: 1.0000\n",
      "Epoch 68/100\n",
      "300/300 [==============================] - 0s 153us/step - loss: 0.0412 - acc: 1.0000\n",
      "Epoch 69/100\n",
      "300/300 [==============================] - 0s 138us/step - loss: 0.0411 - acc: 1.0000\n",
      "Epoch 70/100\n",
      "300/300 [==============================] - 0s 152us/step - loss: 0.0403 - acc: 1.0000\n",
      "Epoch 71/100\n",
      "300/300 [==============================] - 0s 175us/step - loss: 0.0415 - acc: 1.0000\n",
      "Epoch 72/100\n",
      "300/300 [==============================] - 0s 153us/step - loss: 0.0385 - acc: 1.0000\n",
      "Epoch 73/100\n",
      "300/300 [==============================] - 0s 128us/step - loss: 0.0382 - acc: 1.0000\n",
      "Epoch 74/100\n",
      "300/300 [==============================] - 0s 139us/step - loss: 0.0372 - acc: 1.0000\n",
      "Epoch 75/100\n",
      "300/300 [==============================] - 0s 132us/step - loss: 0.0370 - acc: 1.0000\n",
      "Epoch 76/100\n",
      "300/300 [==============================] - 0s 142us/step - loss: 0.0363 - acc: 1.0000\n",
      "Epoch 77/100\n",
      "300/300 [==============================] - 0s 140us/step - loss: 0.0358 - acc: 1.0000\n",
      "Epoch 78/100\n",
      "300/300 [==============================] - 0s 131us/step - loss: 0.0374 - acc: 1.0000\n",
      "Epoch 79/100\n",
      "300/300 [==============================] - 0s 138us/step - loss: 0.0348 - acc: 1.0000\n",
      "Epoch 80/100\n",
      "300/300 [==============================] - 0s 129us/step - loss: 0.0355 - acc: 1.0000\n",
      "Epoch 81/100\n",
      "300/300 [==============================] - 0s 148us/step - loss: 0.0342 - acc: 1.0000\n",
      "Epoch 82/100\n",
      "300/300 [==============================] - 0s 131us/step - loss: 0.0362 - acc: 1.0000\n",
      "Epoch 83/100\n"
     ]
    },
    {
     "name": "stdout",
     "output_type": "stream",
     "text": [
      "300/300 [==============================] - 0s 149us/step - loss: 0.0336 - acc: 1.0000\n",
      "Epoch 84/100\n",
      "300/300 [==============================] - 0s 146us/step - loss: 0.0332 - acc: 1.0000\n",
      "Epoch 85/100\n",
      "300/300 [==============================] - 0s 132us/step - loss: 0.0338 - acc: 1.0000\n",
      "Epoch 86/100\n",
      "300/300 [==============================] - 0s 155us/step - loss: 0.0325 - acc: 1.0000\n",
      "Epoch 87/100\n",
      "300/300 [==============================] - 0s 129us/step - loss: 0.0323 - acc: 1.0000\n",
      "Epoch 88/100\n",
      "300/300 [==============================] - 0s 103us/step - loss: 0.0329 - acc: 1.0000\n",
      "Epoch 89/100\n",
      "300/300 [==============================] - 0s 104us/step - loss: 0.0326 - acc: 1.0000\n",
      "Epoch 90/100\n",
      "300/300 [==============================] - 0s 104us/step - loss: 0.0325 - acc: 1.0000\n",
      "Epoch 91/100\n",
      "300/300 [==============================] - 0s 93us/step - loss: 0.0307 - acc: 1.0000\n",
      "Epoch 92/100\n",
      "300/300 [==============================] - 0s 107us/step - loss: 0.0302 - acc: 1.0000\n",
      "Epoch 93/100\n",
      "300/300 [==============================] - 0s 122us/step - loss: 0.0301 - acc: 1.0000\n",
      "Epoch 94/100\n",
      "300/300 [==============================] - 0s 117us/step - loss: 0.0305 - acc: 1.0000\n",
      "Epoch 95/100\n",
      "300/300 [==============================] - 0s 135us/step - loss: 0.0291 - acc: 1.0000\n",
      "Epoch 96/100\n",
      "300/300 [==============================] - 0s 114us/step - loss: 0.0307 - acc: 1.0000\n",
      "Epoch 97/100\n",
      "300/300 [==============================] - 0s 124us/step - loss: 0.0292 - acc: 1.0000\n",
      "Epoch 98/100\n",
      "300/300 [==============================] - 0s 128us/step - loss: 0.0295 - acc: 1.0000\n",
      "Epoch 99/100\n",
      "300/300 [==============================] - 0s 135us/step - loss: 0.0282 - acc: 1.0000\n",
      "Epoch 100/100\n",
      "300/300 [==============================] - 0s 123us/step - loss: 0.0284 - acc: 1.0000\n"
     ]
    },
    {
     "data": {
      "text/plain": [
       "<keras.callbacks.History at 0x7fc1ac6bd5c0>"
      ]
     },
     "execution_count": 72,
     "metadata": {},
     "output_type": "execute_result"
    }
   ],
   "source": [
    "# Define model\n",
    "model1 = Sequential()\n",
    "model1.add(Dense(len(labels), activation = 'softmax', input_shape=input_shape))\n",
    "\n",
    "# Define optimizer\n",
    "sgd = SGD(lr=0.001, nesterov = True, momentum=0.9)\n",
    "\n",
    "# Compiling\n",
    "model1.compile(loss='categorical_crossentropy',optimizer=sgd, metrics=['accuracy'])\n",
    "\n",
    "# Fitting\n",
    "model1.fit(X_train, Y_train, epochs=100, batch_size=32)"
   ]
  },
  {
   "cell_type": "code",
   "execution_count": 73,
   "metadata": {},
   "outputs": [
    {
     "name": "stdout",
     "output_type": "stream",
     "text": [
      "300/300 [==============================] - 0s 874us/step\n",
      "acc: 33.00%\n",
      "\n",
      "Trying to label a Rectangle as test input\n",
      "[[1. 0. 0.]]\n",
      "A Rectangle is guessed\n",
      "\n",
      "Trying to label a Disk as test input\n",
      "[[0. 1. 0.]]\n",
      "A Disk is guessed\n",
      "\n",
      "Trying to label a Triangle as test input\n",
      "[[0. 0. 1.]]\n",
      "A Triangle is guessed\n"
     ]
    }
   ],
   "source": [
    "# Testing\n",
    "scores = model1.evaluate(X_test, Y_test)\n",
    "print(\"%s: %.2f%%\" % (model1.metrics_names[1], scores[1]*100))\n",
    "test_model(model1)"
   ]
  },
  {
   "cell_type": "markdown",
   "metadata": {},
   "source": [
    "We manage to reach great accuracies with this model"
   ]
  },
  {
   "cell_type": "markdown",
   "metadata": {},
   "source": [
    "### ii. Model with adam"
   ]
  },
  {
   "cell_type": "code",
   "execution_count": 74,
   "metadata": {},
   "outputs": [
    {
     "name": "stdout",
     "output_type": "stream",
     "text": [
      "Epoch 1/100\n",
      "300/300 [==============================] - 1s 2ms/step - loss: 2.2293 - categorical_accuracy: 0.3933\n",
      "Epoch 2/100\n",
      "300/300 [==============================] - 0s 135us/step - loss: 1.0508 - categorical_accuracy: 0.4833\n",
      "Epoch 3/100\n",
      "300/300 [==============================] - 0s 162us/step - loss: 0.6403 - categorical_accuracy: 0.7200\n",
      "Epoch 4/100\n",
      "300/300 [==============================] - 0s 136us/step - loss: 0.4773 - categorical_accuracy: 0.7700\n",
      "Epoch 5/100\n",
      "300/300 [==============================] - 0s 135us/step - loss: 0.4413 - categorical_accuracy: 0.8067\n",
      "Epoch 6/100\n",
      "300/300 [==============================] - 0s 163us/step - loss: 0.3149 - categorical_accuracy: 0.9333\n",
      "Epoch 7/100\n",
      "300/300 [==============================] - 0s 120us/step - loss: 0.2980 - categorical_accuracy: 0.9133\n",
      "Epoch 8/100\n",
      "300/300 [==============================] - 0s 154us/step - loss: 0.2874 - categorical_accuracy: 0.9133\n",
      "Epoch 9/100\n",
      "300/300 [==============================] - 0s 148us/step - loss: 0.2289 - categorical_accuracy: 0.9800\n",
      "Epoch 10/100\n",
      "300/300 [==============================] - 0s 150us/step - loss: 0.2067 - categorical_accuracy: 0.9933\n",
      "Epoch 11/100\n",
      "300/300 [==============================] - 0s 156us/step - loss: 0.1954 - categorical_accuracy: 0.9667\n",
      "Epoch 12/100\n",
      "300/300 [==============================] - 0s 169us/step - loss: 0.1975 - categorical_accuracy: 0.9667\n",
      "Epoch 13/100\n",
      "300/300 [==============================] - 0s 167us/step - loss: 0.1697 - categorical_accuracy: 0.9867\n",
      "Epoch 14/100\n",
      "300/300 [==============================] - 0s 176us/step - loss: 0.1527 - categorical_accuracy: 0.9967\n",
      "Epoch 15/100\n",
      "300/300 [==============================] - 0s 178us/step - loss: 0.1395 - categorical_accuracy: 1.0000\n",
      "Epoch 16/100\n",
      "300/300 [==============================] - 0s 217us/step - loss: 0.1238 - categorical_accuracy: 1.0000\n",
      "Epoch 17/100\n",
      "300/300 [==============================] - 0s 204us/step - loss: 0.1128 - categorical_accuracy: 1.0000\n",
      "Epoch 18/100\n",
      "300/300 [==============================] - 0s 165us/step - loss: 0.1080 - categorical_accuracy: 1.0000\n",
      "Epoch 19/100\n",
      "300/300 [==============================] - 0s 188us/step - loss: 0.1202 - categorical_accuracy: 0.9833\n",
      "Epoch 20/100\n",
      "300/300 [==============================] - 0s 186us/step - loss: 0.2398 - categorical_accuracy: 0.8933\n",
      "Epoch 21/100\n",
      "300/300 [==============================] - 0s 234us/step - loss: 0.2622 - categorical_accuracy: 0.8600\n",
      "Epoch 22/100\n",
      "300/300 [==============================] - 0s 264us/step - loss: 0.1255 - categorical_accuracy: 0.9800\n",
      "Epoch 23/100\n",
      "300/300 [==============================] - 0s 185us/step - loss: 0.1025 - categorical_accuracy: 0.9867\n",
      "Epoch 24/100\n",
      "300/300 [==============================] - 0s 139us/step - loss: 0.0741 - categorical_accuracy: 1.0000\n",
      "Epoch 25/100\n",
      "300/300 [==============================] - 0s 144us/step - loss: 0.0628 - categorical_accuracy: 1.0000\n",
      "Epoch 26/100\n",
      "300/300 [==============================] - 0s 161us/step - loss: 0.0598 - categorical_accuracy: 1.0000\n",
      "Epoch 27/100\n",
      "300/300 [==============================] - 0s 150us/step - loss: 0.0676 - categorical_accuracy: 1.0000\n",
      "Epoch 28/100\n",
      "300/300 [==============================] - 0s 149us/step - loss: 0.0619 - categorical_accuracy: 1.0000\n",
      "Epoch 29/100\n",
      "300/300 [==============================] - 0s 276us/step - loss: 0.0628 - categorical_accuracy: 1.0000\n",
      "Epoch 30/100\n",
      "300/300 [==============================] - 0s 177us/step - loss: 0.0570 - categorical_accuracy: 1.0000\n",
      "Epoch 31/100\n",
      "300/300 [==============================] - 0s 160us/step - loss: 0.0524 - categorical_accuracy: 1.0000\n",
      "Epoch 32/100\n",
      "300/300 [==============================] - 0s 223us/step - loss: 0.0475 - categorical_accuracy: 1.0000\n",
      "Epoch 33/100\n",
      "300/300 [==============================] - 0s 261us/step - loss: 0.0468 - categorical_accuracy: 1.0000\n",
      "Epoch 34/100\n",
      "300/300 [==============================] - 0s 180us/step - loss: 0.0419 - categorical_accuracy: 1.0000\n",
      "Epoch 35/100\n",
      "300/300 [==============================] - 0s 142us/step - loss: 0.0409 - categorical_accuracy: 1.0000\n",
      "Epoch 36/100\n",
      "300/300 [==============================] - 0s 180us/step - loss: 0.0386 - categorical_accuracy: 1.0000\n",
      "Epoch 37/100\n",
      "300/300 [==============================] - 0s 133us/step - loss: 0.0384 - categorical_accuracy: 1.0000\n",
      "Epoch 38/100\n",
      "300/300 [==============================] - 0s 140us/step - loss: 0.0387 - categorical_accuracy: 1.0000\n",
      "Epoch 39/100\n",
      "300/300 [==============================] - 0s 127us/step - loss: 0.0361 - categorical_accuracy: 1.0000\n",
      "Epoch 40/100\n",
      "300/300 [==============================] - 0s 147us/step - loss: 0.0332 - categorical_accuracy: 1.0000\n",
      "Epoch 41/100\n",
      "300/300 [==============================] - 0s 159us/step - loss: 0.0331 - categorical_accuracy: 1.0000\n",
      "Epoch 42/100\n",
      "300/300 [==============================] - 0s 179us/step - loss: 0.0315 - categorical_accuracy: 1.0000\n",
      "Epoch 43/100\n",
      "300/300 [==============================] - 0s 108us/step - loss: 0.0308 - categorical_accuracy: 1.0000\n",
      "Epoch 44/100\n",
      "300/300 [==============================] - 0s 133us/step - loss: 0.0324 - categorical_accuracy: 1.0000\n",
      "Epoch 45/100\n",
      "300/300 [==============================] - 0s 164us/step - loss: 0.0309 - categorical_accuracy: 1.0000\n",
      "Epoch 46/100\n",
      "300/300 [==============================] - 0s 138us/step - loss: 0.0281 - categorical_accuracy: 1.0000\n",
      "Epoch 47/100\n",
      "300/300 [==============================] - 0s 162us/step - loss: 0.0266 - categorical_accuracy: 1.0000\n",
      "Epoch 48/100\n",
      "300/300 [==============================] - 0s 109us/step - loss: 0.0268 - categorical_accuracy: 1.0000\n",
      "Epoch 49/100\n",
      "300/300 [==============================] - 0s 120us/step - loss: 0.0259 - categorical_accuracy: 1.0000\n",
      "Epoch 50/100\n",
      "300/300 [==============================] - 0s 142us/step - loss: 0.0249 - categorical_accuracy: 1.0000\n",
      "Epoch 51/100\n",
      "300/300 [==============================] - 0s 138us/step - loss: 0.0259 - categorical_accuracy: 1.0000\n",
      "Epoch 52/100\n",
      "300/300 [==============================] - 0s 113us/step - loss: 0.0231 - categorical_accuracy: 1.0000\n",
      "Epoch 53/100\n",
      "300/300 [==============================] - 0s 141us/step - loss: 0.0229 - categorical_accuracy: 1.0000\n",
      "Epoch 54/100\n",
      "300/300 [==============================] - 0s 123us/step - loss: 0.0231 - categorical_accuracy: 1.0000\n",
      "Epoch 55/100\n",
      "300/300 [==============================] - 0s 164us/step - loss: 0.0218 - categorical_accuracy: 1.0000\n",
      "Epoch 56/100\n",
      "300/300 [==============================] - 0s 145us/step - loss: 0.0215 - categorical_accuracy: 1.0000\n",
      "Epoch 57/100\n",
      "300/300 [==============================] - 0s 168us/step - loss: 0.0208 - categorical_accuracy: 1.0000\n",
      "Epoch 58/100\n",
      "300/300 [==============================] - 0s 144us/step - loss: 0.0209 - categorical_accuracy: 1.0000\n",
      "Epoch 59/100\n",
      "300/300 [==============================] - 0s 143us/step - loss: 0.0199 - categorical_accuracy: 1.0000\n",
      "Epoch 60/100\n",
      "300/300 [==============================] - 0s 126us/step - loss: 0.0201 - categorical_accuracy: 1.0000\n",
      "Epoch 61/100\n",
      "300/300 [==============================] - 0s 143us/step - loss: 0.0199 - categorical_accuracy: 1.0000\n",
      "Epoch 62/100\n",
      "300/300 [==============================] - 0s 121us/step - loss: 0.0196 - categorical_accuracy: 1.0000\n",
      "Epoch 63/100\n",
      "300/300 [==============================] - 0s 136us/step - loss: 0.0190 - categorical_accuracy: 1.0000\n",
      "Epoch 64/100\n",
      "300/300 [==============================] - 0s 117us/step - loss: 0.0183 - categorical_accuracy: 1.0000\n",
      "Epoch 65/100\n",
      "300/300 [==============================] - 0s 109us/step - loss: 0.0170 - categorical_accuracy: 1.0000\n",
      "Epoch 66/100\n",
      "300/300 [==============================] - 0s 143us/step - loss: 0.0176 - categorical_accuracy: 1.0000\n",
      "Epoch 67/100\n",
      "300/300 [==============================] - 0s 145us/step - loss: 0.0165 - categorical_accuracy: 1.0000\n",
      "Epoch 68/100\n",
      "300/300 [==============================] - 0s 149us/step - loss: 0.0166 - categorical_accuracy: 1.0000\n",
      "Epoch 69/100\n",
      "300/300 [==============================] - 0s 134us/step - loss: 0.0166 - categorical_accuracy: 1.0000\n",
      "Epoch 70/100\n",
      "300/300 [==============================] - 0s 145us/step - loss: 0.0155 - categorical_accuracy: 1.0000\n",
      "Epoch 71/100\n"
     ]
    },
    {
     "name": "stdout",
     "output_type": "stream",
     "text": [
      "300/300 [==============================] - 0s 106us/step - loss: 0.0154 - categorical_accuracy: 1.0000\n",
      "Epoch 72/100\n",
      "300/300 [==============================] - 0s 142us/step - loss: 0.0156 - categorical_accuracy: 1.0000\n",
      "Epoch 73/100\n",
      "300/300 [==============================] - 0s 128us/step - loss: 0.0149 - categorical_accuracy: 1.0000\n",
      "Epoch 74/100\n",
      "300/300 [==============================] - 0s 106us/step - loss: 0.0147 - categorical_accuracy: 1.0000\n",
      "Epoch 75/100\n",
      "300/300 [==============================] - 0s 102us/step - loss: 0.0139 - categorical_accuracy: 1.0000\n",
      "Epoch 76/100\n",
      "300/300 [==============================] - 0s 104us/step - loss: 0.0144 - categorical_accuracy: 1.0000\n",
      "Epoch 77/100\n",
      "300/300 [==============================] - 0s 117us/step - loss: 0.0142 - categorical_accuracy: 1.0000\n",
      "Epoch 78/100\n",
      "300/300 [==============================] - 0s 95us/step - loss: 0.0128 - categorical_accuracy: 1.0000\n",
      "Epoch 79/100\n",
      "300/300 [==============================] - 0s 109us/step - loss: 0.0128 - categorical_accuracy: 1.0000\n",
      "Epoch 80/100\n",
      "300/300 [==============================] - 0s 108us/step - loss: 0.0125 - categorical_accuracy: 1.0000\n",
      "Epoch 81/100\n",
      "300/300 [==============================] - 0s 120us/step - loss: 0.0129 - categorical_accuracy: 1.0000\n",
      "Epoch 82/100\n",
      "300/300 [==============================] - 0s 114us/step - loss: 0.0122 - categorical_accuracy: 1.0000\n",
      "Epoch 83/100\n",
      "300/300 [==============================] - 0s 98us/step - loss: 0.0117 - categorical_accuracy: 1.0000\n",
      "Epoch 84/100\n",
      "300/300 [==============================] - 0s 115us/step - loss: 0.0115 - categorical_accuracy: 1.0000\n",
      "Epoch 85/100\n",
      "300/300 [==============================] - 0s 121us/step - loss: 0.0112 - categorical_accuracy: 1.0000\n",
      "Epoch 86/100\n",
      "300/300 [==============================] - 0s 103us/step - loss: 0.0113 - categorical_accuracy: 1.0000\n",
      "Epoch 87/100\n",
      "300/300 [==============================] - 0s 110us/step - loss: 0.0109 - categorical_accuracy: 1.0000\n",
      "Epoch 88/100\n",
      "300/300 [==============================] - 0s 116us/step - loss: 0.0107 - categorical_accuracy: 1.0000\n",
      "Epoch 89/100\n",
      "300/300 [==============================] - 0s 104us/step - loss: 0.0105 - categorical_accuracy: 1.0000\n",
      "Epoch 90/100\n",
      "300/300 [==============================] - 0s 113us/step - loss: 0.0103 - categorical_accuracy: 1.0000\n",
      "Epoch 91/100\n",
      "300/300 [==============================] - 0s 102us/step - loss: 0.0104 - categorical_accuracy: 1.0000\n",
      "Epoch 92/100\n",
      "300/300 [==============================] - 0s 118us/step - loss: 0.0102 - categorical_accuracy: 1.0000\n",
      "Epoch 93/100\n",
      "300/300 [==============================] - 0s 100us/step - loss: 0.0106 - categorical_accuracy: 1.0000\n",
      "Epoch 94/100\n",
      "300/300 [==============================] - 0s 127us/step - loss: 0.0098 - categorical_accuracy: 1.0000\n",
      "Epoch 95/100\n",
      "300/300 [==============================] - 0s 114us/step - loss: 0.0096 - categorical_accuracy: 1.0000\n",
      "Epoch 96/100\n",
      "300/300 [==============================] - 0s 109us/step - loss: 0.0094 - categorical_accuracy: 1.0000\n",
      "Epoch 97/100\n",
      "300/300 [==============================] - 0s 98us/step - loss: 0.0091 - categorical_accuracy: 1.0000\n",
      "Epoch 98/100\n",
      "300/300 [==============================] - 0s 123us/step - loss: 0.0090 - categorical_accuracy: 1.0000\n",
      "Epoch 99/100\n",
      "300/300 [==============================] - 0s 103us/step - loss: 0.0090 - categorical_accuracy: 1.0000\n",
      "Epoch 100/100\n",
      "300/300 [==============================] - 0s 106us/step - loss: 0.0087 - categorical_accuracy: 1.0000\n"
     ]
    },
    {
     "data": {
      "text/plain": [
       "<keras.callbacks.History at 0x7fc1a90ef438>"
      ]
     },
     "execution_count": 74,
     "metadata": {},
     "output_type": "execute_result"
    }
   ],
   "source": [
    "# Define model\n",
    "model2 = Sequential()\n",
    "model2.add(Dense(len(labels), activation = 'softmax', input_shape=input_shape))\n",
    "\n",
    "# Compiling\n",
    "model2.compile(loss='categorical_crossentropy',optimizer='adam', metrics=['categorical_accuracy'])\n",
    "\n",
    "# Fitting\n",
    "model2.fit(X_train, Y_train, epochs=100, batch_size=32)\n"
   ]
  },
  {
   "cell_type": "code",
   "execution_count": 75,
   "metadata": {},
   "outputs": [
    {
     "name": "stdout",
     "output_type": "stream",
     "text": [
      "300/300 [==============================] - 0s 869us/step\n",
      "categorical_accuracy: 37.67%\n",
      "\n",
      "Trying to label a Rectangle as test input\n",
      "[[1. 0. 0.]]\n",
      "A Rectangle is guessed\n",
      "\n",
      "Trying to label a Disk as test input\n",
      "[[0. 1. 0.]]\n",
      "A Disk is guessed\n",
      "\n",
      "Trying to label a Triangle as test input\n",
      "[[0. 0. 1.]]\n",
      "A Triangle is guessed\n"
     ]
    }
   ],
   "source": [
    "# Testing\n",
    "scores = model2.evaluate(X_test, Y_test)\n",
    "print(\"%s: %.2f%%\" % (model2.metrics_names[1], scores[1]*100))\n",
    "test_model(model2)"
   ]
  },
  {
   "cell_type": "markdown",
   "metadata": {},
   "source": [
    "Once again, with adam our model is able to identify shapes"
   ]
  },
  {
   "cell_type": "markdown",
   "metadata": {},
   "source": [
    "# 4. Visualisation of the Solution"
   ]
  },
  {
   "cell_type": "code",
   "execution_count": 86,
   "metadata": {
    "scrolled": true
   },
   "outputs": [
    {
     "name": "stdout",
     "output_type": "stream",
     "text": [
      "Model 1 : SGD\n"
     ]
    },
    {
     "data": {
      "image/png": "[encoded data removed]",
      "text/plain": [
       "<Figure size 432x288 with 3 Axes>"
      ]
     },
     "metadata": {
      "needs_background": "light"
     },
     "output_type": "display_data"
    },
    {
     "name": "stdout",
     "output_type": "stream",
     "text": [
      "Model 2 : Adam\n"
     ]
    },
    {
     "data": {
      "image/png": "[encoded data removed]",
      "text/plain": [
       "<Figure size 432x288 with 3 Axes>"
      ]
     },
     "metadata": {
      "needs_background": "light"
     },
     "output_type": "display_data"
    }
   ],
   "source": [
    "import matplotlib.pyplot as plt\n",
    "def visualize(_model):\n",
    "    weights = _model.get_weights()[0]\n",
    "    fig = plt.figure()\n",
    "    \n",
    "    fig.add_subplot(1, 3, 1)\n",
    "    plt.imshow(weights[:, 0].reshape(IMAGE_WIDTH, IMAGE_HEIGHT))\n",
    "    \n",
    "    fig.add_subplot(1, 3, 2)\n",
    "    plt.imshow(weights[:, 1].reshape(IMAGE_WIDTH, IMAGE_HEIGHT))\n",
    "    \n",
    "    fig.add_subplot(1, 3, 3)\n",
    "    plt.imshow(weights[:, 2].reshape(IMAGE_WIDTH, IMAGE_HEIGHT))\n",
    "    \n",
    "    plt.show()\n",
    "\n",
    "print(\"Model 1 : SGD\")\n",
    "visualize(model1)\n",
    "print(\"Model 2 : Adam\")\n",
    "visualize(model2)"
   ]
  },
  {
   "cell_type": "markdown",
   "metadata": {},
   "source": [
    "With this visualisation, we are able to recognise Rectangle, Disk and Triangle recognition."
   ]
  },
  {
   "cell_type": "markdown",
   "metadata": {},
   "source": [
    "# A more difficult classification problem"
   ]
  }
 ],
 "metadata": {
  "kernelspec": {
   "display_name": "Python 3",
   "language": "python",
   "name": "python3"
  },
  "language_info": {
   "codemirror_mode": {
    "name": "ipython",
    "version": 3
   },
   "file_extension": ".py",
   "mimetype": "text/x-python",
   "name": "python",
   "nbconvert_exporter": "python",
   "pygments_lexer": "ipython3",
   "version": "3.6.7"
  }
 },
 "nbformat": 4,
 "nbformat_minor": 2
}
