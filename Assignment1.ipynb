{
 "cells": [
  {
   "cell_type": "markdown",
   "metadata": {},
   "source": [
    "# Image Classification and Refression \n",
    "By Paul Asquin   \n",
    "Deep Learning assignment from [Vincent Lepetit](https://www.labri.fr/perso/vlepetit/deep_learning_mva.php) courses - CentraleSupélec"
   ]
  },
  {
   "cell_type": "markdown",
   "metadata": {},
   "source": [
    "# 3. Simple Classification"
   ]
  },
  {
   "cell_type": "markdown",
   "metadata": {},
   "source": [
    "## a.Project definition"
   ]
  },
  {
   "cell_type": "code",
   "execution_count": 2,
   "metadata": {},
   "outputs": [
    {
     "data": {
      "image/png": "[encoded data removed]",
      "text/plain": [
       "<Figure size 432x288 with 1 Axes>"
      ]
     },
     "metadata": {
      "needs_background": "light"
     },
     "output_type": "display_data"
    }
   ],
   "source": [
    "from mp1 import *\n",
    "from keras.models import Sequential\n",
    "from keras import metrics\n",
    "from keras.layers import Dense, Activation, Dropout, Conv2D, MaxPooling2D, Flatten\n",
    "from keras.optimizers import SGD, Adam\n",
    "from keras.utils import np_utils\n",
    "import numpy as np\n",
    "\n",
    "IMAGE_WIDTH = 72\n",
    "IMAGE_HEIGHT = IMAGE_WIDTH"
   ]
  },
  {
   "cell_type": "markdown",
   "metadata": {},
   "source": [
    "## b.Load the dataset"
   ]
  },
  {
   "cell_type": "code",
   "execution_count": 3,
   "metadata": {},
   "outputs": [
    {
     "name": "stdout",
     "output_type": "stream",
     "text": [
      "Creating data:\n",
      "0\n",
      "10\n",
      "20\n",
      "30\n",
      "40\n",
      "50\n",
      "60\n",
      "70\n",
      "80\n",
      "90\n",
      "100\n",
      "110\n",
      "120\n",
      "130\n",
      "140\n",
      "150\n",
      "160\n",
      "170\n",
      "180\n",
      "190\n",
      "200\n",
      "210\n",
      "220\n",
      "230\n",
      "240\n",
      "250\n",
      "260\n",
      "270\n",
      "280\n",
      "290\n",
      "Creating data:\n",
      "0\n",
      "10\n",
      "20\n",
      "30\n",
      "40\n",
      "50\n",
      "60\n",
      "70\n",
      "80\n",
      "90\n",
      "100\n",
      "110\n",
      "120\n",
      "130\n",
      "140\n",
      "150\n",
      "160\n",
      "170\n",
      "180\n",
      "190\n",
      "200\n",
      "210\n",
      "220\n",
      "230\n",
      "240\n",
      "250\n",
      "260\n",
      "270\n",
      "280\n",
      "290\n"
     ]
    }
   ],
   "source": [
    "[X_train_raw, Y_train_raw] = generate_dataset_classification(300, 20)\n",
    "labels =  {0:'Rectangle', 1 : 'Disk', 2 : 'Triangle'}\n",
    "\n",
    "[X_test_raw, Y_test_raw] = generate_test_set_classification()\n",
    "# Because of Jupyer Notebook, we create _raw dataset lists \n",
    "# as we don't want to run transformation multiple times with X_train = X_train..."
   ]
  },
  {
   "cell_type": "markdown",
   "metadata": {},
   "source": [
    "## c.Dataset shaping"
   ]
  },
  {
   "cell_type": "code",
   "execution_count": 4,
   "metadata": {},
   "outputs": [
    {
     "name": "stdout",
     "output_type": "stream",
     "text": [
      "X_train shape :  (300, 5184)\n",
      "Y_train shape :  (300, 3)\n",
      "labels :  {0: 'Rectangle', 1: 'Disk', 2: 'Triangle'}\n",
      "X_test shape :  (300, 5184)\n",
      "Y_test shape :  (300, 3)\n",
      "Using input shape :  (5184,)\n"
     ]
    }
   ],
   "source": [
    "def transform_dataset(X_train_raw, Y_train_raw, dataset_reshaping=False):\n",
    "    X_train = None\n",
    "    Y_train = None\n",
    "    \n",
    "    if dataset_reshaping:\n",
    "        print(\"X_train_raw shape : \", X_train_raw.shape)\n",
    "        print(\"Y_train_raw shape : \", Y_train_raw.shape)\n",
    "        print(\"\\nReshaping dataset to '2D images'\")\n",
    "        X_train = X_train_raw.reshape(-1, IMAGE_WIDTH, IMAGE_HEIGHT, 1)\n",
    "        Y_train = np_utils.to_categorical(Y_train_raw)\n",
    "    \n",
    "    else:\n",
    "        X_train = X_train_raw\n",
    "        Y_train = np_utils.to_categorical(Y_train_raw, 3)\n",
    "    \n",
    "    return [X_train, Y_train]\n",
    "\n",
    "X_train, Y_train = transform_dataset(X_train_raw, Y_train_raw)\n",
    "print(\"X_train shape : \", X_train.shape)\n",
    "print(\"Y_train shape : \", Y_train.shape)\n",
    "print(\"labels : \", labels)\n",
    "\n",
    "X_test, Y_test = X_test_raw, Y_test_raw\n",
    "print(\"X_test shape : \", X_test.shape)\n",
    "print(\"Y_test shape : \", Y_test.shape)\n",
    "\n",
    "\n",
    "# Get input shape\n",
    "input_shape = X_train.shape[1:]\n",
    "print(\"Using input shape : \", input_shape)"
   ]
  },
  {
   "cell_type": "markdown",
   "metadata": {},
   "source": [
    "## d.Model building"
   ]
  },
  {
   "cell_type": "markdown",
   "metadata": {},
   "source": [
    "### Test model function"
   ]
  },
  {
   "cell_type": "code",
   "execution_count": 5,
   "metadata": {},
   "outputs": [],
   "source": [
    "def test_model(_model, reshape=False):\n",
    "    global labels\n",
    "    \n",
    "    les_X_test = {\n",
    "        'Rectangle' : generate_a_rectangle(),\n",
    "        'Disk' : generate_a_disk(),\n",
    "        'Triangle': generate_a_triangle()[0]\n",
    "         }\n",
    "\n",
    "    for test_label, X_test in les_X_test.items():\n",
    "        print(\"\\nTrying to label a\", test_label,\"as test input\")\n",
    "        if reshape:\n",
    "            X_test = X_test.reshape(-1, IMAGE_WIDTH, IMAGE_HEIGHT, 1)\n",
    "        else:\n",
    "            X_test = X_test.reshape(1, X_test.shape[0])\n",
    "        prediction = _model.predict(X_test)\n",
    "        print(prediction)\n",
    "        print(\"A\", labels[np.argmax(prediction)], \"is guessed\")"
   ]
  },
  {
   "cell_type": "markdown",
   "metadata": {},
   "source": [
    "### i.Model with SGD : Stochatic Gradient Descent"
   ]
  },
  {
   "cell_type": "code",
   "execution_count": 6,
   "metadata": {},
   "outputs": [
    {
     "data": {
      "text/plain": [
       "<keras.callbacks.History at 0x7f9c5765c400>"
      ]
     },
     "execution_count": 6,
     "metadata": {},
     "output_type": "execute_result"
    }
   ],
   "source": [
    "# Define model\n",
    "model1 = Sequential()\n",
    "model1.add(Dense(len(labels), activation = 'softmax', input_shape=input_shape))\n",
    "\n",
    "# Define optimizer\n",
    "sgd = SGD(lr=0.001, nesterov = True, momentum=0.9)\n",
    "\n",
    "# Compiling\n",
    "model1.compile(loss='categorical_crossentropy',optimizer=sgd, metrics=['accuracy'])\n",
    "\n",
    "# Fitting\n",
    "model1.fit(X_train, Y_train, epochs=100, batch_size=32, verbose=0)"
   ]
  },
  {
   "cell_type": "code",
   "execution_count": 7,
   "metadata": {},
   "outputs": [
    {
     "name": "stdout",
     "output_type": "stream",
     "text": [
      "\n",
      "Trying to label a Rectangle as test input\n",
      "[[1. 0. 0.]]\n",
      "A Rectangle is guessed\n",
      "\n",
      "Trying to label a Disk as test input\n",
      "[[0. 1. 0.]]\n",
      "A Disk is guessed\n",
      "\n",
      "Trying to label a Triangle as test input\n",
      "[[0. 0. 1.]]\n",
      "A Triangle is guessed\n"
     ]
    }
   ],
   "source": [
    "# Testing\n",
    "test_model(model1)"
   ]
  },
  {
   "cell_type": "markdown",
   "metadata": {},
   "source": [
    "We manage to reach great accuracies with this model, but use 'linear' instead of 'softmax' decrease model capacities."
   ]
  },
  {
   "cell_type": "markdown",
   "metadata": {},
   "source": [
    "### ii. Model with adam"
   ]
  },
  {
   "cell_type": "code",
   "execution_count": 8,
   "metadata": {},
   "outputs": [
    {
     "data": {
      "text/plain": [
       "<keras.callbacks.History at 0x7f9c54074cf8>"
      ]
     },
     "execution_count": 8,
     "metadata": {},
     "output_type": "execute_result"
    }
   ],
   "source": [
    "# Define model\n",
    "model2 = Sequential()\n",
    "model2.add(Dense(len(labels), activation = 'softmax', input_shape=input_shape))\n",
    "\n",
    "# Compiling\n",
    "model2.compile(loss='categorical_crossentropy',optimizer='adam', metrics=['accuracy'])\n",
    "\n",
    "# Fitting\n",
    "model2.fit(X_train, Y_train, epochs=100, batch_size=32, verbose=0)\n"
   ]
  },
  {
   "cell_type": "code",
   "execution_count": 9,
   "metadata": {},
   "outputs": [
    {
     "name": "stdout",
     "output_type": "stream",
     "text": [
      "\n",
      "Trying to label a Rectangle as test input\n",
      "[[1. 0. 0.]]\n",
      "A Rectangle is guessed\n",
      "\n",
      "Trying to label a Disk as test input\n",
      "[[0. 1. 0.]]\n",
      "A Disk is guessed\n",
      "\n",
      "Trying to label a Triangle as test input\n",
      "[[0. 0. 1.]]\n",
      "A Triangle is guessed\n"
     ]
    }
   ],
   "source": [
    "# Testing\n",
    "# scores = model2.evaluate(X_test, Y_test)\n",
    "# print(\"%s: %.2f%%\" % (model2.metrics_names[1], scores[1]*100))\n",
    "test_model(model2)"
   ]
  },
  {
   "cell_type": "markdown",
   "metadata": {},
   "source": [
    "Once again, with adam our model is able to identify test shapes."
   ]
  },
  {
   "cell_type": "markdown",
   "metadata": {},
   "source": [
    "# 4. Visualisation of the Solution"
   ]
  },
  {
   "cell_type": "code",
   "execution_count": 10,
   "metadata": {
    "scrolled": true
   },
   "outputs": [
    {
     "name": "stdout",
     "output_type": "stream",
     "text": [
      "Model 1 : SGD\n"
     ]
    },
    {
     "data": {
      "image/png": "[encoded data removed]",
      "text/plain": [
       "<Figure size 432x288 with 3 Axes>"
      ]
     },
     "metadata": {
      "needs_background": "light"
     },
     "output_type": "display_data"
    },
    {
     "name": "stdout",
     "output_type": "stream",
     "text": [
      "Model 2 : Adam\n"
     ]
    },
    {
     "data": {
      "image/png": "[encoded data removed]",
      "text/plain": [
       "<Figure size 432x288 with 3 Axes>"
      ]
     },
     "metadata": {
      "needs_background": "light"
     },
     "output_type": "display_data"
    }
   ],
   "source": [
    "import matplotlib.pyplot as plt\n",
    "def visualize(_model):\n",
    "    weights = _model.get_weights()[0]\n",
    "    fig = plt.figure()\n",
    "    \n",
    "    fig.add_subplot(1, 3, 1)\n",
    "    plt.imshow(weights[:, 0].reshape(IMAGE_WIDTH, IMAGE_HEIGHT))\n",
    "    \n",
    "    fig.add_subplot(1, 3, 2)\n",
    "    plt.imshow(weights[:, 1].reshape(IMAGE_WIDTH, IMAGE_HEIGHT))\n",
    "    \n",
    "    fig.add_subplot(1, 3, 3)\n",
    "    plt.imshow(weights[:, 2].reshape(IMAGE_WIDTH, IMAGE_HEIGHT))\n",
    "    \n",
    "    plt.show()\n",
    "\n",
    "print(\"Model 1 : SGD\")\n",
    "visualize(model1)\n",
    "print(\"Model 2 : Adam\")\n",
    "visualize(model2)"
   ]
  },
  {
   "cell_type": "markdown",
   "metadata": {},
   "source": [
    "With this visualisation, we are able to recognise Rectangle, Disk and Triangle recognition."
   ]
  },
  {
   "cell_type": "markdown",
   "metadata": {},
   "source": [
    "# 5.A More Difficult Classification Problem"
   ]
  },
  {
   "cell_type": "markdown",
   "metadata": {},
   "source": [
    "## a.Load the dataset"
   ]
  },
  {
   "cell_type": "code",
   "execution_count": 11,
   "metadata": {},
   "outputs": [
    {
     "name": "stdout",
     "output_type": "stream",
     "text": [
      "Creating data:\n",
      "0\n",
      "10\n",
      "20\n",
      "30\n",
      "40\n",
      "50\n",
      "60\n",
      "70\n",
      "80\n",
      "90\n",
      "100\n",
      "110\n",
      "120\n",
      "130\n",
      "140\n",
      "150\n",
      "160\n",
      "170\n",
      "180\n",
      "190\n",
      "200\n",
      "210\n",
      "220\n",
      "230\n",
      "240\n",
      "250\n",
      "260\n",
      "270\n",
      "280\n",
      "290\n"
     ]
    }
   ],
   "source": [
    "[X_train_raw2, Y_train_raw2] = generate_dataset_classification(300, 20, True)\n",
    "X_train_2, Y_train_2 = transform_dataset(X_train_raw2, Y_train_raw2)\n",
    "\n",
    "input_shape_2 = X_train_2.shape[1:]"
   ]
  },
  {
   "cell_type": "markdown",
   "metadata": {},
   "source": [
    "## b. Train the model"
   ]
  },
  {
   "cell_type": "code",
   "execution_count": 12,
   "metadata": {},
   "outputs": [
    {
     "data": {
      "text/plain": [
       "<keras.callbacks.History at 0x7f9c5d8ffc18>"
      ]
     },
     "execution_count": 12,
     "metadata": {},
     "output_type": "execute_result"
    }
   ],
   "source": [
    "# Define optimizer\n",
    "sgd = SGD(lr=0.001, nesterov = True, momentum=0.9)\n",
    "\n",
    "model3 = Sequential()\n",
    "model3.add(Dense(len(labels), activation='softmax', input_shape=input_shape_2))\n",
    "\n",
    "# Compiling the model\n",
    "model3.compile(\n",
    "    loss='categorical_crossentropy', \n",
    "    optimizer=sgd, \n",
    "    metrics=['accuracy'])\n",
    "\n",
    "# Fitting\n",
    "model3.fit(X_train_2, Y_train_2, epochs=100, batch_size=32, verbose=0)"
   ]
  },
  {
   "cell_type": "markdown",
   "metadata": {},
   "source": [
    "## c.Evaluate the model"
   ]
  },
  {
   "cell_type": "code",
   "execution_count": 13,
   "metadata": {},
   "outputs": [
    {
     "name": "stdout",
     "output_type": "stream",
     "text": [
      "300/300 [==============================] - 0s 131us/step\n",
      "acc: 55.33%\n",
      "\n",
      "Trying to label a Rectangle as test input\n",
      "[[0. 1. 0.]]\n",
      "A Disk is guessed\n",
      "\n",
      "Trying to label a Disk as test input\n",
      "[[0. 0. 1.]]\n",
      "A Triangle is guessed\n",
      "\n",
      "Trying to label a Triangle as test input\n",
      "[[0. 0. 1.]]\n",
      "A Triangle is guessed\n"
     ]
    }
   ],
   "source": [
    "# Testing\n",
    "scores = model3.evaluate(X_test, Y_test)\n",
    "print(\"%s: %.2f%%\" % (model3.metrics_names[1], scores[1]*100))\n",
    "test_model(model3)"
   ]
  },
  {
   "cell_type": "markdown",
   "metadata": {},
   "source": [
    "The model is not able to classify well the new dataset. We should move to new technologies to improve our accuracy."
   ]
  },
  {
   "cell_type": "markdown",
   "metadata": {},
   "source": [
    "## d. CNN model"
   ]
  },
  {
   "cell_type": "markdown",
   "metadata": {},
   "source": [
    "### i. Reshape the dataset"
   ]
  },
  {
   "cell_type": "code",
   "execution_count": 14,
   "metadata": {},
   "outputs": [
    {
     "name": "stdout",
     "output_type": "stream",
     "text": [
      "X_train_raw shape :  (300, 5184)\n",
      "Y_train_raw shape :  (300,)\n",
      "\n",
      "Reshaping dataset to '2D images'\n",
      "Using now input shape (72, 72, 1)\n"
     ]
    }
   ],
   "source": [
    "X_train_2r, Y_train_2r = transform_dataset(X_train_raw2, Y_train_raw2, dataset_reshaping=True)\n",
    "\n",
    "input_shape_2r = X_train_2r.shape[1:]\n",
    "print(\"Using now input shape\", input_shape_2r)"
   ]
  },
  {
   "cell_type": "code",
   "execution_count": 15,
   "metadata": {},
   "outputs": [
    {
     "data": {
      "text/plain": [
       "<keras.callbacks.History at 0x7f9c5d5a9f98>"
      ]
     },
     "execution_count": 15,
     "metadata": {},
     "output_type": "execute_result"
    }
   ],
   "source": [
    "# Build the model\n",
    "model4 = Sequential()\n",
    "model4.add(\n",
    "    Conv2D(\n",
    "        filters=16, \n",
    "        kernel_size=(5, 5), \n",
    "        activation='relu', \n",
    "        input_shape=input_shape_2r\n",
    "    )\n",
    ")\n",
    "model4.add(MaxPooling2D(pool_size=(2, 2)))\n",
    "model4.add(Flatten())\n",
    "model4.add(Dense(len(labels), activation='softmax'))\n",
    "\n",
    "# Define optimizer\n",
    "sgd = SGD(lr=0.001, nesterov = True, momentum=0.9)\n",
    "\n",
    "# Compiling the model\n",
    "model4.compile(loss='categorical_crossentropy',\n",
    "              optimizer=sgd,\n",
    "              metrics=['accuracy'])\n",
    "\n",
    "# Fitting the model\n",
    "model4.fit(X_train_2r, Y_train_2r, epochs=100, batch_size=32, verbose=0)"
   ]
  },
  {
   "cell_type": "markdown",
   "metadata": {},
   "source": [
    "### ii. Evaluate the CNN model"
   ]
  },
  {
   "cell_type": "code",
   "execution_count": 16,
   "metadata": {},
   "outputs": [
    {
     "name": "stdout",
     "output_type": "stream",
     "text": [
      "300/300 [==============================] - 0s 1ms/step\n",
      "acc: 69.00%\n",
      "\n",
      "Trying to label a Rectangle as test input\n",
      "[[1. 0. 0.]]\n",
      "A Rectangle is guessed\n",
      "\n",
      "Trying to label a Disk as test input\n",
      "[[1. 0. 0.]]\n",
      "A Rectangle is guessed\n",
      "\n",
      "Trying to label a Triangle as test input\n",
      "[[1. 0. 0.]]\n",
      "A Rectangle is guessed\n"
     ]
    }
   ],
   "source": [
    "# Testing\n",
    "scores = model4.evaluate(X_test.reshape(-1, IMAGE_WIDTH, IMAGE_HEIGHT, 1), Y_test)\n",
    "print(\"%s: %.2f%%\" % (model4.metrics_names[1], scores[1]*100))\n",
    "test_model(model4, reshape=True)"
   ]
  },
  {
   "cell_type": "markdown",
   "metadata": {},
   "source": [
    "We managed to improve our accuracy using CNNs"
   ]
  },
  {
   "cell_type": "markdown",
   "metadata": {},
   "source": [
    "# 6. A Regression Problem"
   ]
  },
  {
   "cell_type": "markdown",
   "metadata": {},
   "source": [
    "## a. Load the dataset"
   ]
  },
  {
   "cell_type": "code",
   "execution_count": 17,
   "metadata": {},
   "outputs": [
    {
     "name": "stdout",
     "output_type": "stream",
     "text": [
      "Creating data:\n",
      "0\n",
      "10\n",
      "20\n",
      "30\n",
      "40\n",
      "50\n",
      "60\n",
      "70\n",
      "80\n",
      "90\n",
      "100\n",
      "110\n",
      "120\n",
      "130\n",
      "140\n",
      "150\n",
      "160\n",
      "170\n",
      "180\n",
      "190\n",
      "200\n",
      "210\n",
      "220\n",
      "230\n",
      "240\n",
      "250\n",
      "260\n",
      "270\n",
      "280\n",
      "290\n",
      "300\n",
      "310\n",
      "320\n",
      "330\n",
      "340\n",
      "350\n",
      "360\n",
      "370\n",
      "380\n",
      "390\n",
      "400\n",
      "410\n",
      "420\n",
      "430\n",
      "440\n",
      "450\n",
      "460\n",
      "470\n",
      "480\n",
      "490\n",
      "X_train_raw shape :  (500, 5184)\n",
      "Y_train_raw shape :  (500, 6)\n",
      "\n",
      "Reshaping dataset to '2D images'\n",
      "X_train_3 shape :  (500, 72, 72, 1)\n",
      "Y_train_3 shape :  (500, 6)\n",
      "Using input shape (72, 72, 1)\n"
     ]
    }
   ],
   "source": [
    "[X_train_raw3, Y_train_raw3] = generate_dataset_regression(500, 20)\n",
    "X_train_3, _ = transform_dataset(X_train_raw3, Y_train_raw3, dataset_reshaping=True)\n",
    "Y_train_3 = Y_train_raw3\n",
    "print(\"X_train_3 shape : \", X_train_3.shape)\n",
    "print(\"Y_train_3 shape : \", Y_train_3.shape)\n",
    "\n",
    "input_shape_3 = X_train_3.shape[1:]\n",
    "print(\"Using input shape\", input_shape_3)"
   ]
  },
  {
   "cell_type": "markdown",
   "metadata": {},
   "source": [
    "## b. Prediction Visualsation"
   ]
  },
  {
   "cell_type": "code",
   "execution_count": 18,
   "metadata": {},
   "outputs": [
    {
     "data": {
      "image/png": "[encoded data removed]",
      "text/plain": [
       "<Figure size 360x360 with 1 Axes>"
      ]
     },
     "metadata": {
      "needs_background": "light"
     },
     "output_type": "display_data"
    }
   ],
   "source": [
    "visualize_prediction(X_train_raw3[0], Y_train_raw3[0])"
   ]
  },
  {
   "cell_type": "markdown",
   "metadata": {},
   "source": [
    "## c. CNN model using the Regression Dataset"
   ]
  },
  {
   "cell_type": "code",
   "execution_count": 19,
   "metadata": {},
   "outputs": [
    {
     "data": {
      "text/plain": [
       "<keras.callbacks.History at 0x7f9c72191e80>"
      ]
     },
     "execution_count": 19,
     "metadata": {},
     "output_type": "execute_result"
    }
   ],
   "source": [
    "# Building the model\n",
    "model5 = Sequential()\n",
    "model5.add(Conv2D(filters=32, \n",
    "                  kernel_size=(5, 5), \n",
    "                  activation='relu',\n",
    "                  input_shape = input_shape_3\n",
    "                 )\n",
    "          )\n",
    "model5.add(MaxPooling2D(pool_size=(3, 3)))\n",
    "model5.add(Conv2D(filters=32, kernel_size=(3, 3), activation='relu'))\n",
    "model5.add(MaxPooling2D(pool_size=(3, 3)))\n",
    "model5.add(Dropout(rate=0.5))\n",
    "model5.add(Flatten())\n",
    "model5.add(Dense(64, activation='relu'))\n",
    "model5.add(Dropout(rate=0.5))\n",
    "model5.add(Dense(6, activation='softmax'))\n",
    "\n",
    "# Compiling          \n",
    "model5.compile(loss='mean_squared_error', \n",
    "               optimizer='adam',\n",
    "               metrics=['accuracy'])\n",
    "\n",
    "# Fitting\n",
    "model5.fit(\n",
    "    X_train_3, \n",
    "    Y_train_3, \n",
    "    epochs=30, \n",
    "    batch_size=32,\n",
    "    verbose=0\n",
    ")\n"
   ]
  },
  {
   "cell_type": "markdown",
   "metadata": {},
   "source": [
    "## d. Evaluate the CNN"
   ]
  },
  {
   "cell_type": "code",
   "execution_count": 20,
   "metadata": {},
   "outputs": [
    {
     "name": "stdout",
     "output_type": "stream",
     "text": [
      "Creating data:\n",
      "0\n",
      "10\n",
      "20\n",
      "30\n",
      "40\n",
      "50\n",
      "60\n",
      "70\n",
      "80\n",
      "90\n",
      "100\n",
      "110\n",
      "120\n",
      "130\n",
      "140\n",
      "150\n",
      "160\n",
      "170\n",
      "180\n",
      "190\n",
      "200\n",
      "210\n",
      "220\n",
      "230\n",
      "240\n",
      "250\n",
      "260\n",
      "270\n",
      "280\n",
      "290\n",
      "X_train_raw shape :  (300, 5184)\n",
      "Y_train_raw shape :  (300, 6)\n",
      "\n",
      "Reshaping dataset to '2D images'\n"
     ]
    }
   ],
   "source": [
    "# Load test dataset\n",
    "[X_test_raw3, Y_test_raw3] = generate_test_set_regression()\n",
    "X_test_3, _ = transform_dataset(X_test_raw3, Y_test_raw3, dataset_reshaping=True)\n",
    "Y_test_3 = Y_test_raw3"
   ]
  },
  {
   "cell_type": "code",
   "execution_count": 21,
   "metadata": {
    "scrolled": true
   },
   "outputs": [
    {
     "name": "stdout",
     "output_type": "stream",
     "text": [
      "300/300 [==============================] - 1s 2ms/step\n",
      "acc: 27.33%\n"
     ]
    }
   ],
   "source": [
    "# Testing\n",
    "scores = model5.evaluate(X_test_3, Y_test_3)\n",
    "print(\"%s: %.2f%%\" % (model5.metrics_names[1], scores[1]*100))"
   ]
  },
  {
   "cell_type": "code",
   "execution_count": 24,
   "metadata": {
    "scrolled": true
   },
   "outputs": [
    {
     "data": {
      "image/png": "[encoded data removed]",
      "text/plain": [
       "<Figure size 360x360 with 1 Axes>"
      ]
     },
     "metadata": {
      "needs_background": "light"
     },
     "output_type": "display_data"
    }
   ],
   "source": [
    "Y_predict_3 = model5.predict(X_test_3)\n",
    "visualize_prediction(X_test_3[2], Y_predict_3[2])"
   ]
  },
  {
   "cell_type": "markdown",
   "metadata": {},
   "source": [
    "Those performances are not really awesome, but as my computer is burning when running such models, I am not able to test to much of them."
   ]
  },
  {
   "cell_type": "markdown",
   "metadata": {},
   "source": [
    "# 7.Image Denoising"
   ]
  },
  {
   "cell_type": "markdown",
   "metadata": {},
   "source": [
    "## a. Two images generation"
   ]
  },
  {
   "cell_type": "code",
   "execution_count": 25,
   "metadata": {},
   "outputs": [],
   "source": [
    "def generate_a_drawing_2(figsize, U, V, noise=0.0):\n",
    "    fig = plt.figure(figsize=(figsize,figsize))\n",
    "    ax = plt.subplot(111)\n",
    "    plt.axis('Off')\n",
    "    ax.set_xlim(0,figsize)\n",
    "    ax.set_ylim(0,figsize)\n",
    "    ax.fill(U, V, \"k\")\n",
    "    fig.canvas.draw()\n",
    "    imdata = np.frombuffer(fig.canvas.tostring_rgb(), dtype=np.uint8)[::3].astype(np.float32)\n",
    "    imdata = imdata + noise * np.random.random(imdata.size)\n",
    "    plt.close(fig)\n",
    "    return imdata\n",
    "\n",
    "def generate_a_rectangle_2(noise=0.0, free_location=False):\n",
    "    figsize = 1.0    \n",
    "    U = np.zeros(4)\n",
    "    V = np.zeros(4)\n",
    "    if free_location:\n",
    "        corners = np.random.random(4)\n",
    "        top = max(corners[0], corners[1])\n",
    "        bottom = min(corners[0], corners[1])\n",
    "        left = min(corners[2], corners[3])\n",
    "        right = max(corners[2], corners[3])\n",
    "    else:\n",
    "        side = (0.3 + 0.7 * np.random.random()) * figsize\n",
    "        top = figsize/2 + side/2\n",
    "        bottom = figsize/2 - side/2\n",
    "        left = bottom\n",
    "        right = top\n",
    "    U[0] = U[1] = top\n",
    "    U[2] = U[3] = bottom\n",
    "    V[0] = V[3] = left\n",
    "    V[1] = V[2] = right\n",
    "    return [generate_a_drawing_2(figsize, U, V, noise), generate_a_drawing_2(figsize, U, V, 0)]\n",
    "\n",
    "\n",
    "def generate_a_disk_2(noise=0.0, free_location=False):\n",
    "    figsize = 1.0\n",
    "    if free_location:\n",
    "        center = np.random.random(2)\n",
    "    else:\n",
    "        center = (figsize/2, figsize/2)\n",
    "    radius = (0.3 + 0.7 * np.random.random()) * figsize/2\n",
    "    N = 50\n",
    "    U = np.zeros(N)\n",
    "    V = np.zeros(N)\n",
    "    i = 0\n",
    "    for t in np.linspace(0, 2*np.pi, N):\n",
    "        U[i] = center[0] + np.cos(t) * radius\n",
    "        V[i] = center[1] + np.sin(t) * radius\n",
    "        i = i + 1\n",
    "    return [generate_a_drawing_2(figsize, U, V, noise), generate_a_drawing_2(figsize, U, V, 0)]\n",
    "\n",
    "def generate_a_triangle_2(noise=0.0, free_location=False):\n",
    "    figsize = 1.0\n",
    "    if free_location:\n",
    "        U = np.random.random(3)\n",
    "        V = np.random.random(3)\n",
    "    else:\n",
    "        size = (0.3 + 0.7 * np.random.random())*figsize/2\n",
    "        middle = figsize/2\n",
    "        U = (middle, middle+size, middle-size)\n",
    "        V = (middle+size, middle-size, middle-size)\n",
    "    return [generate_a_drawing_2(figsize, U, V, noise), generate_a_drawing_2(figsize, U, V, 0)] \n",
    "    \n",
    "\n",
    "def generate_dataset_classification_2(nb_samples, noise=0.0, free_location=False):\n",
    "    # Getting im_size:\n",
    "    im_size = generate_a_rectangle_2()[0].shape[0]\n",
    "    X = np.zeros([nb_samples,im_size])\n",
    "    Y = np.zeros([nb_samples,im_size])\n",
    "    #print('Creating data:')\n",
    "    for i in range(nb_samples):\n",
    "        noise = np.random.randint(255)\n",
    "        #if i % 10 == 0:\n",
    "            #print(i)\n",
    "        category = np.random.randint(3)\n",
    "        if category == 0:\n",
    "            [X[i], Y[i]] = generate_a_rectangle_2(noise, free_location)\n",
    "            \n",
    "        elif category == 1: \n",
    "            [X[i], Y[i]] = generate_a_disk_2(noise, free_location)\n",
    "            \n",
    "        else:\n",
    "            [X[i], Y[i]] = generate_a_triangle_2(noise, free_location)\n",
    "            \n",
    "        X[i] = (X[i] + noise) / (255 + 2 * noise)\n",
    "        Y[i] = Y[i] / 255\n",
    "    return [X, Y]\n",
    "\n",
    "def generate_test_set_classification_2():\n",
    "    np.random.seed(42)\n",
    "    [X_test, Y_test] = generate_dataset_classification_2(300, free_location=True)\n",
    "    return [X_test, Y_test]"
   ]
  },
  {
   "cell_type": "markdown",
   "metadata": {},
   "source": [
    "## b. Load the dataset "
   ]
  },
  {
   "cell_type": "code",
   "execution_count": 26,
   "metadata": {},
   "outputs": [],
   "source": [
    "def reshape(vector):\n",
    "    return vector.reshape(vector.shape[0], IMAGE_WIDTH, IMAGE_HEIGHT, 1)"
   ]
  },
  {
   "cell_type": "code",
   "execution_count": 27,
   "metadata": {},
   "outputs": [
    {
     "name": "stdout",
     "output_type": "stream",
     "text": [
      "X_train_5 shape :  (300, 72, 72, 1)\n",
      "Y_train_5 shape :  (300, 72, 72, 1)\n",
      "X_test_5 shape :  (300, 72, 72, 1)\n",
      "Y_test_5 shape :  (300, 72, 72, 1)\n",
      "Using input shape (72, 72, 1)\n"
     ]
    }
   ],
   "source": [
    "X_train_raw5, Y_train_raw5 = generate_dataset_classification_2(300, free_location = True)\n",
    "X_train_5, Y_train_5 = reshape(X_train_raw5), reshape(Y_train_raw5)\n",
    "print(\"X_train_5 shape : \", X_train_5.shape)\n",
    "print(\"Y_train_5 shape : \", Y_train_5.shape)\n",
    "\n",
    "X_test_raw5, Y_test_raw5 = generate_test_set_classification_2()\n",
    "X_test_5, Y_test_5 = reshape(X_test_raw5), reshape(Y_test_raw5)\n",
    "print(\"X_test_5 shape : \", X_test_5.shape)\n",
    "print(\"Y_test_5 shape : \", Y_test_5.shape)\n",
    "\n",
    "input_shape_5 = X_train_5.shape[1:]\n",
    "print(\"Using input shape\", input_shape_5)"
   ]
  },
  {
   "cell_type": "markdown",
   "metadata": {},
   "source": [
    "## c.Noise visualisation"
   ]
  },
  {
   "cell_type": "code",
   "execution_count": null,
   "metadata": {},
   "outputs": [
    {
     "data": {
      "image/png": "[encoded data removed]",
      "text/plain": [
       "<Figure size 432x288 with 1 Axes>"
      ]
     },
     "metadata": {
      "needs_background": "light"
     },
     "output_type": "display_data"
    },
    {
     "data": {
      "image/png": "[encoded data removed]",
      "text/plain": [
       "<Figure size 432x288 with 1 Axes>"
      ]
     },
     "metadata": {
      "needs_background": "light"
     },
     "output_type": "display_data"
    }
   ],
   "source": [
    "plt.imshow(X_train_5[0].reshape(IMAGE_WIDTH,IMAGE_HEIGHT), cmap=\"Greys\")\n",
    "plt.title('With noise exemple')\n",
    "plt.show()\n",
    "\n",
    "\n",
    "plt.imshow(Y_test_5[0].reshape(IMAGE_WIDTH,IMAGE_HEIGHT), cmap=\"Greys\")\n",
    "plt.title('Without noise exemple')\n",
    "plt.show()"
   ]
  },
  {
   "cell_type": "markdown",
   "metadata": {},
   "source": [
    "## d.Model training"
   ]
  },
  {
   "cell_type": "code",
   "execution_count": null,
   "metadata": {},
   "outputs": [],
   "source": [
    "from keras.models import Input, Model\n",
    "from keras.layers import UpSampling2D, Conv2D, MaxPooling2D\n",
    "\n",
    "\n",
    "model6 = Sequential()\n",
    "\n",
    "model6.add(\n",
    "    Conv2D(\n",
    "        32,\n",
    "        kernel_size=(3,3),\n",
    "        activation='relu',\n",
    "        input_shape=input_shape_5\n",
    "    )\n",
    ")\n",
    "model6.add(MaxPooling2D((2, 2), padding='same'))\n",
    "\n",
    "model6.add(Conv2D(32, (3, 3), activation='relu', padding='same'))\n",
    "model6.add(MaxPooling2D((2, 2), padding='same'))\n",
    "\n",
    "model6.add(Conv2D(32, (3, 3), activation='relu', padding='same'))\n",
    "model6.add(UpSampling2D((2, 2)))\n",
    "\n",
    "model6.add(Conv2D(32, (3, 3), activation='relu', padding='same'))\n",
    "model6.add(UpSampling2D((2, 2)))\n",
    "\n",
    "model6.add(Conv2D(1, (3, 3), activation='sigmoid', padding='same'))\n",
    "\n",
    "model6.compile(optimizer=\"adam\", loss='binary_crossentropy')\n",
    "model6.fit(X_train_5, Y_train_5, epochs=10, batch_size=32, verbose=0)"
   ]
  },
  {
   "cell_type": "markdown",
   "metadata": {},
   "source": [
    "We are now able te generate a denoised image thanks to the shape recogniton. We could expect better results with models train on a computer able to compute them during more time and with less danger for  the laptop with the CPU rise."
   ]
  },
  {
   "cell_type": "markdown",
   "metadata": {},
   "source": [
    "## e.Testing the model"
   ]
  },
  {
   "cell_type": "code",
   "execution_count": null,
   "metadata": {},
   "outputs": [],
   "source": [
    "def reshape_2(vector):\n",
    "    return vector.reshape(IMAGE_WIDTH, IMAGE_HEIGHT)"
   ]
  },
  {
   "cell_type": "code",
   "execution_count": null,
   "metadata": {},
   "outputs": [],
   "source": [
    "Y_pred_5 = model6.predict(X_test_5)"
   ]
  },
  {
   "cell_type": "code",
   "execution_count": null,
   "metadata": {},
   "outputs": [],
   "source": [
    "plt.imshow(reshape_2(X_test_5[0]), cmap= 'Greys')\n",
    "plt.title('With Noise')\n",
    "plt.show()\n",
    "\n",
    "plt.imshow(reshape_2(Y_test_5[0]), cmap= 'Greys')\n",
    "plt.title('With no noise')\n",
    "plt.show()\n",
    "\n",
    "plt.imshow(reshape_2(Y_pred_5[0]), cmap= 'Greys')\n",
    "plt.title('Denoised image with prediction')\n",
    "plt.show()"
   ]
  },
  {
   "cell_type": "markdown",
   "metadata": {},
   "source": [
    "Even if the model is not optimum here, as my computer cannot compute too complex models, we can see that we manage to retrieve the shape of the original image denoised!"
   ]
  }
 ],
 "metadata": {
  "kernelspec": {
   "display_name": "Python 3",
   "language": "python",
   "name": "python3"
  },
  "language_info": {
   "codemirror_mode": {
    "name": "ipython",
    "version": 3
   },
   "file_extension": ".py",
   "mimetype": "text/x-python",
   "name": "python",
   "nbconvert_exporter": "python",
   "pygments_lexer": "ipython3",
   "version": "3.6.7"
  }
 },
 "nbformat": 4,
 "nbformat_minor": 2
}
