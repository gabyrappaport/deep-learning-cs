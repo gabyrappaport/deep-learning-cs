{
 "cells": [
  {
   "cell_type": "markdown",
   "metadata": {},
   "source": [
    "# Image Classification and Refression \n",
    "By Paul Asquin   \n",
    "Deep Learning assignment from [Vincent Lepetit](https://www.labri.fr/perso/vlepetit/deep_learning_mva.php) courses - CentraleSupélec"
   ]
  },
  {
   "cell_type": "markdown",
   "metadata": {},
   "source": [
    "# 3. Simple Classification"
   ]
  },
  {
   "cell_type": "markdown",
   "metadata": {},
   "source": [
    "## a.Project definition"
   ]
  },
  {
   "cell_type": "code",
   "execution_count": 3,
   "metadata": {},
   "outputs": [
    {
     "data": {
      "image/png": "[encoded data removed]",
      "text/plain": [
       "<Figure size 432x288 with 1 Axes>"
      ]
     },
     "metadata": {
      "needs_background": "light"
     },
     "output_type": "display_data"
    }
   ],
   "source": [
    "from mp1 import *\n",
    "from keras.models import Sequential\n",
    "from keras import metrics\n",
    "from keras.layers import Dense, Activation, Dropout, Conv2D, MaxPooling2D, Flatten\n",
    "from keras.optimizers import SGD, Adam\n",
    "from keras.utils import np_utils\n",
    "import numpy as np\n",
    "\n",
    "IMAGE_WIDTH = 72\n",
    "IMAGE_HEIGHT = IMAGE_WIDTH"
   ]
  },
  {
   "cell_type": "markdown",
   "metadata": {},
   "source": [
    "## b.Load the dataset"
   ]
  },
  {
   "cell_type": "code",
   "execution_count": 4,
   "metadata": {},
   "outputs": [
    {
     "name": "stdout",
     "output_type": "stream",
     "text": [
      "Creating data:\n",
      "0\n",
      "10\n",
      "20\n",
      "30\n",
      "40\n",
      "50\n",
      "60\n",
      "70\n",
      "80\n",
      "90\n",
      "100\n",
      "110\n",
      "120\n",
      "130\n",
      "140\n",
      "150\n",
      "160\n",
      "170\n",
      "180\n",
      "190\n",
      "200\n",
      "210\n",
      "220\n",
      "230\n",
      "240\n",
      "250\n",
      "260\n",
      "270\n",
      "280\n",
      "290\n",
      "Creating data:\n",
      "0\n",
      "10\n",
      "20\n",
      "30\n",
      "40\n",
      "50\n",
      "60\n",
      "70\n",
      "80\n",
      "90\n",
      "100\n",
      "110\n",
      "120\n",
      "130\n",
      "140\n",
      "150\n",
      "160\n",
      "170\n",
      "180\n",
      "190\n",
      "200\n",
      "210\n",
      "220\n",
      "230\n",
      "240\n",
      "250\n",
      "260\n",
      "270\n",
      "280\n",
      "290\n"
     ]
    }
   ],
   "source": [
    "[X_train_raw, Y_train_raw] = generate_dataset_classification(300, 20)\n",
    "labels =  {0:'Rectangle', 1 : 'Disk', 2 : 'Triangle'}\n",
    "\n",
    "[X_test_raw, Y_test_raw] = generate_test_set_classification()\n",
    "# Because of Jupyer Notebook, we create _raw dataset lists \n",
    "# as we don't want to run transformation multiple times with X_train = X_train..."
   ]
  },
  {
   "cell_type": "markdown",
   "metadata": {},
   "source": [
    "## c.Dataset shaping"
   ]
  },
  {
   "cell_type": "code",
   "execution_count": 178,
   "metadata": {},
   "outputs": [
    {
     "name": "stdout",
     "output_type": "stream",
     "text": [
      "X_train shape :  (300, 5184)\n",
      "Y_train shape :  (300, 3)\n",
      "labels :  {0: 'Rectangle', 1: 'Disk', 2: 'Triangle'}\n",
      "X_test shape :  (300, 5184)\n",
      "Y_test shape :  (300, 3)\n",
      "Using input shape :  (5184,)\n"
     ]
    }
   ],
   "source": [
    "def transform_dataset(X_train_raw, Y_train_raw, dataset_reshaping=False):\n",
    "    X_train = None\n",
    "    Y_train = None\n",
    "    \n",
    "    if dataset_reshaping:\n",
    "        print(\"X_train_raw shape : \", X_train_raw.shape)\n",
    "        print(\"Y_train_raw shape : \", Y_train_raw.shape)\n",
    "        print(\"\\nReshaping dataset to '2D images'\")\n",
    "        X_train = X_train_raw.reshape(-1, IMAGE_WIDTH, IMAGE_HEIGHT, 1)\n",
    "        Y_train = np_utils.to_categorical(Y_train_raw)\n",
    "    \n",
    "    else:\n",
    "        X_train = X_train_raw\n",
    "        Y_train = np_utils.to_categorical(Y_train_raw, 3)\n",
    "    \n",
    "    return [X_train, Y_train]\n",
    "\n",
    "X_train, Y_train = transform_dataset(X_train_raw, Y_train_raw)\n",
    "print(\"X_train shape : \", X_train.shape)\n",
    "print(\"Y_train shape : \", Y_train.shape)\n",
    "print(\"labels : \", labels)\n",
    "\n",
    "X_test, Y_test = X_test_raw, Y_test_raw\n",
    "print(\"X_test shape : \", X_test.shape)\n",
    "print(\"Y_test shape : \", Y_test.shape)\n",
    "\n",
    "\n",
    "# Get input shape\n",
    "input_shape = X_train.shape[1:]\n",
    "print(\"Using input shape : \", input_shape)"
   ]
  },
  {
   "cell_type": "markdown",
   "metadata": {},
   "source": [
    "## d.Model building"
   ]
  },
  {
   "cell_type": "markdown",
   "metadata": {},
   "source": [
    "### Test model function"
   ]
  },
  {
   "cell_type": "code",
   "execution_count": 174,
   "metadata": {},
   "outputs": [],
   "source": [
    "def test_model(_model, reshape=False):\n",
    "    global labels\n",
    "    \n",
    "    les_X_test = {\n",
    "        'Rectangle' : generate_a_rectangle(),\n",
    "        'Disk' : generate_a_disk(),\n",
    "        'Triangle': generate_a_triangle()[0]\n",
    "         }\n",
    "\n",
    "    for test_label, X_test in les_X_test.items():\n",
    "        print(\"\\nTrying to label a\", test_label,\"as test input\")\n",
    "        if reshape:\n",
    "            X_test = X_test.reshape(-1, IMAGE_WIDTH, IMAGE_HEIGHT, 1)\n",
    "        else:\n",
    "            X_test = X_test.reshape(1, X_test.shape[0])\n",
    "        prediction = _model.predict(X_test)\n",
    "        print(prediction)\n",
    "        print(\"A\", labels[np.argmax(prediction)], \"is guessed\")"
   ]
  },
  {
   "cell_type": "markdown",
   "metadata": {},
   "source": [
    "### i.Model with SGD : Stochatic Gradient Descent"
   ]
  },
  {
   "cell_type": "code",
   "execution_count": 175,
   "metadata": {},
   "outputs": [
    {
     "data": {
      "text/plain": [
       "<keras.callbacks.History at 0x7efc541cbba8>"
      ]
     },
     "execution_count": 175,
     "metadata": {},
     "output_type": "execute_result"
    }
   ],
   "source": [
    "# Define model\n",
    "model1 = Sequential()\n",
    "model1.add(Dense(len(labels), activation = 'softmax', input_shape=input_shape))\n",
    "\n",
    "# Define optimizer\n",
    "sgd = SGD(lr=0.001, nesterov = True, momentum=0.9)\n",
    "\n",
    "# Compiling\n",
    "model1.compile(loss='categorical_crossentropy',optimizer=sgd, metrics=['accuracy'])\n",
    "\n",
    "# Fitting\n",
    "model1.fit(X_train, Y_train, epochs=100, batch_size=32, verbose=0)"
   ]
  },
  {
   "cell_type": "code",
   "execution_count": 176,
   "metadata": {},
   "outputs": [
    {
     "name": "stdout",
     "output_type": "stream",
     "text": [
      "\n",
      "Trying to label a Rectangle as test input\n",
      "[[1. 0. 0.]]\n",
      "A Rectangle is guessed\n",
      "\n",
      "Trying to label a Disk as test input\n",
      "[[0. 1. 0.]]\n",
      "A Disk is guessed\n",
      "\n",
      "Trying to label a Triangle as test input\n",
      "[[0. 0. 1.]]\n",
      "A Triangle is guessed\n"
     ]
    }
   ],
   "source": [
    "# Testing\n",
    "test_model(model1)"
   ]
  },
  {
   "cell_type": "markdown",
   "metadata": {},
   "source": [
    "We manage to reach great accuracies with this model, but use 'linear' instead of 'softmax' decrease model capacities."
   ]
  },
  {
   "cell_type": "markdown",
   "metadata": {},
   "source": [
    "### ii. Model with adam"
   ]
  },
  {
   "cell_type": "code",
   "execution_count": 24,
   "metadata": {},
   "outputs": [
    {
     "data": {
      "text/plain": [
       "<keras.callbacks.History at 0x7efca861b6a0>"
      ]
     },
     "execution_count": 24,
     "metadata": {},
     "output_type": "execute_result"
    }
   ],
   "source": [
    "# Define model\n",
    "model2 = Sequential()\n",
    "model2.add(Dense(len(labels), activation = 'softmax', input_shape=input_shape))\n",
    "\n",
    "# Compiling\n",
    "model2.compile(loss='categorical_crossentropy',optimizer='adam', metrics=['accuracy'])\n",
    "\n",
    "# Fitting\n",
    "model2.fit(X_train, Y_train, epochs=100, batch_size=32, verbose=0)\n"
   ]
  },
  {
   "cell_type": "code",
   "execution_count": 40,
   "metadata": {},
   "outputs": [
    {
     "name": "stdout",
     "output_type": "stream",
     "text": [
      "\n",
      "Trying to label a Rectangle as test input\n",
      "[[1. 0. 0.]]\n",
      "A Rectangle is guessed\n",
      "\n",
      "Trying to label a Disk as test input\n",
      "[[0. 1. 0.]]\n",
      "A Disk is guessed\n",
      "\n",
      "Trying to label a Triangle as test input\n",
      "[[0. 0. 1.]]\n",
      "A Triangle is guessed\n"
     ]
    }
   ],
   "source": [
    "# Testing\n",
    "# scores = model2.evaluate(X_test, Y_test)\n",
    "# print(\"%s: %.2f%%\" % (model2.metrics_names[1], scores[1]*100))\n",
    "test_model(model2)"
   ]
  },
  {
   "cell_type": "markdown",
   "metadata": {},
   "source": [
    "Once again, with adam our model is able to identify test shapes."
   ]
  },
  {
   "cell_type": "markdown",
   "metadata": {},
   "source": [
    "# 4. Visualisation of the Solution"
   ]
  },
  {
   "cell_type": "code",
   "execution_count": 26,
   "metadata": {
    "scrolled": true
   },
   "outputs": [
    {
     "name": "stdout",
     "output_type": "stream",
     "text": [
      "Model 1 : SGD\n"
     ]
    },
    {
     "data": {
      "image/png": "[encoded data removed]",
      "text/plain": [
       "<Figure size 432x288 with 3 Axes>"
      ]
     },
     "metadata": {
      "needs_background": "light"
     },
     "output_type": "display_data"
    },
    {
     "name": "stdout",
     "output_type": "stream",
     "text": [
      "Model 2 : Adam\n"
     ]
    },
    {
     "data": {
      "image/png": "[encoded data removed]",
      "text/plain": [
       "<Figure size 432x288 with 3 Axes>"
      ]
     },
     "metadata": {
      "needs_background": "light"
     },
     "output_type": "display_data"
    }
   ],
   "source": [
    "import matplotlib.pyplot as plt\n",
    "def visualize(_model):\n",
    "    weights = _model.get_weights()[0]\n",
    "    fig = plt.figure()\n",
    "    \n",
    "    fig.add_subplot(1, 3, 1)\n",
    "    plt.imshow(weights[:, 0].reshape(IMAGE_WIDTH, IMAGE_HEIGHT))\n",
    "    \n",
    "    fig.add_subplot(1, 3, 2)\n",
    "    plt.imshow(weights[:, 1].reshape(IMAGE_WIDTH, IMAGE_HEIGHT))\n",
    "    \n",
    "    fig.add_subplot(1, 3, 3)\n",
    "    plt.imshow(weights[:, 2].reshape(IMAGE_WIDTH, IMAGE_HEIGHT))\n",
    "    \n",
    "    plt.show()\n",
    "\n",
    "print(\"Model 1 : SGD\")\n",
    "visualize(model1)\n",
    "print(\"Model 2 : Adam\")\n",
    "visualize(model2)"
   ]
  },
  {
   "cell_type": "markdown",
   "metadata": {},
   "source": [
    "With this visualisation, we are able to recognise Rectangle, Disk and Triangle recognition."
   ]
  },
  {
   "cell_type": "markdown",
   "metadata": {},
   "source": [
    "# 5.A More Difficult Classification Problem"
   ]
  },
  {
   "cell_type": "markdown",
   "metadata": {},
   "source": [
    "## a.Load the dataset"
   ]
  },
  {
   "cell_type": "code",
   "execution_count": 42,
   "metadata": {},
   "outputs": [
    {
     "name": "stdout",
     "output_type": "stream",
     "text": [
      "Creating data:\n",
      "0\n",
      "10\n",
      "20\n",
      "30\n",
      "40\n",
      "50\n",
      "60\n",
      "70\n",
      "80\n",
      "90\n",
      "100\n",
      "110\n",
      "120\n",
      "130\n",
      "140\n",
      "150\n",
      "160\n",
      "170\n",
      "180\n",
      "190\n",
      "200\n",
      "210\n",
      "220\n",
      "230\n",
      "240\n",
      "250\n",
      "260\n",
      "270\n",
      "280\n",
      "290\n"
     ]
    }
   ],
   "source": [
    "[X_train_raw2, Y_train_raw2] = generate_dataset_classification(300, 20, True)\n",
    "X_train_2, Y_train_2 = transform_dataset(X_train_raw2, Y_train_raw2)\n",
    "\n",
    "input_shape_2 = X_train_2.shape[1:]"
   ]
  },
  {
   "cell_type": "markdown",
   "metadata": {},
   "source": [
    "## b. Train the model"
   ]
  },
  {
   "cell_type": "code",
   "execution_count": 43,
   "metadata": {},
   "outputs": [
    {
     "data": {
      "text/plain": [
       "<keras.callbacks.History at 0x7efcb70f2978>"
      ]
     },
     "execution_count": 43,
     "metadata": {},
     "output_type": "execute_result"
    }
   ],
   "source": [
    "# Define optimizer\n",
    "sgd = SGD(lr=0.001, nesterov = True, momentum=0.9)\n",
    "\n",
    "model3 = Sequential()\n",
    "model3.add(Dense(len(labels), activation='softmax', input_shape=input_shape_2))\n",
    "\n",
    "# Compiling the model\n",
    "model3.compile(\n",
    "    loss='categorical_crossentropy', \n",
    "    optimizer=sgd, \n",
    "    metrics=['accuracy'])\n",
    "\n",
    "# Fitting\n",
    "model3.fit(X_train_2, Y_train_2, epochs=100, batch_size=32, verbose=0)"
   ]
  },
  {
   "cell_type": "markdown",
   "metadata": {},
   "source": [
    "## c.Evaluate the model"
   ]
  },
  {
   "cell_type": "code",
   "execution_count": 44,
   "metadata": {},
   "outputs": [
    {
     "name": "stdout",
     "output_type": "stream",
     "text": [
      "300/300 [==============================] - 0s 393us/step\n",
      "acc: 53.00%\n",
      "\n",
      "Trying to label a Rectangle as test input\n",
      "[[1. 0. 0.]]\n",
      "A Rectangle is guessed\n",
      "\n",
      "Trying to label a Disk as test input\n",
      "[[0. 1. 0.]]\n",
      "A Disk is guessed\n",
      "\n",
      "Trying to label a Triangle as test input\n",
      "[[1. 0. 0.]]\n",
      "A Rectangle is guessed\n"
     ]
    }
   ],
   "source": [
    "# Testing\n",
    "scores = model3.evaluate(X_test, Y_test)\n",
    "print(\"%s: %.2f%%\" % (model3.metrics_names[1], scores[1]*100))\n",
    "test_model(model3)"
   ]
  },
  {
   "cell_type": "markdown",
   "metadata": {},
   "source": [
    "The model is not able to classify well the new dataset. We should move to new technologies to improve our accuracy."
   ]
  },
  {
   "cell_type": "markdown",
   "metadata": {},
   "source": [
    "## d. CNN model"
   ]
  },
  {
   "cell_type": "markdown",
   "metadata": {},
   "source": [
    "### i. Reshape the dataset"
   ]
  },
  {
   "cell_type": "code",
   "execution_count": 179,
   "metadata": {},
   "outputs": [
    {
     "name": "stdout",
     "output_type": "stream",
     "text": [
      "X_train_raw shape :  (300, 5184)\n",
      "Y_train_raw shape :  (300,)\n",
      "\n",
      "Reshaping dataset to '2D images'\n",
      "Using now input shape (72, 72, 1)\n"
     ]
    }
   ],
   "source": [
    "X_train_2r, Y_train_2r = transform_dataset(X_train_raw2, Y_train_raw2, dataset_reshaping=True)\n",
    "\n",
    "input_shape_2r = X_train_2r.shape[1:]\n",
    "print(\"Using now input shape\", input_shape_2r)"
   ]
  },
  {
   "cell_type": "code",
   "execution_count": 180,
   "metadata": {},
   "outputs": [
    {
     "name": "stdout",
     "output_type": "stream",
     "text": [
      "Epoch 1/100\n",
      "300/300 [==============================] - 1s 5ms/step - loss: 1.1232 - acc: 0.3400\n",
      "Epoch 2/100\n",
      "300/300 [==============================] - 1s 3ms/step - loss: 1.0839 - acc: 0.4367\n",
      "Epoch 3/100\n",
      "300/300 [==============================] - 1s 3ms/step - loss: 1.0281 - acc: 0.5033\n",
      "Epoch 4/100\n",
      "300/300 [==============================] - 1s 3ms/step - loss: 1.0256 - acc: 0.4933\n",
      "Epoch 5/100\n",
      "300/300 [==============================] - 1s 3ms/step - loss: 0.9596 - acc: 0.5067\n",
      "Epoch 6/100\n",
      "300/300 [==============================] - 1s 3ms/step - loss: 0.9008 - acc: 0.5967\n",
      "Epoch 7/100\n",
      "300/300 [==============================] - 1s 3ms/step - loss: 0.8897 - acc: 0.5967\n",
      "Epoch 8/100\n",
      "300/300 [==============================] - 1s 3ms/step - loss: 0.8525 - acc: 0.5833\n",
      "Epoch 9/100\n",
      "300/300 [==============================] - 1s 3ms/step - loss: 0.8287 - acc: 0.5833\n",
      "Epoch 10/100\n",
      "300/300 [==============================] - 1s 3ms/step - loss: 0.7951 - acc: 0.6400\n",
      "Epoch 11/100\n",
      "300/300 [==============================] - 1s 3ms/step - loss: 0.8211 - acc: 0.5867\n",
      "Epoch 12/100\n",
      "300/300 [==============================] - 1s 3ms/step - loss: 0.7888 - acc: 0.6300\n",
      "Epoch 13/100\n",
      "300/300 [==============================] - 1s 3ms/step - loss: 0.7368 - acc: 0.7000\n",
      "Epoch 14/100\n",
      "300/300 [==============================] - 1s 3ms/step - loss: 0.7621 - acc: 0.6133\n",
      "Epoch 15/100\n",
      "300/300 [==============================] - 1s 3ms/step - loss: 0.7460 - acc: 0.6433\n",
      "Epoch 16/100\n",
      "300/300 [==============================] - 1s 3ms/step - loss: 0.7570 - acc: 0.6633\n",
      "Epoch 17/100\n",
      "300/300 [==============================] - 1s 3ms/step - loss: 0.7175 - acc: 0.6833\n",
      "Epoch 18/100\n",
      "300/300 [==============================] - 1s 3ms/step - loss: 0.7148 - acc: 0.6867\n",
      "Epoch 19/100\n",
      "300/300 [==============================] - 1s 3ms/step - loss: 0.7041 - acc: 0.6733\n",
      "Epoch 20/100\n",
      "300/300 [==============================] - 1s 3ms/step - loss: 0.7109 - acc: 0.6500\n",
      "Epoch 21/100\n",
      "300/300 [==============================] - 1s 3ms/step - loss: 0.7256 - acc: 0.6633\n",
      "Epoch 22/100\n",
      "300/300 [==============================] - 1s 3ms/step - loss: 0.6779 - acc: 0.6700\n",
      "Epoch 23/100\n",
      "300/300 [==============================] - 1s 3ms/step - loss: 0.6648 - acc: 0.6833\n",
      "Epoch 24/100\n",
      "300/300 [==============================] - 1s 3ms/step - loss: 0.6734 - acc: 0.6800\n",
      "Epoch 25/100\n",
      "300/300 [==============================] - 1s 3ms/step - loss: 0.6917 - acc: 0.6433\n",
      "Epoch 26/100\n",
      "300/300 [==============================] - 1s 3ms/step - loss: 0.6347 - acc: 0.7300\n",
      "Epoch 27/100\n",
      "300/300 [==============================] - 1s 3ms/step - loss: 0.6666 - acc: 0.6933\n",
      "Epoch 28/100\n",
      "300/300 [==============================] - 1s 3ms/step - loss: 0.6387 - acc: 0.7067\n",
      "Epoch 29/100\n",
      "300/300 [==============================] - 1s 3ms/step - loss: 0.6127 - acc: 0.7400\n",
      "Epoch 30/100\n",
      "300/300 [==============================] - 1s 3ms/step - loss: 0.6685 - acc: 0.6733\n",
      "Epoch 31/100\n",
      "300/300 [==============================] - 1s 3ms/step - loss: 0.6067 - acc: 0.7333\n",
      "Epoch 32/100\n",
      "300/300 [==============================] - 1s 3ms/step - loss: 0.6494 - acc: 0.7100\n",
      "Epoch 33/100\n",
      "300/300 [==============================] - 1s 3ms/step - loss: 0.6295 - acc: 0.7267\n",
      "Epoch 34/100\n",
      "300/300 [==============================] - 1s 3ms/step - loss: 0.5813 - acc: 0.7500\n",
      "Epoch 35/100\n",
      "300/300 [==============================] - 1s 3ms/step - loss: 0.6128 - acc: 0.7133\n",
      "Epoch 36/100\n",
      "300/300 [==============================] - 1s 3ms/step - loss: 0.5801 - acc: 0.7467\n",
      "Epoch 37/100\n",
      "300/300 [==============================] - 1s 3ms/step - loss: 0.6722 - acc: 0.6767\n",
      "Epoch 38/100\n",
      "300/300 [==============================] - 1s 3ms/step - loss: 0.5685 - acc: 0.7467\n",
      "Epoch 39/100\n",
      "300/300 [==============================] - 1s 3ms/step - loss: 0.5626 - acc: 0.7500\n",
      "Epoch 40/100\n",
      "300/300 [==============================] - 1s 3ms/step - loss: 0.5887 - acc: 0.7433\n",
      "Epoch 41/100\n",
      "300/300 [==============================] - 1s 3ms/step - loss: 0.5704 - acc: 0.7367\n",
      "Epoch 42/100\n",
      "300/300 [==============================] - 1s 3ms/step - loss: 0.5629 - acc: 0.7733\n",
      "Epoch 43/100\n",
      "300/300 [==============================] - 1s 3ms/step - loss: 0.5719 - acc: 0.7533\n",
      "Epoch 44/100\n",
      "300/300 [==============================] - 1s 3ms/step - loss: 0.5353 - acc: 0.8000\n",
      "Epoch 45/100\n",
      "300/300 [==============================] - 1s 3ms/step - loss: 0.5195 - acc: 0.8067\n",
      "Epoch 46/100\n",
      "300/300 [==============================] - 1s 3ms/step - loss: 0.5565 - acc: 0.7667\n",
      "Epoch 47/100\n",
      "300/300 [==============================] - 1s 3ms/step - loss: 0.5206 - acc: 0.7933\n",
      "Epoch 48/100\n",
      "300/300 [==============================] - 1s 3ms/step - loss: 0.5257 - acc: 0.7567\n",
      "Epoch 49/100\n",
      "300/300 [==============================] - 1s 3ms/step - loss: 0.5331 - acc: 0.8000\n",
      "Epoch 50/100\n",
      "300/300 [==============================] - 1s 3ms/step - loss: 0.5132 - acc: 0.7800\n",
      "Epoch 51/100\n",
      "300/300 [==============================] - 1s 3ms/step - loss: 0.5198 - acc: 0.7867\n",
      "Epoch 52/100\n",
      "300/300 [==============================] - 1s 3ms/step - loss: 0.5073 - acc: 0.8000\n",
      "Epoch 53/100\n",
      "300/300 [==============================] - 1s 3ms/step - loss: 0.5480 - acc: 0.7267\n",
      "Epoch 54/100\n",
      "300/300 [==============================] - 1s 3ms/step - loss: 0.5053 - acc: 0.7567\n",
      "Epoch 55/100\n",
      "300/300 [==============================] - 1s 3ms/step - loss: 0.4886 - acc: 0.7767\n",
      "Epoch 56/100\n",
      "300/300 [==============================] - 1s 3ms/step - loss: 0.4875 - acc: 0.8167\n",
      "Epoch 57/100\n",
      "300/300 [==============================] - 1s 3ms/step - loss: 0.4993 - acc: 0.8000\n",
      "Epoch 58/100\n",
      "300/300 [==============================] - 1s 3ms/step - loss: 0.4748 - acc: 0.8067\n",
      "Epoch 59/100\n",
      "300/300 [==============================] - 1s 3ms/step - loss: 0.4616 - acc: 0.8367\n",
      "Epoch 60/100\n",
      "300/300 [==============================] - 1s 3ms/step - loss: 0.4875 - acc: 0.8100\n",
      "Epoch 61/100\n",
      "300/300 [==============================] - 1s 3ms/step - loss: 0.4432 - acc: 0.8367\n",
      "Epoch 62/100\n",
      "300/300 [==============================] - 1s 3ms/step - loss: 0.4545 - acc: 0.8333\n",
      "Epoch 63/100\n",
      "300/300 [==============================] - 1s 3ms/step - loss: 0.4536 - acc: 0.8300\n",
      "Epoch 64/100\n",
      "300/300 [==============================] - 1s 3ms/step - loss: 0.4440 - acc: 0.8300\n",
      "Epoch 65/100\n",
      "300/300 [==============================] - 1s 3ms/step - loss: 0.4366 - acc: 0.8633\n",
      "Epoch 66/100\n",
      "300/300 [==============================] - 1s 3ms/step - loss: 0.4765 - acc: 0.8100\n",
      "Epoch 67/100\n",
      "300/300 [==============================] - 1s 3ms/step - loss: 0.4401 - acc: 0.8200\n",
      "Epoch 68/100\n",
      "300/300 [==============================] - 1s 3ms/step - loss: 0.4627 - acc: 0.7967\n",
      "Epoch 69/100\n",
      "300/300 [==============================] - 1s 3ms/step - loss: 0.4195 - acc: 0.8467\n",
      "Epoch 70/100\n",
      "300/300 [==============================] - 1s 3ms/step - loss: 0.4115 - acc: 0.8767\n",
      "Epoch 71/100\n",
      "300/300 [==============================] - 1s 3ms/step - loss: 0.4400 - acc: 0.8067\n",
      "Epoch 72/100\n",
      "300/300 [==============================] - 1s 3ms/step - loss: 0.4176 - acc: 0.8467\n",
      "Epoch 73/100\n",
      "300/300 [==============================] - 1s 3ms/step - loss: 0.3965 - acc: 0.8600\n",
      "Epoch 74/100\n",
      "300/300 [==============================] - 1s 3ms/step - loss: 0.4111 - acc: 0.8533\n",
      "Epoch 75/100\n",
      "300/300 [==============================] - 1s 3ms/step - loss: 0.3860 - acc: 0.8733\n",
      "Epoch 76/100\n",
      "300/300 [==============================] - 1s 3ms/step - loss: 0.3793 - acc: 0.8800\n",
      "Epoch 77/100\n",
      "300/300 [==============================] - 1s 3ms/step - loss: 0.3959 - acc: 0.8533\n",
      "Epoch 78/100\n",
      "300/300 [==============================] - 1s 3ms/step - loss: 0.3756 - acc: 0.8767\n",
      "Epoch 79/100\n",
      "300/300 [==============================] - 1s 3ms/step - loss: 0.3746 - acc: 0.8567\n",
      "Epoch 80/100\n",
      "300/300 [==============================] - 1s 3ms/step - loss: 0.3752 - acc: 0.8633\n",
      "Epoch 81/100\n",
      "300/300 [==============================] - 1s 3ms/step - loss: 0.3626 - acc: 0.8733\n",
      "Epoch 82/100\n",
      "300/300 [==============================] - 1s 3ms/step - loss: 0.3594 - acc: 0.8967\n",
      "Epoch 83/100\n",
      "300/300 [==============================] - 1s 3ms/step - loss: 0.3460 - acc: 0.8933\n",
      "Epoch 84/100\n",
      "300/300 [==============================] - 1s 3ms/step - loss: 0.3345 - acc: 0.8967\n",
      "Epoch 85/100\n"
     ]
    },
    {
     "name": "stdout",
     "output_type": "stream",
     "text": [
      "300/300 [==============================] - 1s 3ms/step - loss: 0.3797 - acc: 0.8567\n",
      "Epoch 86/100\n",
      "300/300 [==============================] - 1s 3ms/step - loss: 0.3263 - acc: 0.9033\n",
      "Epoch 87/100\n",
      "300/300 [==============================] - 1s 3ms/step - loss: 0.3625 - acc: 0.8633\n",
      "Epoch 88/100\n",
      "300/300 [==============================] - 1s 3ms/step - loss: 0.3506 - acc: 0.8767\n",
      "Epoch 89/100\n",
      "300/300 [==============================] - 1s 2ms/step - loss: 0.3224 - acc: 0.9000\n",
      "Epoch 90/100\n",
      "300/300 [==============================] - 1s 3ms/step - loss: 0.3103 - acc: 0.9067\n",
      "Epoch 91/100\n",
      "300/300 [==============================] - 1s 3ms/step - loss: 0.3577 - acc: 0.8867\n",
      "Epoch 92/100\n",
      "300/300 [==============================] - 1s 3ms/step - loss: 0.2942 - acc: 0.9133\n",
      "Epoch 93/100\n",
      "300/300 [==============================] - 1s 3ms/step - loss: 0.3006 - acc: 0.9067\n",
      "Epoch 94/100\n",
      "300/300 [==============================] - 1s 3ms/step - loss: 0.2995 - acc: 0.9267\n",
      "Epoch 95/100\n",
      "300/300 [==============================] - 1s 3ms/step - loss: 0.2986 - acc: 0.9233\n",
      "Epoch 96/100\n",
      "300/300 [==============================] - 1s 3ms/step - loss: 0.3093 - acc: 0.8933\n",
      "Epoch 97/100\n",
      "300/300 [==============================] - 1s 3ms/step - loss: 0.3120 - acc: 0.8867\n",
      "Epoch 98/100\n",
      "300/300 [==============================] - 1s 3ms/step - loss: 0.3021 - acc: 0.9033\n",
      "Epoch 99/100\n",
      "300/300 [==============================] - 1s 3ms/step - loss: 0.2768 - acc: 0.9200\n",
      "Epoch 100/100\n",
      "300/300 [==============================] - 1s 3ms/step - loss: 0.3113 - acc: 0.8900\n"
     ]
    },
    {
     "data": {
      "text/plain": [
       "<keras.callbacks.History at 0x7efc53dfeda0>"
      ]
     },
     "execution_count": 180,
     "metadata": {},
     "output_type": "execute_result"
    }
   ],
   "source": [
    "# Build the model\n",
    "model4 = Sequential()\n",
    "model4.add(\n",
    "    Conv2D(\n",
    "        filters=16, \n",
    "        kernel_size=(5, 5), \n",
    "        activation='relu', \n",
    "        input_shape=input_shape_2r\n",
    "    )\n",
    ")\n",
    "model4.add(MaxPooling2D(pool_size=(2, 2)))\n",
    "model4.add(Flatten())\n",
    "model4.add(Dense(len(labels), activation='softmax'))\n",
    "\n",
    "# Define optimizer\n",
    "sgd = SGD(lr=0.001, nesterov = True, momentum=0.9)\n",
    "\n",
    "# Compiling the model\n",
    "model4.compile(loss='categorical_crossentropy',\n",
    "              optimizer=sgd,\n",
    "              metrics=['accuracy'])\n",
    "\n",
    "# Fitting the model\n",
    "model4.fit(X_train_2r, Y_train_2r, epochs=100, batch_size=32)"
   ]
  },
  {
   "cell_type": "markdown",
   "metadata": {},
   "source": [
    "### ii. Evaluate the CNN model"
   ]
  },
  {
   "cell_type": "code",
   "execution_count": 63,
   "metadata": {},
   "outputs": [
    {
     "name": "stdout",
     "output_type": "stream",
     "text": [
      "300/300 [==============================] - 0s 2ms/step\n",
      "acc: 62.67%\n",
      "\n",
      "Trying to label a Rectangle as test input\n",
      "[[1.8990863e-37 1.0000000e+00 0.0000000e+00]]\n",
      "A Disk is guessed\n",
      "\n",
      "Trying to label a Disk as test input\n",
      "[[0. 1. 0.]]\n",
      "A Disk is guessed\n",
      "\n",
      "Trying to label a Triangle as test input\n",
      "[[1.02651635e-26 0.00000000e+00 1.00000000e+00]]\n",
      "A Triangle is guessed\n"
     ]
    }
   ],
   "source": [
    "# Testing\n",
    "scores = model4.evaluate(X_test.reshape(-1, IMAGE_WIDTH, IMAGE_HEIGHT, 1), Y_test)\n",
    "print(\"%s: %.2f%%\" % (model4.metrics_names[1], scores[1]*100))\n",
    "test_model(model4, reshape=True)"
   ]
  },
  {
   "cell_type": "markdown",
   "metadata": {},
   "source": [
    "We managed to improve our accuracy using CNNs"
   ]
  },
  {
   "cell_type": "markdown",
   "metadata": {},
   "source": [
    "# 6. A Regression Problem"
   ]
  },
  {
   "cell_type": "markdown",
   "metadata": {},
   "source": [
    "## a. Load the dataset"
   ]
  },
  {
   "cell_type": "code",
   "execution_count": 155,
   "metadata": {},
   "outputs": [
    {
     "name": "stdout",
     "output_type": "stream",
     "text": [
      "Creating data:\n",
      "0\n",
      "10\n",
      "20\n",
      "30\n",
      "40\n",
      "50\n",
      "60\n",
      "70\n",
      "80\n",
      "90\n",
      "100\n",
      "110\n",
      "120\n",
      "130\n",
      "140\n",
      "150\n",
      "160\n",
      "170\n",
      "180\n",
      "190\n",
      "200\n",
      "210\n",
      "220\n",
      "230\n",
      "240\n",
      "250\n",
      "260\n",
      "270\n",
      "280\n",
      "290\n",
      "300\n",
      "310\n",
      "320\n",
      "330\n",
      "340\n",
      "350\n",
      "360\n",
      "370\n",
      "380\n",
      "390\n",
      "400\n",
      "410\n",
      "420\n",
      "430\n",
      "440\n",
      "450\n",
      "460\n",
      "470\n",
      "480\n",
      "490\n",
      "X_train_raw shape :  (500, 5184)\n",
      "Y_train_raw shape :  (500, 6)\n",
      "\n",
      "Reshaping dataset to '2D images'\n",
      "X_train_3 shape :  (500, 72, 72, 1)\n",
      "Y_train_3 shape :  (500, 6)\n",
      "Using input shape (72, 72, 1)\n"
     ]
    }
   ],
   "source": [
    "[X_train_raw3, Y_train_raw3] = generate_dataset_regression(500, 20)\n",
    "X_train_3, _ = transform_dataset(X_train_raw3, Y_train_raw3, dataset_reshaping=True)\n",
    "Y_train_3 = Y_train_raw3\n",
    "print(\"X_train_3 shape : \", X_train_3.shape)\n",
    "print(\"Y_train_3 shape : \", Y_train_3.shape)\n",
    "\n",
    "input_shape_3 = X_train_3.shape[1:]\n",
    "print(\"Using input shape\", input_shape_3)"
   ]
  },
  {
   "cell_type": "markdown",
   "metadata": {},
   "source": [
    "## b. Prediction Visualsation"
   ]
  },
  {
   "cell_type": "code",
   "execution_count": 156,
   "metadata": {},
   "outputs": [
    {
     "data": {
      "image/png": "[encoded data removed]",
      "text/plain": [
       "<Figure size 360x360 with 1 Axes>"
      ]
     },
     "metadata": {
      "needs_background": "light"
     },
     "output_type": "display_data"
    }
   ],
   "source": [
    "visualize_prediction(X_train_raw3[0], Y_train_raw3[0])"
   ]
  },
  {
   "cell_type": "markdown",
   "metadata": {},
   "source": [
    "## c. CNN model using the Regression Dataset"
   ]
  },
  {
   "cell_type": "code",
   "execution_count": null,
   "metadata": {},
   "outputs": [],
   "source": [
    "# Building the model\n",
    "model5 = Sequential()\n",
    "model5.add(Conv2D(filters=32, \n",
    "                  kernel_size=(5, 5), \n",
    "                  activation='relu',\n",
    "                  input_shape = input_shape_3\n",
    "                 )\n",
    "          )\n",
    "model5.add(MaxPooling2D(pool_size=(3, 3)))\n",
    "model5.add(Conv2D(filters=32, kernel_size=(3, 3), activation='relu'))\n",
    "model5.add(MaxPooling2D(pool_size=(3, 3)))\n",
    "model5.add(Dropout(rate=0.5))\n",
    "model5.add(Flatten())\n",
    "model5.add(Dense(64, activation='relu'))\n",
    "model5.add(Dropout(rate=0.5))\n",
    "model5.add(Dense(6, activation='softmax'))\n",
    "\n",
    "# Compiling          \n",
    "model5.compile(loss='mean_squared_error', \n",
    "               optimizer='adam',\n",
    "               metrics=['accuracy'])\n",
    "\n",
    "# Fitting\n",
    "model5.fit(\n",
    "    X_train_3, \n",
    "    Y_train_3, \n",
    "    epochs=30, \n",
    "    batch_size=32,\n",
    "    verbose=0\n",
    ")\n"
   ]
  },
  {
   "cell_type": "markdown",
   "metadata": {},
   "source": [
    "## d. Evaluate the CNN"
   ]
  },
  {
   "cell_type": "code",
   "execution_count": 159,
   "metadata": {},
   "outputs": [
    {
     "name": "stdout",
     "output_type": "stream",
     "text": [
      "Creating data:\n",
      "0\n",
      "10\n",
      "20\n",
      "30\n",
      "40\n",
      "50\n",
      "60\n",
      "70\n",
      "80\n",
      "90\n",
      "100\n",
      "110\n",
      "120\n",
      "130\n",
      "140\n",
      "150\n",
      "160\n",
      "170\n",
      "180\n",
      "190\n",
      "200\n",
      "210\n",
      "220\n",
      "230\n",
      "240\n",
      "250\n",
      "260\n",
      "270\n",
      "280\n",
      "290\n",
      "X_train_raw shape :  (300, 5184)\n",
      "Y_train_raw shape :  (300, 6)\n",
      "\n",
      "Reshaping dataset to '2D images'\n"
     ]
    }
   ],
   "source": [
    "# Load test dataset\n",
    "[X_test_raw3, Y_test_raw3] = generate_test_set_regression()\n",
    "X_test_3, _ = transform_dataset(X_test_raw3, Y_test_raw3, dataset_reshaping=True)\n",
    "Y_test_3 = Y_test_raw3"
   ]
  },
  {
   "cell_type": "code",
   "execution_count": 160,
   "metadata": {
    "scrolled": true
   },
   "outputs": [
    {
     "name": "stdout",
     "output_type": "stream",
     "text": [
      "300/300 [==============================] - 1s 3ms/step\n",
      "acc: 28.33%\n"
     ]
    }
   ],
   "source": [
    "# Testing\n",
    "scores = model5.evaluate(X_test_3, Y_test_3)\n",
    "print(\"%s: %.2f%%\" % (model5.metrics_names[1], scores[1]*100))"
   ]
  },
  {
   "cell_type": "code",
   "execution_count": 161,
   "metadata": {
    "scrolled": true
   },
   "outputs": [
    {
     "data": {
      "image/png": "[encoded data removed]",
      "text/plain": [
       "<Figure size 360x360 with 1 Axes>"
      ]
     },
     "metadata": {
      "needs_background": "light"
     },
     "output_type": "display_data"
    }
   ],
   "source": [
    "Y_predict_3 = model5.predict(X_test_4)\n",
    "visualize_prediction(X_test_3[2], Y_predict_3[2])"
   ]
  },
  {
   "cell_type": "markdown",
   "metadata": {},
   "source": [
    "Those performances are not really awesome, but as my computer is burning when running such models, I am not able to test to much of them."
   ]
  },
  {
   "cell_type": "markdown",
   "metadata": {},
   "source": [
    "# 7.Image Denoising"
   ]
  },
  {
   "cell_type": "markdown",
   "metadata": {},
   "source": [
    "## a. Two images generation"
   ]
  },
  {
   "cell_type": "code",
   "execution_count": 168,
   "metadata": {},
   "outputs": [],
   "source": [
    "def generate_a_drawing_2(figsize, U, V, noise=0.0):\n",
    "    fig = plt.figure(figsize=(figsize,figsize))\n",
    "    ax = plt.subplot(111)\n",
    "    plt.axis('Off')\n",
    "    ax.set_xlim(0,figsize)\n",
    "    ax.set_ylim(0,figsize)\n",
    "    ax.fill(U, V, \"k\")\n",
    "    fig.canvas.draw()\n",
    "    imdata = np.frombuffer(fig.canvas.tostring_rgb(), dtype=np.uint8)[::3].astype(np.float32)\n",
    "    imdata = imdata + noise * np.random.random(imdata.size)\n",
    "    plt.close(fig)\n",
    "    return imdata\n",
    "\n",
    "def generate_a_rectangle_2(noise=0.0, free_location=False):\n",
    "    figsize = 1.0    \n",
    "    U = np.zeros(4)\n",
    "    V = np.zeros(4)\n",
    "    if free_location:\n",
    "        corners = np.random.random(4)\n",
    "        top = max(corners[0], corners[1])\n",
    "        bottom = min(corners[0], corners[1])\n",
    "        left = min(corners[2], corners[3])\n",
    "        right = max(corners[2], corners[3])\n",
    "    else:\n",
    "        side = (0.3 + 0.7 * np.random.random()) * figsize\n",
    "        top = figsize/2 + side/2\n",
    "        bottom = figsize/2 - side/2\n",
    "        left = bottom\n",
    "        right = top\n",
    "    U[0] = U[1] = top\n",
    "    U[2] = U[3] = bottom\n",
    "    V[0] = V[3] = left\n",
    "    V[1] = V[2] = right\n",
    "    return [generate_a_drawing_2(figsize, U, V, noise), generate_a_drawing_2(figsize, U, V, 0)]\n",
    "\n",
    "\n",
    "def generate_a_disk_2(noise=0.0, free_location=False):\n",
    "    figsize = 1.0\n",
    "    if free_location:\n",
    "        center = np.random.random(2)\n",
    "    else:\n",
    "        center = (figsize/2, figsize/2)\n",
    "    radius = (0.3 + 0.7 * np.random.random()) * figsize/2\n",
    "    N = 50\n",
    "    U = np.zeros(N)\n",
    "    V = np.zeros(N)\n",
    "    i = 0\n",
    "    for t in np.linspace(0, 2*np.pi, N):\n",
    "        U[i] = center[0] + np.cos(t) * radius\n",
    "        V[i] = center[1] + np.sin(t) * radius\n",
    "        i = i + 1\n",
    "    return [generate_a_drawing_2(figsize, U, V, noise), generate_a_drawing_2(figsize, U, V, 0)]\n",
    "\n",
    "def generate_a_triangle_2(noise=0.0, free_location=False):\n",
    "    figsize = 1.0\n",
    "    if free_location:\n",
    "        U = np.random.random(3)\n",
    "        V = np.random.random(3)\n",
    "    else:\n",
    "        size = (0.3 + 0.7 * np.random.random())*figsize/2\n",
    "        middle = figsize/2\n",
    "        U = (middle, middle+size, middle-size)\n",
    "        V = (middle+size, middle-size, middle-size)\n",
    "    return [generate_a_drawing_2(figsize, U, V, noise), generate_a_drawing_2(figsize, U, V, 0)] \n",
    "    \n",
    "\n",
    "def generate_dataset_classification_2(nb_samples, noise=0.0, free_location=False):\n",
    "    # Getting im_size:\n",
    "    im_size = generate_a_rectangle_2()[0].shape[0]\n",
    "    X = np.zeros([nb_samples,im_size])\n",
    "    Y = np.zeros([nb_samples,im_size])\n",
    "    #print('Creating data:')\n",
    "    for i in range(nb_samples):\n",
    "        noise = np.random.randint(255)\n",
    "        #if i % 10 == 0:\n",
    "            #print(i)\n",
    "        category = np.random.randint(3)\n",
    "        if category == 0:\n",
    "            [X[i], Y[i]] = generate_a_rectangle_2(noise, free_location)\n",
    "            \n",
    "        elif category == 1: \n",
    "            [X[i], Y[i]] = generate_a_disk_2(noise, free_location)\n",
    "            \n",
    "        else:\n",
    "            [X[i], Y[i]] = generate_a_triangle_2(noise, free_location)\n",
    "            \n",
    "        X[i] = (X[i] + noise) / (255 + 2 * noise)\n",
    "        Y[i] = Y[i] / 255\n",
    "    return [X, Y]\n",
    "\n",
    "def generate_test_set_classification_2():\n",
    "    np.random.seed(42)\n",
    "    [X_test, Y_test] = generate_dataset_classification_2(300, free_location=True)\n",
    "    return [X_test, Y_test]"
   ]
  },
  {
   "cell_type": "markdown",
   "metadata": {},
   "source": [
    "## b. Load the dataset "
   ]
  },
  {
   "cell_type": "code",
   "execution_count": 182,
   "metadata": {},
   "outputs": [],
   "source": [
    "def reshape(vector):\n",
    "    return vector.reshape(-1, IMAGE_WIDTH, IMAGE_HEIGHT, 1)"
   ]
  },
  {
   "cell_type": "code",
   "execution_count": 209,
   "metadata": {},
   "outputs": [
    {
     "name": "stdout",
     "output_type": "stream",
     "text": [
      "Using input shape (72, 72, 1)\n"
     ]
    }
   ],
   "source": [
    "X_train_raw5, Y_train_raw5 = generate_dataset_classification_2(500, free_location = True)\n",
    "X_train_5, Y_train_5 = reshape(X_train_raw5), reshape(Y_train_raw5)\n",
    "\n",
    "X_test_raw5, Y_test_raw5 = generate_test_set_classification_2()\n",
    "X_test_5, Y_test_5 = reshape(X_test_raw5), reshape(Y_test_raw5)\n",
    "\n",
    "input_shape_5 = X_train_5.shape[1:]\n",
    "print(\"Using input shape\", input_shape_5)"
   ]
  },
  {
   "cell_type": "markdown",
   "metadata": {},
   "source": [
    "## c.Noise visualisation"
   ]
  },
  {
   "cell_type": "code",
   "execution_count": 210,
   "metadata": {},
   "outputs": [
    {
     "data": {
      "image/png": "[encoded data removed]",
      "text/plain": [
       "<Figure size 432x288 with 1 Axes>"
      ]
     },
     "metadata": {
      "needs_background": "light"
     },
     "output_type": "display_data"
    },
    {
     "data": {
      "image/png": "[encoded data removed]",
      "text/plain": [
       "<Figure size 432x288 with 1 Axes>"
      ]
     },
     "metadata": {
      "needs_background": "light"
     },
     "output_type": "display_data"
    }
   ],
   "source": [
    "plt.imshow(X_train_5[0].reshape(IMAGE_WIDTH,IMAGE_HEIGHT), cmap=\"Greys\")\n",
    "plt.title('With noise exemple')\n",
    "plt.show()\n",
    "\n",
    "\n",
    "plt.imshow(Y_test_5[0].reshape(IMAGE_WIDTH,IMAGE_HEIGHT), cmap=\"Greys\")\n",
    "plt.title('Without noise exemple')\n",
    "plt.show()"
   ]
  },
  {
   "cell_type": "markdown",
   "metadata": {},
   "source": [
    "## d.Model training"
   ]
  },
  {
   "cell_type": "code",
   "execution_count": 224,
   "metadata": {
    "collapsed": true
   },
   "outputs": [
    {
     "ename": "ValueError",
     "evalue": "Error when checking target: expected dense_101 to have 2 dimensions, but got array with shape (500, 72, 72, 1)",
     "output_type": "error",
     "traceback": [
      "\u001b[0;31m---------------------------------------------------------------------------\u001b[0m",
      "\u001b[0;31mValueError\u001b[0m                                Traceback (most recent call last)",
      "\u001b[0;32m<ipython-input-224-89e0bc862ff0>\u001b[0m in \u001b[0;36m<module>\u001b[0;34m\u001b[0m\n\u001b[1;32m     28\u001b[0m     metrics=['accuracy'])\n\u001b[1;32m     29\u001b[0m \u001b[0;34m\u001b[0m\u001b[0m\n\u001b[0;32m---> 30\u001b[0;31m \u001b[0mmodel6\u001b[0m\u001b[0;34m.\u001b[0m\u001b[0mfit\u001b[0m\u001b[0;34m(\u001b[0m\u001b[0mX_train_5\u001b[0m\u001b[0;34m,\u001b[0m \u001b[0mY_train_5\u001b[0m\u001b[0;34m,\u001b[0m \u001b[0mepochs\u001b[0m\u001b[0;34m=\u001b[0m \u001b[0;36m10\u001b[0m\u001b[0;34m,\u001b[0m \u001b[0mbatch_size\u001b[0m \u001b[0;34m=\u001b[0m \u001b[0;36m20\u001b[0m\u001b[0;34m,\u001b[0m \u001b[0mvalidation_split\u001b[0m \u001b[0;34m=\u001b[0m \u001b[0;36m0.2\u001b[0m\u001b[0;34m)\u001b[0m\u001b[0;34m\u001b[0m\u001b[0;34m\u001b[0m\u001b[0m\n\u001b[0m",
      "\u001b[0;32m~/.local/lib/python3.6/site-packages/keras/engine/training.py\u001b[0m in \u001b[0;36mfit\u001b[0;34m(self, x, y, batch_size, epochs, verbose, callbacks, validation_split, validation_data, shuffle, class_weight, sample_weight, initial_epoch, steps_per_epoch, validation_steps, **kwargs)\u001b[0m\n\u001b[1;32m    950\u001b[0m             \u001b[0msample_weight\u001b[0m\u001b[0;34m=\u001b[0m\u001b[0msample_weight\u001b[0m\u001b[0;34m,\u001b[0m\u001b[0;34m\u001b[0m\u001b[0;34m\u001b[0m\u001b[0m\n\u001b[1;32m    951\u001b[0m             \u001b[0mclass_weight\u001b[0m\u001b[0;34m=\u001b[0m\u001b[0mclass_weight\u001b[0m\u001b[0;34m,\u001b[0m\u001b[0;34m\u001b[0m\u001b[0;34m\u001b[0m\u001b[0m\n\u001b[0;32m--> 952\u001b[0;31m             batch_size=batch_size)\n\u001b[0m\u001b[1;32m    953\u001b[0m         \u001b[0;31m# Prepare validation data.\u001b[0m\u001b[0;34m\u001b[0m\u001b[0;34m\u001b[0m\u001b[0;34m\u001b[0m\u001b[0m\n\u001b[1;32m    954\u001b[0m         \u001b[0mdo_validation\u001b[0m \u001b[0;34m=\u001b[0m \u001b[0;32mFalse\u001b[0m\u001b[0;34m\u001b[0m\u001b[0;34m\u001b[0m\u001b[0m\n",
      "\u001b[0;32m~/.local/lib/python3.6/site-packages/keras/engine/training.py\u001b[0m in \u001b[0;36m_standardize_user_data\u001b[0;34m(self, x, y, sample_weight, class_weight, check_array_lengths, batch_size)\u001b[0m\n\u001b[1;32m    787\u001b[0m                 \u001b[0mfeed_output_shapes\u001b[0m\u001b[0;34m,\u001b[0m\u001b[0;34m\u001b[0m\u001b[0;34m\u001b[0m\u001b[0m\n\u001b[1;32m    788\u001b[0m                 \u001b[0mcheck_batch_axis\u001b[0m\u001b[0;34m=\u001b[0m\u001b[0;32mFalse\u001b[0m\u001b[0;34m,\u001b[0m  \u001b[0;31m# Don't enforce the batch size.\u001b[0m\u001b[0;34m\u001b[0m\u001b[0;34m\u001b[0m\u001b[0m\n\u001b[0;32m--> 789\u001b[0;31m                 exception_prefix='target')\n\u001b[0m\u001b[1;32m    790\u001b[0m \u001b[0;34m\u001b[0m\u001b[0m\n\u001b[1;32m    791\u001b[0m             \u001b[0;31m# Generate sample-wise weight values given the `sample_weight` and\u001b[0m\u001b[0;34m\u001b[0m\u001b[0;34m\u001b[0m\u001b[0;34m\u001b[0m\u001b[0m\n",
      "\u001b[0;32m~/.local/lib/python3.6/site-packages/keras/engine/training_utils.py\u001b[0m in \u001b[0;36mstandardize_input_data\u001b[0;34m(data, names, shapes, check_batch_axis, exception_prefix)\u001b[0m\n\u001b[1;32m    126\u001b[0m                         \u001b[0;34m': expected '\u001b[0m \u001b[0;34m+\u001b[0m \u001b[0mnames\u001b[0m\u001b[0;34m[\u001b[0m\u001b[0mi\u001b[0m\u001b[0;34m]\u001b[0m \u001b[0;34m+\u001b[0m \u001b[0;34m' to have '\u001b[0m \u001b[0;34m+\u001b[0m\u001b[0;34m\u001b[0m\u001b[0;34m\u001b[0m\u001b[0m\n\u001b[1;32m    127\u001b[0m                         \u001b[0mstr\u001b[0m\u001b[0;34m(\u001b[0m\u001b[0mlen\u001b[0m\u001b[0;34m(\u001b[0m\u001b[0mshape\u001b[0m\u001b[0;34m)\u001b[0m\u001b[0;34m)\u001b[0m \u001b[0;34m+\u001b[0m \u001b[0;34m' dimensions, but got array '\u001b[0m\u001b[0;34m\u001b[0m\u001b[0;34m\u001b[0m\u001b[0m\n\u001b[0;32m--> 128\u001b[0;31m                         'with shape ' + str(data_shape))\n\u001b[0m\u001b[1;32m    129\u001b[0m                 \u001b[0;32mif\u001b[0m \u001b[0;32mnot\u001b[0m \u001b[0mcheck_batch_axis\u001b[0m\u001b[0;34m:\u001b[0m\u001b[0;34m\u001b[0m\u001b[0;34m\u001b[0m\u001b[0m\n\u001b[1;32m    130\u001b[0m                     \u001b[0mdata_shape\u001b[0m \u001b[0;34m=\u001b[0m \u001b[0mdata_shape\u001b[0m\u001b[0;34m[\u001b[0m\u001b[0;36m1\u001b[0m\u001b[0;34m:\u001b[0m\u001b[0;34m]\u001b[0m\u001b[0;34m\u001b[0m\u001b[0;34m\u001b[0m\u001b[0m\n",
      "\u001b[0;31mValueError\u001b[0m: Error when checking target: expected dense_101 to have 2 dimensions, but got array with shape (500, 72, 72, 1)"
     ]
    }
   ],
   "source": [
    "model6 = Sequential()\n",
    "\n",
    "model6.add(\n",
    "    Conv2D(\n",
    "        32, \n",
    "        kernel_size=(3,3),\n",
    "        activation='relu',\n",
    "        input_shape=input_shape_5\n",
    "    )\n",
    ")\n",
    "model6.add(MaxPooling2D(pool_size=(2, 2)))\n",
    "\n",
    "model6.add(Conv2D(64, kernel_size=(3,3),activation='relu'))\n",
    "model6.add(MaxPooling2D(pool_size=(2, 2)))\n",
    "\n",
    "model6.add(Conv2D(32, kernel_size=(3,3),activation='relu'))\n",
    "model6.add(MaxPooling2D(pool_size=(2, 2)))\n",
    "\n",
    "model6.add(Dropout(rate=0.5))\n",
    "model6.add(Flatten())\n",
    "model6.add(Dense(64, activation='relu'))\n",
    "\n",
    "model6.add(Dense(6, activation='softmax'))\n",
    "\n",
    "model6.compile(\n",
    "    loss='mean_squared_error', \n",
    "    optimizer='adam',\n",
    "    metrics=['accuracy'])\n",
    "\n",
    "model6.fit(X_train_5, Y_train_5, epochs= 10, batch_size = 20, validation_split = 0.2)"
   ]
  },
  {
   "cell_type": "markdown",
   "metadata": {},
   "source": [
    "We are now able te generate a denoised image thanks to the shape recogniton. We could expect better results with models train on a computer able to compute them during more time and with less danger for  the laptop with the CPU rise."
   ]
  },
  {
   "cell_type": "markdown",
   "metadata": {},
   "source": [
    "## e.Testing the model"
   ]
  },
  {
   "cell_type": "code",
   "execution_count": 227,
   "metadata": {},
   "outputs": [],
   "source": [
    "def reshape_2(vector):\n",
    "    return vector.reshape(IMAGE_WIDTH, IMAGE_HEIGHT)"
   ]
  },
  {
   "cell_type": "code",
   "execution_count": null,
   "metadata": {},
   "outputs": [],
   "source": [
    "Y_pred_5 = model6.predict(X_test_5)"
   ]
  },
  {
   "cell_type": "code",
   "execution_count": 228,
   "metadata": {},
   "outputs": [
    {
     "data": {
      "image/png": "[encoded data removed]",
      "text/plain": [
       "<Figure size 432x288 with 1 Axes>"
      ]
     },
     "metadata": {
      "needs_background": "light"
     },
     "output_type": "display_data"
    },
    {
     "data": {
      "image/png": "[encoded data removed]",
      "text/plain": [
       "<Figure size 432x288 with 1 Axes>"
      ]
     },
     "metadata": {
      "needs_background": "light"
     },
     "output_type": "display_data"
    },
    {
     "ename": "NameError",
     "evalue": "name 'Y_pred_5' is not defined",
     "output_type": "error",
     "traceback": [
      "\u001b[0;31m---------------------------------------------------------------------------\u001b[0m",
      "\u001b[0;31mNameError\u001b[0m                                 Traceback (most recent call last)",
      "\u001b[0;32m<ipython-input-228-ab0d2fef9d78>\u001b[0m in \u001b[0;36m<module>\u001b[0;34m\u001b[0m\n\u001b[1;32m      7\u001b[0m \u001b[0mplt\u001b[0m\u001b[0;34m.\u001b[0m\u001b[0mshow\u001b[0m\u001b[0;34m(\u001b[0m\u001b[0;34m)\u001b[0m\u001b[0;34m\u001b[0m\u001b[0;34m\u001b[0m\u001b[0m\n\u001b[1;32m      8\u001b[0m \u001b[0;34m\u001b[0m\u001b[0m\n\u001b[0;32m----> 9\u001b[0;31m \u001b[0mplt\u001b[0m\u001b[0;34m.\u001b[0m\u001b[0mimshow\u001b[0m\u001b[0;34m(\u001b[0m\u001b[0mreshape_2\u001b[0m\u001b[0;34m(\u001b[0m\u001b[0mY_pred_5\u001b[0m\u001b[0;34m[\u001b[0m\u001b[0;36m0\u001b[0m\u001b[0;34m]\u001b[0m\u001b[0;34m)\u001b[0m\u001b[0;34m,\u001b[0m \u001b[0mcmap\u001b[0m\u001b[0;34m=\u001b[0m \u001b[0;34m'Greys'\u001b[0m\u001b[0;34m)\u001b[0m\u001b[0;34m\u001b[0m\u001b[0;34m\u001b[0m\u001b[0m\n\u001b[0m\u001b[1;32m     10\u001b[0m \u001b[0mplt\u001b[0m\u001b[0;34m.\u001b[0m\u001b[0mshow\u001b[0m\u001b[0;34m(\u001b[0m\u001b[0;34m)\u001b[0m\u001b[0;34m\u001b[0m\u001b[0;34m\u001b[0m\u001b[0m\n",
      "\u001b[0;31mNameError\u001b[0m: name 'Y_pred_5' is not defined"
     ]
    }
   ],
   "source": [
    "plt.imshow(reshape_2(X_test_5[0]), cmap= 'Greys')\n",
    "plt.title('With Noise')\n",
    "plt.show()\n",
    "\n",
    "plt.imshow(reshape_2(Y_test_5[0]), cmap= 'Greys')\n",
    "plt.title('With no noise')\n",
    "plt.show()\n",
    "\n",
    "plt.imshow(reshape_2(Y_pred_5[0]), cmap= 'Greys')\n",
    "plt.show()"
   ]
  }
 ],
 "metadata": {
  "kernelspec": {
   "display_name": "Python 3",
   "language": "python",
   "name": "python3"
  },
  "language_info": {
   "codemirror_mode": {
    "name": "ipython",
    "version": 3
   },
   "file_extension": ".py",
   "mimetype": "text/x-python",
   "name": "python",
   "nbconvert_exporter": "python",
   "pygments_lexer": "ipython3",
   "version": "3.6.7"
  }
 },
 "nbformat": 4,
 "nbformat_minor": 2
}
