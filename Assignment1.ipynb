{
 "cells": [
  {
   "cell_type": "code",
   "execution_count": 2,
   "metadata": {},
   "outputs": [
    {
     "name": "stdout",
     "output_type": "stream",
     "text": [
      "Creating data:\n",
      "0\n",
      "10\n",
      "20\n",
      "30\n",
      "40\n",
      "50\n",
      "60\n",
      "70\n",
      "80\n",
      "90\n",
      "100\n",
      "110\n",
      "120\n",
      "130\n",
      "140\n",
      "150\n",
      "160\n",
      "170\n",
      "180\n",
      "190\n",
      "200\n",
      "210\n",
      "220\n",
      "230\n",
      "240\n",
      "250\n",
      "260\n",
      "270\n",
      "280\n",
      "290\n"
     ]
    },
    {
     "data": {
      "image/png": "[encoded data removed]",
      "text/plain": [
       "<Figure size 432x288 with 1 Axes>"
      ]
     },
     "metadata": {
      "needs_background": "light"
     },
     "output_type": "display_data"
    }
   ],
   "source": [
    "# Import libraries and generate data\n",
    "import mp1 as data_generation\n",
    "import keras.backend as K\n",
    "from keras.models import Sequential\n",
    "from keras.layers import Dense, Activation, Dropout, Conv2D, MaxPooling2D, Flatten\n",
    "from keras.optimizers import SGD, Adam\n",
    "from keras.utils import np_utils\n",
    "import numpy as np\n",
    "\n",
    "[X_train_raw, Y_train_raw] = data_generation.generate_dataset_classification(300, 20, True)\n"
   ]
  },
  {
   "cell_type": "code",
   "execution_count": 45,
   "metadata": {},
   "outputs": [
    {
     "name": "stdout",
     "output_type": "stream",
     "text": [
      "X_train shape (300, 5184) Y_train shape (300,)\n",
      "X_train shape (300, 72, 72, 1) Y_train shape (300, 3)\n"
     ]
    }
   ],
   "source": [
    "print(\"X_train shape\", X_train_raw.shape, \"Y_train shape\", Y_train_raw.shape)\n",
    "X_train = X_train_raw.reshape(-1, 72, 72, 1)\n",
    "Y_train = np_utils.to_categorical(Y_train_raw)\n",
    "print(\"X_train shape\", X_train.shape, \"Y_train shape\", Y_train.shape)"
   ]
  },
  {
   "cell_type": "code",
   "execution_count": 46,
   "metadata": {},
   "outputs": [],
   "source": [
    "# Defining a classifier\n",
    "K.clear_session()"
   ]
  },
  {
   "cell_type": "code",
   "execution_count": 47,
   "metadata": {},
   "outputs": [],
   "source": [
    "# Building a model\n",
    "classifier = Sequential()\n",
    "classifier.add(Conv2D(16, kernel_size=(5,5), input_shape = (X_train.shape[1], X_train.shape[2],1), activation = 'relu'))\n",
    "classifier.add(MaxPooling2D(pool_size=(2,2)))\n",
    "classifier.add(Flatten())\n",
    "classifier.add(Dropout(.25))\n",
    "classifier.add(Dense(20, activation = 'relu'))\n",
    "classifier.add(Dense(3, activation = 'softmax'))\n",
    "\n",
    "#%% Compiling\n",
    "\n",
    "classifier.compile(optimizer = 'adam', loss = 'categorical_crossentropy', metrics = ['accuracy'])"
   ]
  },
  {
   "cell_type": "code",
   "execution_count": 48,
   "metadata": {
    "scrolled": true
   },
   "outputs": [
    {
     "name": "stdout",
     "output_type": "stream",
     "text": [
      "Epoch 1/20\n",
      "300/300 [==============================] - 1s 4ms/step - loss: 1.1411 - acc: 0.3867\n",
      "Epoch 2/20\n",
      "300/300 [==============================] - 1s 3ms/step - loss: 0.9294 - acc: 0.6000\n",
      "Epoch 3/20\n",
      "300/300 [==============================] - 1s 3ms/step - loss: 0.7943 - acc: 0.6833\n",
      "Epoch 4/20\n",
      "300/300 [==============================] - 1s 3ms/step - loss: 0.6612 - acc: 0.7900\n",
      "Epoch 5/20\n",
      "300/300 [==============================] - 1s 3ms/step - loss: 0.5790 - acc: 0.7900\n",
      "Epoch 6/20\n",
      "300/300 [==============================] - 1s 3ms/step - loss: 0.4814 - acc: 0.8433\n",
      "Epoch 7/20\n",
      "300/300 [==============================] - 1s 3ms/step - loss: 0.4380 - acc: 0.8733\n",
      "Epoch 8/20\n",
      "300/300 [==============================] - 1s 3ms/step - loss: 0.3700 - acc: 0.9000\n",
      "Epoch 9/20\n",
      "300/300 [==============================] - 1s 3ms/step - loss: 0.3540 - acc: 0.8967\n",
      "Epoch 10/20\n",
      "300/300 [==============================] - 1s 3ms/step - loss: 0.3233 - acc: 0.9100\n",
      "Epoch 11/20\n",
      "300/300 [==============================] - 1s 3ms/step - loss: 0.2525 - acc: 0.9733\n",
      "Epoch 12/20\n",
      "300/300 [==============================] - 1s 3ms/step - loss: 0.2355 - acc: 0.9533\n",
      "Epoch 13/20\n",
      "300/300 [==============================] - 1s 3ms/step - loss: 0.1987 - acc: 0.9767\n",
      "Epoch 14/20\n",
      "300/300 [==============================] - 1s 3ms/step - loss: 0.1777 - acc: 0.9833\n",
      "Epoch 15/20\n",
      "300/300 [==============================] - 1s 3ms/step - loss: 0.1569 - acc: 0.9900\n",
      "Epoch 16/20\n",
      "300/300 [==============================] - 1s 3ms/step - loss: 0.1571 - acc: 0.9867\n",
      "Epoch 17/20\n",
      "300/300 [==============================] - 1s 3ms/step - loss: 0.1302 - acc: 0.9900\n",
      "Epoch 18/20\n",
      "300/300 [==============================] - 1s 3ms/step - loss: 0.1195 - acc: 0.9933\n",
      "Epoch 19/20\n",
      "300/300 [==============================] - 1s 3ms/step - loss: 0.0951 - acc: 1.0000\n",
      "Epoch 20/20\n",
      "300/300 [==============================] - 1s 3ms/step - loss: 0.0868 - acc: 1.0000\n"
     ]
    },
    {
     "data": {
      "text/plain": [
       "<keras.callbacks.History at 0x7f67c80641d0>"
      ]
     },
     "execution_count": 48,
     "metadata": {},
     "output_type": "execute_result"
    }
   ],
   "source": [
    "# Compiling and training\n",
    "classifier.compile(optimizer = 'adam', loss = 'categorical_crossentropy', metrics = ['accuracy'])\n",
    "\n",
    "classifier.fit(X_train, Y_train, epochs = 20, batch_size = 32, verbose = 1)"
   ]
  },
  {
   "cell_type": "code",
   "execution_count": 3,
   "metadata": {},
   "outputs": [
    {
     "name": "stdout",
     "output_type": "stream",
     "text": [
      "Creating data:\n",
      "0\n",
      "10\n",
      "20\n",
      "30\n",
      "40\n",
      "50\n",
      "60\n",
      "70\n",
      "80\n",
      "90\n",
      "100\n",
      "110\n",
      "120\n",
      "130\n",
      "140\n",
      "150\n",
      "160\n",
      "170\n",
      "180\n",
      "190\n",
      "200\n",
      "210\n",
      "220\n",
      "230\n",
      "240\n",
      "250\n",
      "260\n",
      "270\n",
      "280\n",
      "290\n"
     ]
    }
   ],
   "source": [
    "# Get test data\n",
    "from keras.utils import np_utils\n",
    "[X_test_raw, Y_test_raw] = data_generation.generate_test_set_classification()"
   ]
  },
  {
   "cell_type": "code",
   "execution_count": null,
   "metadata": {},
   "outputs": [],
   "source": [
    "# Reshape Test\n",
    "X_test = X_test.reshape(-1, 72, 72, 1)\n",
    "Y_test = Y_test_raw"
   ]
  }
 ],
 "metadata": {
  "kernelspec": {
   "display_name": "Python 3",
   "language": "python",
   "name": "python3"
  },
  "language_info": {
   "codemirror_mode": {
    "name": "ipython",
    "version": 3
   },
   "file_extension": ".py",
   "mimetype": "text/x-python",
   "name": "python",
   "nbconvert_exporter": "python",
   "pygments_lexer": "ipython3",
   "version": "3.6.7"
  }
 },
 "nbformat": 4,
 "nbformat_minor": 2
}
